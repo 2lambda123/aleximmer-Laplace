{
 "cells": [
  {
   "cell_type": "code",
   "execution_count": 147,
   "id": "d6162c41",
   "metadata": {},
   "outputs": [],
   "source": [
    "import numpy as np\n",
    "import pandas as pd\n",
    "import matplotlib.pyplot as plt\n",
    "import torch\n",
    "import time\n",
    "\n",
    "import sys; sys.path.insert(0, '../')\n",
    "\n",
    "from laplace.baselaplace import FullLaplace, FunctionalLaplace\n",
    "from tests.utils import toy_model, toy_multivariate_regression_dataset\n",
    "from laplace.curvature.backpack import BackPackGP"
   ]
  },
  {
   "cell_type": "code",
   "execution_count": 74,
   "id": "30e45d5b",
   "metadata": {},
   "outputs": [
    {
     "data": {
      "text/plain": [
       "<torch._C.Generator at 0x7fabf84b9630>"
      ]
     },
     "execution_count": 74,
     "metadata": {},
     "output_type": "execute_result"
    }
   ],
   "source": [
    "torch.manual_seed(711)"
   ]
  },
  {
   "cell_type": "markdown",
   "id": "739334b6",
   "metadata": {},
   "source": [
    "## 0) utils"
   ]
  },
  {
   "cell_type": "code",
   "execution_count": 6,
   "id": "5fadab26",
   "metadata": {},
   "outputs": [],
   "source": [
    "# modifed test from test_functional_laplace.py (return statements instead of assert statements)\n",
    "def test_gp_equivalence_regression_multivariate(d=10, independent_gp_kernels=False, true_sigma_noise=0.1):\n",
    "    X_train, y_train, train_loader, X_test = toy_multivariate_regression_dataset(sigma=true_sigma_noise,\n",
    "                                                                                 d_input=d,\n",
    "                                                                                 batch_size=60)\n",
    "    model = toy_model(train_loader, in_dim=d, out_dim=d)\n",
    "\n",
    "    full_la = FullLaplace(model, 'regression', sigma_noise=true_sigma_noise, prior_precision=2.0)\n",
    "    functional_gp_la = FunctionalLaplace(model, 'regression', M=len(X_train),\n",
    "                                         sigma_noise=true_sigma_noise, \n",
    "                                         independent_gp_kernels=independent_gp_kernels, prior_precision=2.0)\n",
    "    full_la.fit(train_loader)\n",
    "    functional_gp_la.fit(train_loader)\n",
    "\n",
    "    f_mu_full, f_var_full = full_la(X_test)\n",
    "    f_mu_gp, f_var_gp = functional_gp_la(X_test)\n",
    "\n",
    "    f_mu_full = f_mu_full.squeeze().detach().cpu().numpy()\n",
    "    f_var_full = f_var_full.squeeze().detach().cpu().numpy()\n",
    "    f_mu_gp = f_mu_gp.squeeze().detach().cpu().numpy()\n",
    "    f_var_gp = f_var_gp.squeeze().detach().cpu().numpy()\n",
    "\n",
    "    assert np.allclose(f_mu_full, f_mu_gp)\n",
    "    # if float64 is used instead of float32, one can use atol=1e-10 in assert below\n",
    "    # assert np.allclose(f_var_full, f_var_gp, atol=1e-2)\n",
    "    return f_var_full, f_var_gp"
   ]
  },
  {
   "cell_type": "code",
   "execution_count": 73,
   "id": "f49005f9",
   "metadata": {},
   "outputs": [],
   "source": [
    "def evaluate_config(d_min, d_max, independent_gp_kernels):\n",
    "    var_dict = {}\n",
    "    time_dict = {}\n",
    "    for d in range(d_min, d_max + 1):\n",
    "        start = time.time()\n",
    "        f_var_full, f_var_gp = test_gp_equivalence_regression_multivariate(d=d, \n",
    "                                                                           independent_gp_kernels=independent_gp_kernels)\n",
    "        end = time.time()\n",
    "        var_dict[d] = (f_var_full, f_var_gp)\n",
    "        time_dict[d] = round(end - start, 2)\n",
    "        \n",
    "    for d, f_var in var_dict.items():\n",
    "        \n",
    "        if d > 1 and independent_gp_kernels: # can only compare diagonals\n",
    "            diffs = np.abs(np.diagonal(f_var[0], axis1=1, axis2=2) - f_var[1])\n",
    "        else:\n",
    "            diffs = np.abs(f_var[0] - f_var[1])\n",
    "        print(f\"{d}: max abs diff {np.max(diffs):.4f}, mean abs diff {np.mean(diffs):.4f}, elapsed time {time_dict[d]}\")\n",
    "        \n",
    "    return var_dict, time_dict"
   ]
  },
  {
   "cell_type": "code",
   "execution_count": 145,
   "id": "d4340a7e",
   "metadata": {},
   "outputs": [],
   "source": [
    "def get_K_MM(d, true_sigma_noise=0.1):\n",
    "    X_train, y_train, train_loader, X_test = toy_multivariate_regression_dataset(sigma=true_sigma_noise,\n",
    "                                                                                 d_input=d,\n",
    "                                                                                 batch_size=60)\n",
    "    model = toy_model(train_loader, in_dim=d, out_dim=d)\n",
    "    functional_gp_la = FunctionalLaplace(model, 'regression', M=len(X_train),\n",
    "                                         sigma_noise=true_sigma_noise, \n",
    "                                         independent_gp_kernels=False, prior_precision=2.0)\n",
    "    functional_gp_la.fit(train_loader)\n",
    "    K_MM = functional_gp_la.K_MM.detach().cpu().numpy()\n",
    "    return K_MM"
   ]
  },
  {
   "cell_type": "code",
   "execution_count": 146,
   "id": "cd7649d9",
   "metadata": {},
   "outputs": [],
   "source": [
    "def get_jacobians(d, true_sigma_noise=0.1):\n",
    "    X_train, y_train, train_loader, X_test = toy_multivariate_regression_dataset(sigma=true_sigma_noise,\n",
    "                                                                                 d_input=d,\n",
    "                                                                                 batch_size=60)\n",
    "    model = toy_model(train_loader, in_dim=d, out_dim=d)\n",
    "    \n",
    "    setattr(model, 'output_size', d)\n",
    "    backend = BackPackGP(model, likelihood=\"regression\")\n",
    "    \n",
    "    jacobians = []\n",
    "    for batch in train_loader:\n",
    "        X, y = batch\n",
    "        Js, f = backend.jacobians(model, X)\n",
    "        jacobians.append(Js)\n",
    "        \n",
    "    jacobians = torch.cat(jacobians, dim=0)\n",
    "    return jacobians"
   ]
  },
  {
   "cell_type": "markdown",
   "id": "3d2900e0",
   "metadata": {},
   "source": [
    "## 1) Full kernel\n",
    "\n",
    "`independent_gp_kernels=False`"
   ]
  },
  {
   "cell_type": "code",
   "execution_count": 75,
   "id": "4fce8dba",
   "metadata": {},
   "outputs": [
    {
     "name": "stdout",
     "output_type": "stream",
     "text": [
      "1: max abs diff 0.0011, mean abs diff 0.0001, elapsed time 1.16\n",
      "2: max abs diff 0.0016, mean abs diff 0.0001, elapsed time 1.4\n",
      "3: max abs diff 0.0015, mean abs diff 0.0001, elapsed time 1.78\n",
      "4: max abs diff 0.0030, mean abs diff 0.0001, elapsed time 2.57\n",
      "5: max abs diff 0.0012, mean abs diff 0.0001, elapsed time 3.86\n",
      "6: max abs diff 0.0014, mean abs diff 0.0001, elapsed time 5.59\n",
      "7: max abs diff 0.0011, mean abs diff 0.0000, elapsed time 7.37\n",
      "8: max abs diff 0.0008, mean abs diff 0.0000, elapsed time 10.12\n",
      "9: max abs diff 0.0010, mean abs diff 0.0000, elapsed time 14.33\n",
      "10: max abs diff 0.0029, mean abs diff 0.0000, elapsed time 18.29\n"
     ]
    }
   ],
   "source": [
    "var_dict_full, time_dict_full = evaluate_config(1, 10, False)"
   ]
  },
  {
   "cell_type": "markdown",
   "id": "4ddbaa00",
   "metadata": {},
   "source": [
    "## 2) Block-diagonal kernel\n",
    "\n",
    "`independent_gp_kernels=True`"
   ]
  },
  {
   "cell_type": "code",
   "execution_count": 76,
   "id": "ef9916c6",
   "metadata": {},
   "outputs": [
    {
     "name": "stdout",
     "output_type": "stream",
     "text": [
      "1: max abs diff 0.0011, mean abs diff 0.0001, elapsed time 1.11\n",
      "2: max abs diff 0.1224, mean abs diff 0.0066, elapsed time 1.22\n",
      "3: max abs diff 0.5604, mean abs diff 0.0413, elapsed time 1.24\n",
      "4: max abs diff 2.1054, mean abs diff 0.1937, elapsed time 1.52\n",
      "5: max abs diff 2.6013, mean abs diff 0.4316, elapsed time 1.44\n",
      "6: max abs diff 5.6491, mean abs diff 1.1871, elapsed time 1.64\n",
      "7: max abs diff 22.6305, mean abs diff 3.1263, elapsed time 1.78\n",
      "8: max abs diff 21.7142, mean abs diff 4.3904, elapsed time 1.89\n",
      "9: max abs diff 37.7440, mean abs diff 6.1576, elapsed time 2.19\n",
      "10: max abs diff 45.3835, mean abs diff 8.5579, elapsed time 2.23\n"
     ]
    }
   ],
   "source": [
    "var_dict_block_diagonal, time_dict_block_diagonal = evaluate_config(1, 10, True)"
   ]
  },
  {
   "cell_type": "markdown",
   "id": "99e5e73e",
   "metadata": {},
   "source": [
    "## 3) Comparison"
   ]
  },
  {
   "cell_type": "markdown",
   "id": "a72ff2ab",
   "metadata": {},
   "source": [
    "#### 3.1 Time"
   ]
  },
  {
   "cell_type": "code",
   "execution_count": 78,
   "id": "fe5d31fc",
   "metadata": {},
   "outputs": [
    {
     "data": {
      "image/png": "[encoded data removed]",
      "text/plain": [
       "<Figure size 432x288 with 1 Axes>"
      ]
     },
     "metadata": {
      "needs_background": "light"
     },
     "output_type": "display_data"
    }
   ],
   "source": [
    "plt.plot(time_dict_full.keys(), time_dict_full.values(), \n",
    "         color=\"blue\", label=\"full kernel\")\n",
    "plt.plot(time_dict_block_diagonal.keys(), time_dict_block_diagonal.values(), \n",
    "         color=\"red\", label=\"block-diagonal kernel\")\n",
    "plt.legend(loc=\"best\")\n",
    "plt.ylabel(\"time [s]\")\n",
    "plt.xlabel(\"C (output dimension)\")\n",
    "plt.show()"
   ]
  },
  {
   "cell_type": "markdown",
   "id": "26dfec86",
   "metadata": {},
   "source": [
    "#### 3.2 Max absolute difference to FullLaplace"
   ]
  },
  {
   "cell_type": "code",
   "execution_count": 79,
   "id": "06ec92b1",
   "metadata": {},
   "outputs": [],
   "source": [
    "diffs_full = [np.max(np.abs(f_var[0] - f_var[1])) for _, f_var in var_dict_full.items()]"
   ]
  },
  {
   "cell_type": "code",
   "execution_count": 80,
   "id": "1e2e9ecd",
   "metadata": {},
   "outputs": [],
   "source": [
    "diffs_block_diagonal = []\n",
    "for d, f_var in var_dict_block_diagonal.items():\n",
    "    if d > 1:\n",
    "        diffs_block_diagonal.append(round(np.max(np.abs(np.diagonal(f_var[0], axis1=1, axis2=2) - f_var[1])), 4))\n",
    "    else:\n",
    "        diffs_block_diagonal.append(round(np.max(np.abs(f_var[0] - f_var[1])), 4))"
   ]
  },
  {
   "cell_type": "code",
   "execution_count": 81,
   "id": "f7ddd583",
   "metadata": {},
   "outputs": [
    {
     "data": {
      "image/png": "[encoded data removed]",
      "text/plain": [
       "<Figure size 1080x360 with 2 Axes>"
      ]
     },
     "metadata": {
      "needs_background": "light"
     },
     "output_type": "display_data"
    }
   ],
   "source": [
    "fig, axs = plt.subplots(1, 2, figsize=(15, 5))\n",
    "axs[0].plot(var_dict_full.keys(), diffs_full)\n",
    "axs[0].set_title(\"Full kernel\")\n",
    "axs[1].plot(var_dict_block_diagonal.keys(), diffs_block_diagonal)\n",
    "axs[1].set_title(\"Block diagonal kernel\")\n",
    "\n",
    "for ax in axs.flat:\n",
    "    ax.set(xlabel='C (output dimension)', ylabel='max abs diff with FullLaplace')\n",
    "plt.show()"
   ]
  },
  {
   "cell_type": "markdown",
   "id": "45f36fa2",
   "metadata": {},
   "source": [
    "## 4) Closer look at Block-Diagonal kernel\n",
    "\n",
    "`independent_gp_kernels=True`"
   ]
  },
  {
   "cell_type": "code",
   "execution_count": 85,
   "id": "8d7f32c8",
   "metadata": {},
   "outputs": [
    {
     "name": "stdout",
     "output_type": "stream",
     "text": [
      "1: min difference between f_var_gp and f_var_full -0.0000\n",
      "2: min difference between f_var_gp and f_var_full 0.0000\n",
      "3: min difference between f_var_gp and f_var_full 0.0003\n",
      "4: min difference between f_var_gp and f_var_full 0.0029\n",
      "5: min difference between f_var_gp and f_var_full 0.0101\n",
      "6: min difference between f_var_gp and f_var_full 0.0586\n",
      "7: min difference between f_var_gp and f_var_full 0.1788\n",
      "8: min difference between f_var_gp and f_var_full 0.5433\n",
      "9: min difference between f_var_gp and f_var_full 0.3632\n",
      "10: min difference between f_var_gp and f_var_full 1.0527\n"
     ]
    }
   ],
   "source": [
    "for d, f_var in var_dict_block_diagonal.items():\n",
    "    # f_var_gp - f_var_full (no absolute values here)\n",
    "    if d > 1:\n",
    "        diffs = f_var[1] - np.diagonal(f_var[0], axis1=1, axis2=2)\n",
    "    else:\n",
    "        diffs = f_var[1] - f_var[0]\n",
    "        \n",
    "    print(f\"{d}: min difference between f_var_gp and f_var_full {np.min(diffs):.4f}\")"
   ]
  },
  {
   "cell_type": "markdown",
   "id": "4d81ced4",
   "metadata": {},
   "source": [
    "We see that with `independent_gp_kernels=True` we **always overestimate the uncertainty compared to FullLaplace** (or compared to FunctionalLaplace with `independent_gp_kernels=False`)"
   ]
  },
  {
   "cell_type": "markdown",
   "id": "609542fb",
   "metadata": {},
   "source": [
    "Look at $K_{MM}$:"
   ]
  },
  {
   "cell_type": "code",
   "execution_count": 123,
   "id": "5067d0dd",
   "metadata": {},
   "outputs": [],
   "source": [
    "K_MM = get_K_MM(10)"
   ]
  },
  {
   "cell_type": "code",
   "execution_count": 124,
   "id": "bb49d338",
   "metadata": {},
   "outputs": [
    {
     "data": {
      "text/plain": [
       "(1500, 1500)"
      ]
     },
     "execution_count": 124,
     "metadata": {},
     "output_type": "execute_result"
    }
   ],
   "source": [
    "K_MM.shape"
   ]
  },
  {
   "cell_type": "code",
   "execution_count": 134,
   "id": "0ae2d9ef",
   "metadata": {},
   "outputs": [],
   "source": [
    "K_MM = K_MM.reshape(-1)"
   ]
  },
  {
   "cell_type": "code",
   "execution_count": 144,
   "id": "9dafd729",
   "metadata": {},
   "outputs": [
    {
     "data": {
      "image/png": "[encoded data removed]",
      "text/plain": [
       "<Figure size 720x360 with 1 Axes>"
      ]
     },
     "metadata": {
      "needs_background": "light"
     },
     "output_type": "display_data"
    }
   ],
   "source": [
    "plt.figure(figsize=(10, 5))\n",
    "plt.hist(K_MM, bins=100);"
   ]
  },
  {
   "cell_type": "code",
   "execution_count": 136,
   "id": "c309536a",
   "metadata": {},
   "outputs": [
    {
     "data": {
      "text/plain": [
       "4.4573107"
      ]
     },
     "execution_count": 136,
     "metadata": {},
     "output_type": "execute_result"
    }
   ],
   "source": [
    "K_MM.mean()"
   ]
  },
  {
   "cell_type": "code",
   "execution_count": 138,
   "id": "66621eb8",
   "metadata": {},
   "outputs": [
    {
     "data": {
      "text/plain": [
       "1.5327489"
      ]
     },
     "execution_count": 138,
     "metadata": {},
     "output_type": "execute_result"
    }
   ],
   "source": [
    "np.median(K_MM)"
   ]
  },
  {
   "cell_type": "code",
   "execution_count": 141,
   "id": "13c51f17",
   "metadata": {},
   "outputs": [
    {
     "data": {
      "text/plain": [
       "0.5696773333333334"
      ]
     },
     "execution_count": 141,
     "metadata": {},
     "output_type": "execute_result"
    }
   ],
   "source": [
    "(K_MM > 0).sum() / len(K_MM)"
   ]
  },
  {
   "cell_type": "code",
   "execution_count": null,
   "id": "6c68be98",
   "metadata": {},
   "outputs": [],
   "source": []
  }
 ],
 "metadata": {
  "kernelspec": {
   "display_name": "laplace",
   "language": "python",
   "name": "laplace"
  },
  "language_info": {
   "codemirror_mode": {
    "name": "ipython",
    "version": 3
   },
   "file_extension": ".py",
   "mimetype": "text/x-python",
   "name": "python",
   "nbconvert_exporter": "python",
   "pygments_lexer": "ipython3",
   "version": "3.8.11"
  }
 },
 "nbformat": 4,
 "nbformat_minor": 5
}
