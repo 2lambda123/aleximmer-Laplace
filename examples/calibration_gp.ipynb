{
 "cells": [
  {
   "cell_type": "code",
   "execution_count": 1,
   "metadata": {
    "collapsed": true
   },
   "outputs": [
    {
     "name": "stderr",
     "output_type": "stream",
     "text": [
      "/home/metod/miniconda3/envs/laplace/lib/python3.8/site-packages/tqdm/auto.py:22: TqdmWarning: IProgress not found. Please update jupyter and ipywidgets. See https://ipywidgets.readthedocs.io/en/stable/user_install.html\n",
      "  from .autonotebook import tqdm as notebook_tqdm\n"
     ]
    }
   ],
   "source": [
    "import warnings\n",
    "warnings.simplefilter(\"ignore\", UserWarning)\n",
    "import pandas as pd\n",
    "import matplotlib.pyplot as plt\n",
    "import torch\n",
    "import torch.distributions as dists\n",
    "import numpy as np\n",
    "import helper.wideresnet as wrn\n",
    "import helper.dataloaders as dl\n",
    "from helper import util\n",
    "from helper.calibration_gp_utils import predict, gp_calibration_eval\n",
    "from netcal.metrics import ECE\n",
    "\n",
    "from laplace import Laplace\n",
    "\n",
    "from helper.datasets import get_dataset\n",
    "from helper.models import get_model\n",
    "from torch.utils.data import DataLoader"
   ]
  },
  {
   "cell_type": "code",
   "execution_count": 2,
   "metadata": {},
   "outputs": [],
   "source": [
    "np.random.seed(7777)\n",
    "torch.manual_seed(7777)\n",
    "torch.backends.cudnn.deterministic = True\n",
    "torch.backends.cudnn.benchmark = True"
   ]
  },
  {
   "cell_type": "code",
   "execution_count": 3,
   "metadata": {},
   "outputs": [
    {
     "name": "stdout",
     "output_type": "stream",
     "text": [
      "False\n",
      "True\n",
      "1\n",
      "0\n",
      "NVIDIA GeForce GTX 1080 Ti\n"
     ]
    }
   ],
   "source": [
    "print(torch.has_mps)\n",
    "print(torch.cuda.is_available())\n",
    "print(torch.cuda.device_count())\n",
    "print(torch.cuda.current_device())\n",
    "print(torch.cuda.get_device_name(0))"
   ]
  },
  {
   "cell_type": "markdown",
   "metadata": {},
   "source": [
    "## 1) init"
   ]
  },
  {
   "cell_type": "markdown",
   "metadata": {},
   "source": [
    "### data"
   ]
  },
  {
   "cell_type": "code",
   "execution_count": 4,
   "metadata": {},
   "outputs": [],
   "source": [
    "ds_train, ds_test = get_dataset('FMNIST', False, 'cuda')\n",
    "train_loader = DataLoader(ds_train, batch_size=128, shuffle=True)\n",
    "test_loader = DataLoader(ds_test, batch_size=100, shuffle=False)\n",
    "targets = torch.cat([y for x, y in test_loader], dim=0).cpu()"
   ]
  },
  {
   "cell_type": "code",
   "execution_count": 5,
   "metadata": {},
   "outputs": [],
   "source": [
    "# train_loader = dl.CIFAR10(train=True)\n",
    "# test_loader = dl.CIFAR10(train=False)\n",
    "# targets = torch.cat([y for x, y in test_loader], dim=0).cpu()"
   ]
  },
  {
   "cell_type": "markdown",
   "metadata": {},
   "source": [
    "### model"
   ]
  },
  {
   "cell_type": "code",
   "execution_count": 6,
   "metadata": {},
   "outputs": [],
   "source": [
    "model = get_model('CNN', ds_train).to('cuda')\n",
    "state = torch.load(\"helper/models/FMNIST_CNN_117_4.6e-01.pt\")\n",
    "model.load_state_dict(state['model'])\n",
    "model = model.cuda()"
   ]
  },
  {
   "cell_type": "code",
   "execution_count": 7,
   "metadata": {},
   "outputs": [],
   "source": [
    "# # The model is a standard WideResNet 16-4\n",
    "# # Taken as is from https://github.com/hendrycks/outlier-exposure\n",
    "# model = wrn.WideResNet(16, 4, num_classes=10).cuda().eval()\n",
    "# # print( sum(p.numel() for p in model.parameters()))\n",
    "\n",
    "# util.download_pretrained_model()\n",
    "# model.load_state_dict(torch.load('./temp/CIFAR10_plain.pt'))"
   ]
  },
  {
   "cell_type": "markdown",
   "metadata": {},
   "source": [
    "## 2) baselines"
   ]
  },
  {
   "cell_type": "markdown",
   "metadata": {},
   "source": [
    "### MAP"
   ]
  },
  {
   "cell_type": "code",
   "execution_count": 8,
   "metadata": {},
   "outputs": [
    {
     "name": "stdout",
     "output_type": "stream",
     "text": [
      "[MAP] Acc.: 92.6%; ECE: 6.0%; NLL: 0.536\n"
     ]
    }
   ],
   "source": [
    "probs_map = predict(test_loader, model, laplace=False)\n",
    "acc_map = (probs_map.argmax(-1) == targets).float().mean()\n",
    "ece_map = ECE(bins=15).measure(probs_map.numpy(), targets.numpy())\n",
    "nll_map = -dists.Categorical(probs_map).log_prob(targets).mean()\n",
    "\n",
    "print(f'[MAP] Acc.: {acc_map:.1%}; ECE: {ece_map:.1%}; NLL: {nll_map:.3}')\n",
    "MAP_METRICS = {\"acc\": acc_map, \"ece\": ece_map, \"nll\": nll_map}"
   ]
  },
  {
   "cell_type": "markdown",
   "metadata": {},
   "source": [
    "### Parametric Laplace"
   ]
  },
  {
   "cell_type": "code",
   "execution_count": 9,
   "metadata": {},
   "outputs": [
    {
     "name": "stdout",
     "output_type": "stream",
     "text": [
      "[Laplace] Acc.: 92.5%; ECE: 3.7%; NLL: 0.308\n"
     ]
    }
   ],
   "source": [
    "la = Laplace(model, 'classification',\n",
    "             subset_of_weights='last_layer',\n",
    "             hessian_structure='kron')\n",
    "la.fit(train_loader)\n",
    "la.optimize_prior_precision(method='marglik')\n",
    "\n",
    "probs_laplace = predict(test_loader, la, laplace=True)\n",
    "acc_laplace = (probs_laplace.argmax(-1) == targets).float().mean()\n",
    "ece_laplace = ECE(bins=15).measure(probs_laplace.numpy(), targets.numpy())\n",
    "nll_laplace = -dists.Categorical(probs_laplace).log_prob(targets).mean()\n",
    "\n",
    "print(f'[Laplace] Acc.: {acc_laplace:.1%}; ECE: {ece_laplace:.1%}; NLL: {nll_laplace:.3}')\n",
    "PARAM_LAPLACE_METRICS = {\"acc\": acc_laplace, \"ece\": ece_laplace, \"nll\": nll_laplace}"
   ]
  },
  {
   "attachments": {},
   "cell_type": "markdown",
   "metadata": {},
   "source": [
    "## 3) Functional Laplace (GP)"
   ]
  },
  {
   "cell_type": "code",
   "execution_count": 10,
   "metadata": {},
   "outputs": [
    {
     "name": "stdout",
     "output_type": "stream",
     "text": [
      "50 0\n",
      "[Laplace] Acc.: 92.6%; ECE: 5.6%; NLL: 0.446\n"
     ]
    },
    {
     "name": "stderr",
     "output_type": "stream",
     "text": [
      "/home/metod/Desktop/PhD/year1/laplace/examples/helper/calibration_gp_utils.py:44: FutureWarning: The frame.append method is deprecated and will be removed from pandas in a future version. Use pandas.concat instead.\n",
      "  metrics_df = metrics_df.append({'M': m, 'seed': seed, 'acc_laplace': acc_laplace,\n"
     ]
    },
    {
     "name": "stdout",
     "output_type": "stream",
     "text": [
      "50 1\n",
      "[Laplace] Acc.: 92.6%; ECE: 5.7%; NLL: 0.443\n"
     ]
    },
    {
     "name": "stderr",
     "output_type": "stream",
     "text": [
      "/home/metod/Desktop/PhD/year1/laplace/examples/helper/calibration_gp_utils.py:44: FutureWarning: The frame.append method is deprecated and will be removed from pandas in a future version. Use pandas.concat instead.\n",
      "  metrics_df = metrics_df.append({'M': m, 'seed': seed, 'acc_laplace': acc_laplace,\n"
     ]
    },
    {
     "name": "stdout",
     "output_type": "stream",
     "text": [
      "50 2\n",
      "[Laplace] Acc.: 92.5%; ECE: 5.7%; NLL: 0.439\n"
     ]
    },
    {
     "name": "stderr",
     "output_type": "stream",
     "text": [
      "/home/metod/Desktop/PhD/year1/laplace/examples/helper/calibration_gp_utils.py:44: FutureWarning: The frame.append method is deprecated and will be removed from pandas in a future version. Use pandas.concat instead.\n",
      "  metrics_df = metrics_df.append({'M': m, 'seed': seed, 'acc_laplace': acc_laplace,\n"
     ]
    },
    {
     "name": "stdout",
     "output_type": "stream",
     "text": [
      "50 3\n",
      "[Laplace] Acc.: 92.5%; ECE: 5.7%; NLL: 0.445\n"
     ]
    },
    {
     "name": "stderr",
     "output_type": "stream",
     "text": [
      "/home/metod/Desktop/PhD/year1/laplace/examples/helper/calibration_gp_utils.py:44: FutureWarning: The frame.append method is deprecated and will be removed from pandas in a future version. Use pandas.concat instead.\n",
      "  metrics_df = metrics_df.append({'M': m, 'seed': seed, 'acc_laplace': acc_laplace,\n"
     ]
    },
    {
     "name": "stdout",
     "output_type": "stream",
     "text": [
      "50 4\n",
      "[Laplace] Acc.: 92.6%; ECE: 5.7%; NLL: 0.451\n"
     ]
    },
    {
     "name": "stderr",
     "output_type": "stream",
     "text": [
      "/home/metod/Desktop/PhD/year1/laplace/examples/helper/calibration_gp_utils.py:44: FutureWarning: The frame.append method is deprecated and will be removed from pandas in a future version. Use pandas.concat instead.\n",
      "  metrics_df = metrics_df.append({'M': m, 'seed': seed, 'acc_laplace': acc_laplace,\n"
     ]
    },
    {
     "name": "stdout",
     "output_type": "stream",
     "text": [
      "100 0\n",
      "[Laplace] Acc.: 92.6%; ECE: 5.6%; NLL: 0.434\n"
     ]
    },
    {
     "name": "stderr",
     "output_type": "stream",
     "text": [
      "/home/metod/Desktop/PhD/year1/laplace/examples/helper/calibration_gp_utils.py:44: FutureWarning: The frame.append method is deprecated and will be removed from pandas in a future version. Use pandas.concat instead.\n",
      "  metrics_df = metrics_df.append({'M': m, 'seed': seed, 'acc_laplace': acc_laplace,\n"
     ]
    },
    {
     "name": "stdout",
     "output_type": "stream",
     "text": [
      "100 1\n",
      "[Laplace] Acc.: 92.6%; ECE: 5.5%; NLL: 0.434\n"
     ]
    },
    {
     "name": "stderr",
     "output_type": "stream",
     "text": [
      "/home/metod/Desktop/PhD/year1/laplace/examples/helper/calibration_gp_utils.py:44: FutureWarning: The frame.append method is deprecated and will be removed from pandas in a future version. Use pandas.concat instead.\n",
      "  metrics_df = metrics_df.append({'M': m, 'seed': seed, 'acc_laplace': acc_laplace,\n"
     ]
    },
    {
     "name": "stdout",
     "output_type": "stream",
     "text": [
      "100 2\n",
      "[Laplace] Acc.: 92.6%; ECE: 5.5%; NLL: 0.428\n"
     ]
    },
    {
     "name": "stderr",
     "output_type": "stream",
     "text": [
      "/home/metod/Desktop/PhD/year1/laplace/examples/helper/calibration_gp_utils.py:44: FutureWarning: The frame.append method is deprecated and will be removed from pandas in a future version. Use pandas.concat instead.\n",
      "  metrics_df = metrics_df.append({'M': m, 'seed': seed, 'acc_laplace': acc_laplace,\n"
     ]
    },
    {
     "name": "stdout",
     "output_type": "stream",
     "text": [
      "100 3\n",
      "[Laplace] Acc.: 92.5%; ECE: 5.5%; NLL: 0.427\n"
     ]
    },
    {
     "name": "stderr",
     "output_type": "stream",
     "text": [
      "/home/metod/Desktop/PhD/year1/laplace/examples/helper/calibration_gp_utils.py:44: FutureWarning: The frame.append method is deprecated and will be removed from pandas in a future version. Use pandas.concat instead.\n",
      "  metrics_df = metrics_df.append({'M': m, 'seed': seed, 'acc_laplace': acc_laplace,\n"
     ]
    },
    {
     "name": "stdout",
     "output_type": "stream",
     "text": [
      "100 4\n",
      "[Laplace] Acc.: 92.6%; ECE: 5.5%; NLL: 0.426\n"
     ]
    },
    {
     "name": "stderr",
     "output_type": "stream",
     "text": [
      "/home/metod/Desktop/PhD/year1/laplace/examples/helper/calibration_gp_utils.py:44: FutureWarning: The frame.append method is deprecated and will be removed from pandas in a future version. Use pandas.concat instead.\n",
      "  metrics_df = metrics_df.append({'M': m, 'seed': seed, 'acc_laplace': acc_laplace,\n"
     ]
    },
    {
     "name": "stdout",
     "output_type": "stream",
     "text": [
      "200 0\n",
      "[Laplace] Acc.: 92.5%; ECE: 5.5%; NLL: 0.417\n"
     ]
    },
    {
     "name": "stderr",
     "output_type": "stream",
     "text": [
      "/home/metod/Desktop/PhD/year1/laplace/examples/helper/calibration_gp_utils.py:44: FutureWarning: The frame.append method is deprecated and will be removed from pandas in a future version. Use pandas.concat instead.\n",
      "  metrics_df = metrics_df.append({'M': m, 'seed': seed, 'acc_laplace': acc_laplace,\n"
     ]
    },
    {
     "name": "stdout",
     "output_type": "stream",
     "text": [
      "200 1\n",
      "[Laplace] Acc.: 92.6%; ECE: 5.4%; NLL: 0.415\n"
     ]
    },
    {
     "name": "stderr",
     "output_type": "stream",
     "text": [
      "/home/metod/Desktop/PhD/year1/laplace/examples/helper/calibration_gp_utils.py:44: FutureWarning: The frame.append method is deprecated and will be removed from pandas in a future version. Use pandas.concat instead.\n",
      "  metrics_df = metrics_df.append({'M': m, 'seed': seed, 'acc_laplace': acc_laplace,\n"
     ]
    },
    {
     "name": "stdout",
     "output_type": "stream",
     "text": [
      "200 2\n",
      "[Laplace] Acc.: 92.5%; ECE: 5.6%; NLL: 0.418\n"
     ]
    },
    {
     "name": "stderr",
     "output_type": "stream",
     "text": [
      "/home/metod/Desktop/PhD/year1/laplace/examples/helper/calibration_gp_utils.py:44: FutureWarning: The frame.append method is deprecated and will be removed from pandas in a future version. Use pandas.concat instead.\n",
      "  metrics_df = metrics_df.append({'M': m, 'seed': seed, 'acc_laplace': acc_laplace,\n"
     ]
    },
    {
     "name": "stdout",
     "output_type": "stream",
     "text": [
      "200 3\n",
      "[Laplace] Acc.: 92.6%; ECE: 5.4%; NLL: 0.411\n"
     ]
    },
    {
     "name": "stderr",
     "output_type": "stream",
     "text": [
      "/home/metod/Desktop/PhD/year1/laplace/examples/helper/calibration_gp_utils.py:44: FutureWarning: The frame.append method is deprecated and will be removed from pandas in a future version. Use pandas.concat instead.\n",
      "  metrics_df = metrics_df.append({'M': m, 'seed': seed, 'acc_laplace': acc_laplace,\n"
     ]
    },
    {
     "name": "stdout",
     "output_type": "stream",
     "text": [
      "200 4\n",
      "[Laplace] Acc.: 92.4%; ECE: 5.6%; NLL: 0.416\n"
     ]
    },
    {
     "name": "stderr",
     "output_type": "stream",
     "text": [
      "/home/metod/Desktop/PhD/year1/laplace/examples/helper/calibration_gp_utils.py:44: FutureWarning: The frame.append method is deprecated and will be removed from pandas in a future version. Use pandas.concat instead.\n",
      "  metrics_df = metrics_df.append({'M': m, 'seed': seed, 'acc_laplace': acc_laplace,\n"
     ]
    },
    {
     "name": "stdout",
     "output_type": "stream",
     "text": [
      "400 0\n",
      "[Laplace] Acc.: 92.5%; ECE: 5.3%; NLL: 0.396\n"
     ]
    },
    {
     "name": "stderr",
     "output_type": "stream",
     "text": [
      "/home/metod/Desktop/PhD/year1/laplace/examples/helper/calibration_gp_utils.py:44: FutureWarning: The frame.append method is deprecated and will be removed from pandas in a future version. Use pandas.concat instead.\n",
      "  metrics_df = metrics_df.append({'M': m, 'seed': seed, 'acc_laplace': acc_laplace,\n"
     ]
    },
    {
     "name": "stdout",
     "output_type": "stream",
     "text": [
      "400 1\n",
      "[Laplace] Acc.: 92.5%; ECE: 5.3%; NLL: 0.402\n"
     ]
    },
    {
     "name": "stderr",
     "output_type": "stream",
     "text": [
      "/home/metod/Desktop/PhD/year1/laplace/examples/helper/calibration_gp_utils.py:44: FutureWarning: The frame.append method is deprecated and will be removed from pandas in a future version. Use pandas.concat instead.\n",
      "  metrics_df = metrics_df.append({'M': m, 'seed': seed, 'acc_laplace': acc_laplace,\n"
     ]
    },
    {
     "name": "stdout",
     "output_type": "stream",
     "text": [
      "400 2\n",
      "[Laplace] Acc.: 92.6%; ECE: 5.3%; NLL: 0.402\n"
     ]
    },
    {
     "name": "stderr",
     "output_type": "stream",
     "text": [
      "/home/metod/Desktop/PhD/year1/laplace/examples/helper/calibration_gp_utils.py:44: FutureWarning: The frame.append method is deprecated and will be removed from pandas in a future version. Use pandas.concat instead.\n",
      "  metrics_df = metrics_df.append({'M': m, 'seed': seed, 'acc_laplace': acc_laplace,\n"
     ]
    },
    {
     "name": "stdout",
     "output_type": "stream",
     "text": [
      "400 3\n",
      "[Laplace] Acc.: 92.5%; ECE: 5.3%; NLL: 0.396\n"
     ]
    },
    {
     "name": "stderr",
     "output_type": "stream",
     "text": [
      "/home/metod/Desktop/PhD/year1/laplace/examples/helper/calibration_gp_utils.py:44: FutureWarning: The frame.append method is deprecated and will be removed from pandas in a future version. Use pandas.concat instead.\n",
      "  metrics_df = metrics_df.append({'M': m, 'seed': seed, 'acc_laplace': acc_laplace,\n"
     ]
    },
    {
     "name": "stdout",
     "output_type": "stream",
     "text": [
      "400 4\n",
      "[Laplace] Acc.: 92.5%; ECE: 5.3%; NLL: 0.396\n"
     ]
    },
    {
     "name": "stderr",
     "output_type": "stream",
     "text": [
      "/home/metod/Desktop/PhD/year1/laplace/examples/helper/calibration_gp_utils.py:44: FutureWarning: The frame.append method is deprecated and will be removed from pandas in a future version. Use pandas.concat instead.\n",
      "  metrics_df = metrics_df.append({'M': m, 'seed': seed, 'acc_laplace': acc_laplace,\n"
     ]
    },
    {
     "name": "stdout",
     "output_type": "stream",
     "text": [
      "800 0\n",
      "[Laplace] Acc.: 92.5%; ECE: 5.1%; NLL: 0.387\n"
     ]
    },
    {
     "name": "stderr",
     "output_type": "stream",
     "text": [
      "/home/metod/Desktop/PhD/year1/laplace/examples/helper/calibration_gp_utils.py:44: FutureWarning: The frame.append method is deprecated and will be removed from pandas in a future version. Use pandas.concat instead.\n",
      "  metrics_df = metrics_df.append({'M': m, 'seed': seed, 'acc_laplace': acc_laplace,\n"
     ]
    },
    {
     "name": "stdout",
     "output_type": "stream",
     "text": [
      "800 1\n",
      "[Laplace] Acc.: 92.5%; ECE: 5.2%; NLL: 0.391\n"
     ]
    },
    {
     "name": "stderr",
     "output_type": "stream",
     "text": [
      "/home/metod/Desktop/PhD/year1/laplace/examples/helper/calibration_gp_utils.py:44: FutureWarning: The frame.append method is deprecated and will be removed from pandas in a future version. Use pandas.concat instead.\n",
      "  metrics_df = metrics_df.append({'M': m, 'seed': seed, 'acc_laplace': acc_laplace,\n"
     ]
    },
    {
     "name": "stdout",
     "output_type": "stream",
     "text": [
      "800 2\n",
      "[Laplace] Acc.: 92.5%; ECE: 5.3%; NLL: 0.396\n"
     ]
    },
    {
     "name": "stderr",
     "output_type": "stream",
     "text": [
      "/home/metod/Desktop/PhD/year1/laplace/examples/helper/calibration_gp_utils.py:44: FutureWarning: The frame.append method is deprecated and will be removed from pandas in a future version. Use pandas.concat instead.\n",
      "  metrics_df = metrics_df.append({'M': m, 'seed': seed, 'acc_laplace': acc_laplace,\n"
     ]
    },
    {
     "name": "stdout",
     "output_type": "stream",
     "text": [
      "800 3\n",
      "[Laplace] Acc.: 92.5%; ECE: 5.2%; NLL: 0.395\n"
     ]
    },
    {
     "name": "stderr",
     "output_type": "stream",
     "text": [
      "/home/metod/Desktop/PhD/year1/laplace/examples/helper/calibration_gp_utils.py:44: FutureWarning: The frame.append method is deprecated and will be removed from pandas in a future version. Use pandas.concat instead.\n",
      "  metrics_df = metrics_df.append({'M': m, 'seed': seed, 'acc_laplace': acc_laplace,\n"
     ]
    },
    {
     "name": "stdout",
     "output_type": "stream",
     "text": [
      "800 4\n",
      "[Laplace] Acc.: 92.5%; ECE: 5.2%; NLL: 0.39\n"
     ]
    },
    {
     "name": "stderr",
     "output_type": "stream",
     "text": [
      "/home/metod/Desktop/PhD/year1/laplace/examples/helper/calibration_gp_utils.py:44: FutureWarning: The frame.append method is deprecated and will be removed from pandas in a future version. Use pandas.concat instead.\n",
      "  metrics_df = metrics_df.append({'M': m, 'seed': seed, 'acc_laplace': acc_laplace,\n"
     ]
    },
    {
     "name": "stdout",
     "output_type": "stream",
     "text": [
      "1600 0\n",
      "[Laplace] Acc.: 92.5%; ECE: 5.3%; NLL: 0.405\n"
     ]
    },
    {
     "name": "stderr",
     "output_type": "stream",
     "text": [
      "/home/metod/Desktop/PhD/year1/laplace/examples/helper/calibration_gp_utils.py:44: FutureWarning: The frame.append method is deprecated and will be removed from pandas in a future version. Use pandas.concat instead.\n",
      "  metrics_df = metrics_df.append({'M': m, 'seed': seed, 'acc_laplace': acc_laplace,\n"
     ]
    },
    {
     "name": "stdout",
     "output_type": "stream",
     "text": [
      "1600 1\n",
      "[Laplace] Acc.: 92.6%; ECE: 5.4%; NLL: 0.422\n"
     ]
    },
    {
     "name": "stderr",
     "output_type": "stream",
     "text": [
      "/home/metod/Desktop/PhD/year1/laplace/examples/helper/calibration_gp_utils.py:44: FutureWarning: The frame.append method is deprecated and will be removed from pandas in a future version. Use pandas.concat instead.\n",
      "  metrics_df = metrics_df.append({'M': m, 'seed': seed, 'acc_laplace': acc_laplace,\n"
     ]
    },
    {
     "name": "stdout",
     "output_type": "stream",
     "text": [
      "1600 2\n",
      "[Laplace] Acc.: 92.6%; ECE: 5.3%; NLL: 0.409\n"
     ]
    },
    {
     "name": "stderr",
     "output_type": "stream",
     "text": [
      "/home/metod/Desktop/PhD/year1/laplace/examples/helper/calibration_gp_utils.py:44: FutureWarning: The frame.append method is deprecated and will be removed from pandas in a future version. Use pandas.concat instead.\n",
      "  metrics_df = metrics_df.append({'M': m, 'seed': seed, 'acc_laplace': acc_laplace,\n"
     ]
    },
    {
     "name": "stdout",
     "output_type": "stream",
     "text": [
      "1600 3\n",
      "[Laplace] Acc.: 92.5%; ECE: 5.3%; NLL: 0.411\n"
     ]
    },
    {
     "name": "stderr",
     "output_type": "stream",
     "text": [
      "/home/metod/Desktop/PhD/year1/laplace/examples/helper/calibration_gp_utils.py:44: FutureWarning: The frame.append method is deprecated and will be removed from pandas in a future version. Use pandas.concat instead.\n",
      "  metrics_df = metrics_df.append({'M': m, 'seed': seed, 'acc_laplace': acc_laplace,\n"
     ]
    },
    {
     "name": "stdout",
     "output_type": "stream",
     "text": [
      "1600 4\n",
      "[Laplace] Acc.: 92.5%; ECE: 5.6%; NLL: 0.429\n"
     ]
    },
    {
     "name": "stderr",
     "output_type": "stream",
     "text": [
      "/home/metod/Desktop/PhD/year1/laplace/examples/helper/calibration_gp_utils.py:44: FutureWarning: The frame.append method is deprecated and will be removed from pandas in a future version. Use pandas.concat instead.\n",
      "  metrics_df = metrics_df.append({'M': m, 'seed': seed, 'acc_laplace': acc_laplace,\n"
     ]
    },
    {
     "name": "stdout",
     "output_type": "stream",
     "text": [
      "3200 0\n",
      "[Laplace] Acc.: 92.5%; ECE: 5.8%; NLL: 0.47\n"
     ]
    },
    {
     "name": "stderr",
     "output_type": "stream",
     "text": [
      "/home/metod/Desktop/PhD/year1/laplace/examples/helper/calibration_gp_utils.py:44: FutureWarning: The frame.append method is deprecated and will be removed from pandas in a future version. Use pandas.concat instead.\n",
      "  metrics_df = metrics_df.append({'M': m, 'seed': seed, 'acc_laplace': acc_laplace,\n"
     ]
    },
    {
     "name": "stdout",
     "output_type": "stream",
     "text": [
      "3200 1\n",
      "[Laplace] Acc.: 92.5%; ECE: 5.6%; NLL: 0.44\n"
     ]
    },
    {
     "name": "stderr",
     "output_type": "stream",
     "text": [
      "/home/metod/Desktop/PhD/year1/laplace/examples/helper/calibration_gp_utils.py:44: FutureWarning: The frame.append method is deprecated and will be removed from pandas in a future version. Use pandas.concat instead.\n",
      "  metrics_df = metrics_df.append({'M': m, 'seed': seed, 'acc_laplace': acc_laplace,\n"
     ]
    },
    {
     "name": "stdout",
     "output_type": "stream",
     "text": [
      "3200 2\n",
      "[Laplace] Acc.: 92.5%; ECE: 5.8%; NLL: 0.468\n"
     ]
    },
    {
     "name": "stderr",
     "output_type": "stream",
     "text": [
      "/home/metod/Desktop/PhD/year1/laplace/examples/helper/calibration_gp_utils.py:44: FutureWarning: The frame.append method is deprecated and will be removed from pandas in a future version. Use pandas.concat instead.\n",
      "  metrics_df = metrics_df.append({'M': m, 'seed': seed, 'acc_laplace': acc_laplace,\n"
     ]
    },
    {
     "name": "stdout",
     "output_type": "stream",
     "text": [
      "3200 3\n",
      "[Laplace] Acc.: 92.6%; ECE: 5.8%; NLL: 0.468\n"
     ]
    },
    {
     "name": "stderr",
     "output_type": "stream",
     "text": [
      "/home/metod/Desktop/PhD/year1/laplace/examples/helper/calibration_gp_utils.py:44: FutureWarning: The frame.append method is deprecated and will be removed from pandas in a future version. Use pandas.concat instead.\n",
      "  metrics_df = metrics_df.append({'M': m, 'seed': seed, 'acc_laplace': acc_laplace,\n"
     ]
    },
    {
     "name": "stdout",
     "output_type": "stream",
     "text": [
      "3200 4\n",
      "[Laplace] Acc.: 92.5%; ECE: 5.9%; NLL: 0.47\n"
     ]
    },
    {
     "name": "stderr",
     "output_type": "stream",
     "text": [
      "/home/metod/Desktop/PhD/year1/laplace/examples/helper/calibration_gp_utils.py:44: FutureWarning: The frame.append method is deprecated and will be removed from pandas in a future version. Use pandas.concat instead.\n",
      "  metrics_df = metrics_df.append({'M': m, 'seed': seed, 'acc_laplace': acc_laplace,\n"
     ]
    }
   ],
   "source": [
    "metrics_gp = gp_calibration_eval(model=model, train_loader=train_loader, test_loader=test_loader, M_arr=[50, 100, 200, 400, 800, 1600, 3200])"
   ]
  },
  {
   "cell_type": "code",
   "execution_count": 11,
   "metadata": {},
   "outputs": [],
   "source": [
    "metrics_gp[\"acc_laplace\"] = metrics_gp[\"acc_laplace\"].apply(lambda x: x.cpu().item())\n",
    "metrics_gp[\"nll_laplace\"] = metrics_gp[\"nll_laplace\"].apply(lambda x: x.cpu().item())"
   ]
  },
  {
   "cell_type": "code",
   "execution_count": 12,
   "metadata": {},
   "outputs": [
    {
     "data": {
      "text/html": [
       "<div>\n",
       "<style scoped>\n",
       "    .dataframe tbody tr th:only-of-type {\n",
       "        vertical-align: middle;\n",
       "    }\n",
       "\n",
       "    .dataframe tbody tr th {\n",
       "        vertical-align: top;\n",
       "    }\n",
       "\n",
       "    .dataframe thead th {\n",
       "        text-align: right;\n",
       "    }\n",
       "</style>\n",
       "<table border=\"1\" class=\"dataframe\">\n",
       "  <thead>\n",
       "    <tr style=\"text-align: right;\">\n",
       "      <th></th>\n",
       "      <th>M</th>\n",
       "      <th>seed</th>\n",
       "      <th>acc_laplace</th>\n",
       "      <th>ece_laplace</th>\n",
       "      <th>nll_laplace</th>\n",
       "    </tr>\n",
       "  </thead>\n",
       "  <tbody>\n",
       "    <tr>\n",
       "      <th>0</th>\n",
       "      <td>50</td>\n",
       "      <td>0</td>\n",
       "      <td>0.9262</td>\n",
       "      <td>0.056359</td>\n",
       "      <td>0.445804</td>\n",
       "    </tr>\n",
       "    <tr>\n",
       "      <th>1</th>\n",
       "      <td>50</td>\n",
       "      <td>1</td>\n",
       "      <td>0.9259</td>\n",
       "      <td>0.056588</td>\n",
       "      <td>0.442882</td>\n",
       "    </tr>\n",
       "    <tr>\n",
       "      <th>2</th>\n",
       "      <td>50</td>\n",
       "      <td>2</td>\n",
       "      <td>0.9252</td>\n",
       "      <td>0.056725</td>\n",
       "      <td>0.438870</td>\n",
       "    </tr>\n",
       "    <tr>\n",
       "      <th>3</th>\n",
       "      <td>50</td>\n",
       "      <td>3</td>\n",
       "      <td>0.9251</td>\n",
       "      <td>0.057036</td>\n",
       "      <td>0.444951</td>\n",
       "    </tr>\n",
       "    <tr>\n",
       "      <th>4</th>\n",
       "      <td>50</td>\n",
       "      <td>4</td>\n",
       "      <td>0.9263</td>\n",
       "      <td>0.056555</td>\n",
       "      <td>0.451074</td>\n",
       "    </tr>\n",
       "    <tr>\n",
       "      <th>5</th>\n",
       "      <td>100</td>\n",
       "      <td>0</td>\n",
       "      <td>0.9256</td>\n",
       "      <td>0.055726</td>\n",
       "      <td>0.434212</td>\n",
       "    </tr>\n",
       "    <tr>\n",
       "      <th>6</th>\n",
       "      <td>100</td>\n",
       "      <td>1</td>\n",
       "      <td>0.9260</td>\n",
       "      <td>0.055447</td>\n",
       "      <td>0.434024</td>\n",
       "    </tr>\n",
       "    <tr>\n",
       "      <th>7</th>\n",
       "      <td>100</td>\n",
       "      <td>2</td>\n",
       "      <td>0.9260</td>\n",
       "      <td>0.054915</td>\n",
       "      <td>0.428497</td>\n",
       "    </tr>\n",
       "    <tr>\n",
       "      <th>8</th>\n",
       "      <td>100</td>\n",
       "      <td>3</td>\n",
       "      <td>0.9255</td>\n",
       "      <td>0.055363</td>\n",
       "      <td>0.427125</td>\n",
       "    </tr>\n",
       "    <tr>\n",
       "      <th>9</th>\n",
       "      <td>100</td>\n",
       "      <td>4</td>\n",
       "      <td>0.9257</td>\n",
       "      <td>0.055358</td>\n",
       "      <td>0.425975</td>\n",
       "    </tr>\n",
       "    <tr>\n",
       "      <th>10</th>\n",
       "      <td>200</td>\n",
       "      <td>0</td>\n",
       "      <td>0.9251</td>\n",
       "      <td>0.054867</td>\n",
       "      <td>0.416851</td>\n",
       "    </tr>\n",
       "    <tr>\n",
       "      <th>11</th>\n",
       "      <td>200</td>\n",
       "      <td>1</td>\n",
       "      <td>0.9259</td>\n",
       "      <td>0.053795</td>\n",
       "      <td>0.415069</td>\n",
       "    </tr>\n",
       "    <tr>\n",
       "      <th>12</th>\n",
       "      <td>200</td>\n",
       "      <td>2</td>\n",
       "      <td>0.9250</td>\n",
       "      <td>0.055733</td>\n",
       "      <td>0.418369</td>\n",
       "    </tr>\n",
       "    <tr>\n",
       "      <th>13</th>\n",
       "      <td>200</td>\n",
       "      <td>3</td>\n",
       "      <td>0.9263</td>\n",
       "      <td>0.053951</td>\n",
       "      <td>0.411253</td>\n",
       "    </tr>\n",
       "    <tr>\n",
       "      <th>14</th>\n",
       "      <td>200</td>\n",
       "      <td>4</td>\n",
       "      <td>0.9243</td>\n",
       "      <td>0.055582</td>\n",
       "      <td>0.415980</td>\n",
       "    </tr>\n",
       "    <tr>\n",
       "      <th>15</th>\n",
       "      <td>400</td>\n",
       "      <td>0</td>\n",
       "      <td>0.9253</td>\n",
       "      <td>0.052760</td>\n",
       "      <td>0.395907</td>\n",
       "    </tr>\n",
       "    <tr>\n",
       "      <th>16</th>\n",
       "      <td>400</td>\n",
       "      <td>1</td>\n",
       "      <td>0.9248</td>\n",
       "      <td>0.053119</td>\n",
       "      <td>0.401562</td>\n",
       "    </tr>\n",
       "    <tr>\n",
       "      <th>17</th>\n",
       "      <td>400</td>\n",
       "      <td>2</td>\n",
       "      <td>0.9258</td>\n",
       "      <td>0.052694</td>\n",
       "      <td>0.402119</td>\n",
       "    </tr>\n",
       "    <tr>\n",
       "      <th>18</th>\n",
       "      <td>400</td>\n",
       "      <td>3</td>\n",
       "      <td>0.9250</td>\n",
       "      <td>0.052683</td>\n",
       "      <td>0.395903</td>\n",
       "    </tr>\n",
       "    <tr>\n",
       "      <th>19</th>\n",
       "      <td>400</td>\n",
       "      <td>4</td>\n",
       "      <td>0.9246</td>\n",
       "      <td>0.053471</td>\n",
       "      <td>0.396121</td>\n",
       "    </tr>\n",
       "    <tr>\n",
       "      <th>20</th>\n",
       "      <td>800</td>\n",
       "      <td>0</td>\n",
       "      <td>0.9250</td>\n",
       "      <td>0.051439</td>\n",
       "      <td>0.387238</td>\n",
       "    </tr>\n",
       "    <tr>\n",
       "      <th>21</th>\n",
       "      <td>800</td>\n",
       "      <td>1</td>\n",
       "      <td>0.9254</td>\n",
       "      <td>0.051582</td>\n",
       "      <td>0.391049</td>\n",
       "    </tr>\n",
       "    <tr>\n",
       "      <th>22</th>\n",
       "      <td>800</td>\n",
       "      <td>2</td>\n",
       "      <td>0.9254</td>\n",
       "      <td>0.052522</td>\n",
       "      <td>0.396296</td>\n",
       "    </tr>\n",
       "    <tr>\n",
       "      <th>23</th>\n",
       "      <td>800</td>\n",
       "      <td>3</td>\n",
       "      <td>0.9249</td>\n",
       "      <td>0.052489</td>\n",
       "      <td>0.394644</td>\n",
       "    </tr>\n",
       "    <tr>\n",
       "      <th>24</th>\n",
       "      <td>800</td>\n",
       "      <td>4</td>\n",
       "      <td>0.9249</td>\n",
       "      <td>0.052216</td>\n",
       "      <td>0.390154</td>\n",
       "    </tr>\n",
       "    <tr>\n",
       "      <th>25</th>\n",
       "      <td>1600</td>\n",
       "      <td>0</td>\n",
       "      <td>0.9250</td>\n",
       "      <td>0.053071</td>\n",
       "      <td>0.405152</td>\n",
       "    </tr>\n",
       "    <tr>\n",
       "      <th>26</th>\n",
       "      <td>1600</td>\n",
       "      <td>1</td>\n",
       "      <td>0.9257</td>\n",
       "      <td>0.053812</td>\n",
       "      <td>0.421704</td>\n",
       "    </tr>\n",
       "    <tr>\n",
       "      <th>27</th>\n",
       "      <td>1600</td>\n",
       "      <td>2</td>\n",
       "      <td>0.9256</td>\n",
       "      <td>0.052838</td>\n",
       "      <td>0.408581</td>\n",
       "    </tr>\n",
       "    <tr>\n",
       "      <th>28</th>\n",
       "      <td>1600</td>\n",
       "      <td>3</td>\n",
       "      <td>0.9253</td>\n",
       "      <td>0.053251</td>\n",
       "      <td>0.410696</td>\n",
       "    </tr>\n",
       "    <tr>\n",
       "      <th>29</th>\n",
       "      <td>1600</td>\n",
       "      <td>4</td>\n",
       "      <td>0.9254</td>\n",
       "      <td>0.055733</td>\n",
       "      <td>0.429306</td>\n",
       "    </tr>\n",
       "    <tr>\n",
       "      <th>30</th>\n",
       "      <td>3200</td>\n",
       "      <td>0</td>\n",
       "      <td>0.9252</td>\n",
       "      <td>0.058122</td>\n",
       "      <td>0.470490</td>\n",
       "    </tr>\n",
       "    <tr>\n",
       "      <th>31</th>\n",
       "      <td>3200</td>\n",
       "      <td>1</td>\n",
       "      <td>0.9252</td>\n",
       "      <td>0.055967</td>\n",
       "      <td>0.440301</td>\n",
       "    </tr>\n",
       "    <tr>\n",
       "      <th>32</th>\n",
       "      <td>3200</td>\n",
       "      <td>2</td>\n",
       "      <td>0.9254</td>\n",
       "      <td>0.057702</td>\n",
       "      <td>0.467711</td>\n",
       "    </tr>\n",
       "    <tr>\n",
       "      <th>33</th>\n",
       "      <td>3200</td>\n",
       "      <td>3</td>\n",
       "      <td>0.9256</td>\n",
       "      <td>0.057953</td>\n",
       "      <td>0.468262</td>\n",
       "    </tr>\n",
       "    <tr>\n",
       "      <th>34</th>\n",
       "      <td>3200</td>\n",
       "      <td>4</td>\n",
       "      <td>0.9252</td>\n",
       "      <td>0.058547</td>\n",
       "      <td>0.469862</td>\n",
       "    </tr>\n",
       "  </tbody>\n",
       "</table>\n",
       "</div>"
      ],
      "text/plain": [
       "       M  seed  acc_laplace  ece_laplace  nll_laplace\n",
       "0     50     0       0.9262     0.056359     0.445804\n",
       "1     50     1       0.9259     0.056588     0.442882\n",
       "2     50     2       0.9252     0.056725     0.438870\n",
       "3     50     3       0.9251     0.057036     0.444951\n",
       "4     50     4       0.9263     0.056555     0.451074\n",
       "5    100     0       0.9256     0.055726     0.434212\n",
       "6    100     1       0.9260     0.055447     0.434024\n",
       "7    100     2       0.9260     0.054915     0.428497\n",
       "8    100     3       0.9255     0.055363     0.427125\n",
       "9    100     4       0.9257     0.055358     0.425975\n",
       "10   200     0       0.9251     0.054867     0.416851\n",
       "11   200     1       0.9259     0.053795     0.415069\n",
       "12   200     2       0.9250     0.055733     0.418369\n",
       "13   200     3       0.9263     0.053951     0.411253\n",
       "14   200     4       0.9243     0.055582     0.415980\n",
       "15   400     0       0.9253     0.052760     0.395907\n",
       "16   400     1       0.9248     0.053119     0.401562\n",
       "17   400     2       0.9258     0.052694     0.402119\n",
       "18   400     3       0.9250     0.052683     0.395903\n",
       "19   400     4       0.9246     0.053471     0.396121\n",
       "20   800     0       0.9250     0.051439     0.387238\n",
       "21   800     1       0.9254     0.051582     0.391049\n",
       "22   800     2       0.9254     0.052522     0.396296\n",
       "23   800     3       0.9249     0.052489     0.394644\n",
       "24   800     4       0.9249     0.052216     0.390154\n",
       "25  1600     0       0.9250     0.053071     0.405152\n",
       "26  1600     1       0.9257     0.053812     0.421704\n",
       "27  1600     2       0.9256     0.052838     0.408581\n",
       "28  1600     3       0.9253     0.053251     0.410696\n",
       "29  1600     4       0.9254     0.055733     0.429306\n",
       "30  3200     0       0.9252     0.058122     0.470490\n",
       "31  3200     1       0.9252     0.055967     0.440301\n",
       "32  3200     2       0.9254     0.057702     0.467711\n",
       "33  3200     3       0.9256     0.057953     0.468262\n",
       "34  3200     4       0.9252     0.058547     0.469862"
      ]
     },
     "execution_count": 12,
     "metadata": {},
     "output_type": "execute_result"
    }
   ],
   "source": [
    "metrics_gp"
   ]
  },
  {
   "cell_type": "markdown",
   "metadata": {},
   "source": [
    "## 4) results"
   ]
  },
  {
   "cell_type": "code",
   "execution_count": 13,
   "metadata": {},
   "outputs": [
    {
     "data": {
      "image/png": "[encoded data removed]",
      "text/plain": [
       "<Figure size 432x288 with 1 Axes>"
      ]
     },
     "metadata": {
      "needs_background": "light"
     },
     "output_type": "display_data"
    },
    {
     "data": {
      "image/png": "[encoded data removed]",
      "text/plain": [
       "<Figure size 432x288 with 1 Axes>"
      ]
     },
     "metadata": {
      "needs_background": "light"
     },
     "output_type": "display_data"
    },
    {
     "data": {
      "image/png": "[encoded data removed]",
      "text/plain": [
       "<Figure size 432x288 with 1 Axes>"
      ]
     },
     "metadata": {
      "needs_background": "light"
     },
     "output_type": "display_data"
    }
   ],
   "source": [
    "for metric in [\"acc_laplace\", \"ece_laplace\", \"nll_laplace\"]:\n",
    "    metrics_gp.groupby(by=\"M\")[[metric]].mean().rename({metric: \"GPLaplace\"}, axis=1).plot(style=\"-bo\")\n",
    "    plt.axhline(y=MAP_METRICS[metric[:3]], label=\"MAP\", color=\"red\")\n",
    "    plt.axhline(y=PARAM_LAPLACE_METRICS[metric[:3]], label=\"ParamLaplace\", color=\"green\")\n",
    "    plt.title(metric[:3])\n",
    "    plt.legend()\n",
    "    plt.show()"
   ]
  },
  {
   "cell_type": "code",
   "execution_count": null,
   "metadata": {},
   "outputs": [],
   "source": []
  }
 ],
 "metadata": {
  "kernelspec": {
   "display_name": "laplace",
   "language": "python",
   "name": "python3"
  },
  "language_info": {
   "codemirror_mode": {
    "name": "ipython",
    "version": 3
   },
   "file_extension": ".py",
   "mimetype": "text/x-python",
   "name": "python",
   "nbconvert_exporter": "python",
   "pygments_lexer": "ipython3",
   "version": "3.8.15"
  },
  "vscode": {
   "interpreter": {
    "hash": "fb9941f3b25f5f153e5f3cb3566d0301dfcc8b18d6fc5fb792c740611c084a6a"
   }
  }
 },
 "nbformat": 4,
 "nbformat_minor": 0
}
