{
 "cells": [
  {
   "cell_type": "code",
   "execution_count": 1,
   "metadata": {
    "collapsed": true
   },
   "outputs": [
    {
     "name": "stderr",
     "output_type": "stream",
     "text": [
      "/home/metod/miniconda3/envs/laplace/lib/python3.8/site-packages/tqdm/auto.py:22: TqdmWarning: IProgress not found. Please update jupyter and ipywidgets. See https://ipywidgets.readthedocs.io/en/stable/user_install.html\n",
      "  from .autonotebook import tqdm as notebook_tqdm\n"
     ]
    }
   ],
   "source": [
    "import sys; sys.path.insert(0, \"../\")\n",
    "\n",
    "import warnings\n",
    "warnings.simplefilter(\"ignore\", UserWarning)\n",
    "from datetime import datetime\n",
    "import pandas as pd\n",
    "import matplotlib.pyplot as plt\n",
    "import torch\n",
    "import torch.distributions as dists\n",
    "import numpy as np\n",
    "import helper.wideresnet as wrn\n",
    "import helper.dataloaders as dl\n",
    "from helper import util\n",
    "from helper.calibration_gp_utils import predict, gp_calibration_eval\n",
    "from netcal.metrics import ECE\n",
    "\n",
    "from laplace import Laplace\n",
    "\n",
    "from helper.datasets import get_dataset\n",
    "from helper.models import get_model\n",
    "from torch.utils.data import DataLoader"
   ]
  },
  {
   "cell_type": "code",
   "execution_count": 2,
   "metadata": {},
   "outputs": [],
   "source": [
    "np.random.seed(7777)\n",
    "torch.manual_seed(7777)\n",
    "torch.backends.cudnn.deterministic = True\n",
    "torch.backends.cudnn.benchmark = True"
   ]
  },
  {
   "cell_type": "code",
   "execution_count": 3,
   "metadata": {},
   "outputs": [
    {
     "name": "stdout",
     "output_type": "stream",
     "text": [
      "False\n",
      "True\n",
      "1\n",
      "0\n",
      "NVIDIA GeForce GTX 1080 Ti\n"
     ]
    }
   ],
   "source": [
    "print(torch.has_mps)\n",
    "print(torch.cuda.is_available())\n",
    "print(torch.cuda.device_count())\n",
    "print(torch.cuda.current_device())\n",
    "print(torch.cuda.get_device_name(0))"
   ]
  },
  {
   "cell_type": "code",
   "execution_count": 17,
   "metadata": {},
   "outputs": [],
   "source": [
    "REPO = \"BNN-preds\"\n",
    "# REPO = \"Laplace\"\n",
    "\n",
    "DATASET = \"FMNIST\"\n",
    "# DATASET = \"CIFAR10\"\n",
    "\n",
    "SUBSET_OF_WEIGHTS = \"last_layer\"\n",
    "# SUBSET_OF_WEIGHTS = \"all\"\n",
    "\n",
    "# option REPO=\"Laplace\" & DATASET=\"CIFAR10\" & SUBSET_OF_WEIGHTS = \"last_layer\" can not be evaluated since the model AllCNN does not have linear last layer "
   ]
  },
  {
   "cell_type": "code",
   "execution_count": 18,
   "metadata": {},
   "outputs": [],
   "source": [
    "now = datetime.now()\n",
    "dt_string = now.strftime(\"%d_%m_%Y_%H_%M_%S\")\n",
    "EXPERIMENT_NAME = f\"{DATASET}_{SUBSET_OF_WEIGHTS}_{dt_string}_{REPO}\""
   ]
  },
  {
   "cell_type": "markdown",
   "metadata": {},
   "source": [
    "## 1) init"
   ]
  },
  {
   "cell_type": "markdown",
   "metadata": {},
   "source": [
    "### data"
   ]
  },
  {
   "cell_type": "code",
   "execution_count": 6,
   "metadata": {},
   "outputs": [],
   "source": [
    "if REPO == \"BNN-preds\":\n",
    "    ds_train, ds_test = get_dataset(DATASET, False, 'cuda')\n",
    "    train_loader = DataLoader(ds_train, batch_size=128, shuffle=True)\n",
    "    test_loader = DataLoader(ds_test, batch_size=100, shuffle=False)\n",
    "    targets = torch.cat([y for x, y in test_loader], dim=0).cpu()\n",
    "elif REPO == \"Laplace\":\n",
    "    assert DATASET == \"CIFAR10\"\n",
    "    train_loader = dl.CIFAR10(train=True)\n",
    "    test_loader = dl.CIFAR10(train=False)\n",
    "    targets = torch.cat([y for x, y in test_loader], dim=0).cpu()"
   ]
  },
  {
   "cell_type": "markdown",
   "metadata": {},
   "source": [
    "### model"
   ]
  },
  {
   "cell_type": "code",
   "execution_count": 7,
   "metadata": {},
   "outputs": [],
   "source": [
    "if REPO == \"BNN-preds\":\n",
    "    if DATASET == \"FMNIST\":\n",
    "        model = get_model('CNN', ds_train).to('cuda')\n",
    "        # state = torch.load(\"helper/models/FMNIST_CNN_117_4.6e-01.pt\")\n",
    "        state = torch.load(\"helper/models/FMNIST_CNN_117_1.0e+01.pt\")\n",
    "        \n",
    "    elif DATASET == \"CIFAR10\":\n",
    "        model = get_model('AllCNN', ds_train).to('cuda')\n",
    "        state = torch.load(\"helper/models/CIFAR10_AllCNN_117_1.0e+01.pt\")\n",
    "    model.load_state_dict(state['model'])\n",
    "    model = model.cuda()\n",
    "else:\n",
    "    assert DATASET == \"CIFAR10\"\n",
    "    # The model is a standard WideResNet 16-4\n",
    "    # Taken as is from https://github.com/hendrycks/outlier-exposure\n",
    "    model = wrn.WideResNet(16, 4, num_classes=10).cuda().eval()\n",
    "    # print( sum(p.numel() for p in model.parameters()))\n",
    "\n",
    "    util.download_pretrained_model()\n",
    "    model.load_state_dict(torch.load('./temp/CIFAR10_plain.pt'))"
   ]
  },
  {
   "cell_type": "markdown",
   "metadata": {},
   "source": [
    "## 2) baselines"
   ]
  },
  {
   "cell_type": "markdown",
   "metadata": {},
   "source": [
    "### MAP"
   ]
  },
  {
   "cell_type": "code",
   "execution_count": 8,
   "metadata": {},
   "outputs": [
    {
     "name": "stdout",
     "output_type": "stream",
     "text": [
      "[MAP] Acc.: 92.2%; ECE: 5.4%; NLL: 0.392\n"
     ]
    }
   ],
   "source": [
    "probs_map = predict(test_loader, model, laplace=False)\n",
    "acc_map = (probs_map.argmax(-1) == targets).float().mean()\n",
    "ece_map = ECE(bins=15).measure(probs_map.numpy(), targets.numpy())\n",
    "nll_map = -dists.Categorical(probs_map).log_prob(targets).mean()\n",
    "\n",
    "print(f'[MAP] Acc.: {acc_map:.1%}; ECE: {ece_map:.1%}; NLL: {nll_map:.3}')\n",
    "MAP_METRICS = {\"acc\": acc_map, \"ece\": ece_map, \"nll\": nll_map}"
   ]
  },
  {
   "cell_type": "markdown",
   "metadata": {},
   "source": [
    "### Parametric Laplace"
   ]
  },
  {
   "cell_type": "code",
   "execution_count": 9,
   "metadata": {},
   "outputs": [
    {
     "name": "stdout",
     "output_type": "stream",
     "text": [
      "[Laplace] Acc.: 92.2%; ECE: 4.1%; NLL: 0.311\n"
     ]
    }
   ],
   "source": [
    "la = Laplace(model, 'classification',\n",
    "             subset_of_weights=SUBSET_OF_WEIGHTS,\n",
    "             hessian_structure='kron')\n",
    "la.fit(train_loader)\n",
    "la.optimize_prior_precision(method='marglik')\n",
    "\n",
    "probs_laplace = predict(test_loader, la, laplace=True)\n",
    "acc_laplace = (probs_laplace.argmax(-1) == targets).float().mean()\n",
    "ece_laplace = ECE(bins=15).measure(probs_laplace.numpy(), targets.numpy())\n",
    "nll_laplace = -dists.Categorical(probs_laplace).log_prob(targets).mean()\n",
    "\n",
    "print(f'[Laplace] Acc.: {acc_laplace:.1%}; ECE: {ece_laplace:.1%}; NLL: {nll_laplace:.3}')\n",
    "PARAM_LAPLACE_METRICS = {\"acc\": acc_laplace, \"ece\": ece_laplace, \"nll\": nll_laplace}"
   ]
  },
  {
   "attachments": {},
   "cell_type": "markdown",
   "metadata": {},
   "source": [
    "## 3) Functional Laplace (GP)"
   ]
  },
  {
   "cell_type": "code",
   "execution_count": 10,
   "metadata": {},
   "outputs": [
    {
     "name": "stdout",
     "output_type": "stream",
     "text": [
      "50 0\n",
      "[Laplace] Acc.: 92.3%; ECE: 4.8%; NLL: 0.339\n"
     ]
    },
    {
     "name": "stderr",
     "output_type": "stream",
     "text": [
      "/home/metod/Desktop/PhD/year1/Laplace/examples/helper/calibration_gp_utils.py:44: FutureWarning: The frame.append method is deprecated and will be removed from pandas in a future version. Use pandas.concat instead.\n",
      "  metrics_df = metrics_df.append({'M': m, 'seed': seed, 'acc_laplace': acc_laplace,\n"
     ]
    },
    {
     "name": "stdout",
     "output_type": "stream",
     "text": [
      "50 1\n",
      "[Laplace] Acc.: 92.2%; ECE: 4.8%; NLL: 0.337\n"
     ]
    },
    {
     "name": "stderr",
     "output_type": "stream",
     "text": [
      "/home/metod/Desktop/PhD/year1/Laplace/examples/helper/calibration_gp_utils.py:44: FutureWarning: The frame.append method is deprecated and will be removed from pandas in a future version. Use pandas.concat instead.\n",
      "  metrics_df = metrics_df.append({'M': m, 'seed': seed, 'acc_laplace': acc_laplace,\n"
     ]
    },
    {
     "name": "stdout",
     "output_type": "stream",
     "text": [
      "50 2\n",
      "[Laplace] Acc.: 92.2%; ECE: 4.8%; NLL: 0.337\n"
     ]
    },
    {
     "name": "stderr",
     "output_type": "stream",
     "text": [
      "/home/metod/Desktop/PhD/year1/Laplace/examples/helper/calibration_gp_utils.py:44: FutureWarning: The frame.append method is deprecated and will be removed from pandas in a future version. Use pandas.concat instead.\n",
      "  metrics_df = metrics_df.append({'M': m, 'seed': seed, 'acc_laplace': acc_laplace,\n"
     ]
    },
    {
     "name": "stdout",
     "output_type": "stream",
     "text": [
      "50 3\n",
      "[Laplace] Acc.: 92.2%; ECE: 4.7%; NLL: 0.337\n"
     ]
    },
    {
     "name": "stderr",
     "output_type": "stream",
     "text": [
      "/home/metod/Desktop/PhD/year1/Laplace/examples/helper/calibration_gp_utils.py:44: FutureWarning: The frame.append method is deprecated and will be removed from pandas in a future version. Use pandas.concat instead.\n",
      "  metrics_df = metrics_df.append({'M': m, 'seed': seed, 'acc_laplace': acc_laplace,\n"
     ]
    },
    {
     "name": "stdout",
     "output_type": "stream",
     "text": [
      "50 4\n",
      "[Laplace] Acc.: 92.2%; ECE: 4.8%; NLL: 0.337\n"
     ]
    },
    {
     "name": "stderr",
     "output_type": "stream",
     "text": [
      "/home/metod/Desktop/PhD/year1/Laplace/examples/helper/calibration_gp_utils.py:44: FutureWarning: The frame.append method is deprecated and will be removed from pandas in a future version. Use pandas.concat instead.\n",
      "  metrics_df = metrics_df.append({'M': m, 'seed': seed, 'acc_laplace': acc_laplace,\n"
     ]
    },
    {
     "name": "stdout",
     "output_type": "stream",
     "text": [
      "100 0\n",
      "[Laplace] Acc.: 92.2%; ECE: 4.2%; NLL: 0.316\n"
     ]
    },
    {
     "name": "stderr",
     "output_type": "stream",
     "text": [
      "/home/metod/Desktop/PhD/year1/Laplace/examples/helper/calibration_gp_utils.py:44: FutureWarning: The frame.append method is deprecated and will be removed from pandas in a future version. Use pandas.concat instead.\n",
      "  metrics_df = metrics_df.append({'M': m, 'seed': seed, 'acc_laplace': acc_laplace,\n"
     ]
    },
    {
     "name": "stdout",
     "output_type": "stream",
     "text": [
      "100 1\n",
      "[Laplace] Acc.: 92.1%; ECE: 4.2%; NLL: 0.318\n"
     ]
    },
    {
     "name": "stderr",
     "output_type": "stream",
     "text": [
      "/home/metod/Desktop/PhD/year1/Laplace/examples/helper/calibration_gp_utils.py:44: FutureWarning: The frame.append method is deprecated and will be removed from pandas in a future version. Use pandas.concat instead.\n",
      "  metrics_df = metrics_df.append({'M': m, 'seed': seed, 'acc_laplace': acc_laplace,\n"
     ]
    },
    {
     "name": "stdout",
     "output_type": "stream",
     "text": [
      "100 2\n",
      "[Laplace] Acc.: 92.1%; ECE: 4.3%; NLL: 0.317\n"
     ]
    },
    {
     "name": "stderr",
     "output_type": "stream",
     "text": [
      "/home/metod/Desktop/PhD/year1/Laplace/examples/helper/calibration_gp_utils.py:44: FutureWarning: The frame.append method is deprecated and will be removed from pandas in a future version. Use pandas.concat instead.\n",
      "  metrics_df = metrics_df.append({'M': m, 'seed': seed, 'acc_laplace': acc_laplace,\n"
     ]
    },
    {
     "name": "stdout",
     "output_type": "stream",
     "text": [
      "100 3\n",
      "[Laplace] Acc.: 92.2%; ECE: 4.0%; NLL: 0.311\n"
     ]
    },
    {
     "name": "stderr",
     "output_type": "stream",
     "text": [
      "/home/metod/Desktop/PhD/year1/Laplace/examples/helper/calibration_gp_utils.py:44: FutureWarning: The frame.append method is deprecated and will be removed from pandas in a future version. Use pandas.concat instead.\n",
      "  metrics_df = metrics_df.append({'M': m, 'seed': seed, 'acc_laplace': acc_laplace,\n"
     ]
    },
    {
     "name": "stdout",
     "output_type": "stream",
     "text": [
      "100 4\n",
      "[Laplace] Acc.: 92.2%; ECE: 4.2%; NLL: 0.312\n"
     ]
    },
    {
     "name": "stderr",
     "output_type": "stream",
     "text": [
      "/home/metod/Desktop/PhD/year1/Laplace/examples/helper/calibration_gp_utils.py:44: FutureWarning: The frame.append method is deprecated and will be removed from pandas in a future version. Use pandas.concat instead.\n",
      "  metrics_df = metrics_df.append({'M': m, 'seed': seed, 'acc_laplace': acc_laplace,\n"
     ]
    },
    {
     "name": "stdout",
     "output_type": "stream",
     "text": [
      "200 0\n",
      "[Laplace] Acc.: 92.2%; ECE: 3.4%; NLL: 0.31\n"
     ]
    },
    {
     "name": "stderr",
     "output_type": "stream",
     "text": [
      "/home/metod/Desktop/PhD/year1/Laplace/examples/helper/calibration_gp_utils.py:44: FutureWarning: The frame.append method is deprecated and will be removed from pandas in a future version. Use pandas.concat instead.\n",
      "  metrics_df = metrics_df.append({'M': m, 'seed': seed, 'acc_laplace': acc_laplace,\n"
     ]
    },
    {
     "name": "stdout",
     "output_type": "stream",
     "text": [
      "200 1\n",
      "[Laplace] Acc.: 92.2%; ECE: 3.2%; NLL: 0.308\n"
     ]
    },
    {
     "name": "stderr",
     "output_type": "stream",
     "text": [
      "/home/metod/Desktop/PhD/year1/Laplace/examples/helper/calibration_gp_utils.py:44: FutureWarning: The frame.append method is deprecated and will be removed from pandas in a future version. Use pandas.concat instead.\n",
      "  metrics_df = metrics_df.append({'M': m, 'seed': seed, 'acc_laplace': acc_laplace,\n"
     ]
    },
    {
     "name": "stdout",
     "output_type": "stream",
     "text": [
      "200 2\n",
      "[Laplace] Acc.: 92.1%; ECE: 3.2%; NLL: 0.309\n"
     ]
    },
    {
     "name": "stderr",
     "output_type": "stream",
     "text": [
      "/home/metod/Desktop/PhD/year1/Laplace/examples/helper/calibration_gp_utils.py:44: FutureWarning: The frame.append method is deprecated and will be removed from pandas in a future version. Use pandas.concat instead.\n",
      "  metrics_df = metrics_df.append({'M': m, 'seed': seed, 'acc_laplace': acc_laplace,\n"
     ]
    },
    {
     "name": "stdout",
     "output_type": "stream",
     "text": [
      "200 3\n",
      "[Laplace] Acc.: 92.1%; ECE: 2.9%; NLL: 0.303\n"
     ]
    },
    {
     "name": "stderr",
     "output_type": "stream",
     "text": [
      "/home/metod/Desktop/PhD/year1/Laplace/examples/helper/calibration_gp_utils.py:44: FutureWarning: The frame.append method is deprecated and will be removed from pandas in a future version. Use pandas.concat instead.\n",
      "  metrics_df = metrics_df.append({'M': m, 'seed': seed, 'acc_laplace': acc_laplace,\n"
     ]
    },
    {
     "name": "stdout",
     "output_type": "stream",
     "text": [
      "200 4\n",
      "[Laplace] Acc.: 92.2%; ECE: 3.2%; NLL: 0.293\n"
     ]
    },
    {
     "name": "stderr",
     "output_type": "stream",
     "text": [
      "/home/metod/Desktop/PhD/year1/Laplace/examples/helper/calibration_gp_utils.py:44: FutureWarning: The frame.append method is deprecated and will be removed from pandas in a future version. Use pandas.concat instead.\n",
      "  metrics_df = metrics_df.append({'M': m, 'seed': seed, 'acc_laplace': acc_laplace,\n"
     ]
    },
    {
     "name": "stdout",
     "output_type": "stream",
     "text": [
      "400 0\n",
      "[Laplace] Acc.: 92.2%; ECE: 2.6%; NLL: 0.302\n"
     ]
    },
    {
     "name": "stderr",
     "output_type": "stream",
     "text": [
      "/home/metod/Desktop/PhD/year1/Laplace/examples/helper/calibration_gp_utils.py:44: FutureWarning: The frame.append method is deprecated and will be removed from pandas in a future version. Use pandas.concat instead.\n",
      "  metrics_df = metrics_df.append({'M': m, 'seed': seed, 'acc_laplace': acc_laplace,\n"
     ]
    },
    {
     "name": "stdout",
     "output_type": "stream",
     "text": [
      "400 1\n",
      "[Laplace] Acc.: 92.2%; ECE: 2.0%; NLL: 0.307\n"
     ]
    },
    {
     "name": "stderr",
     "output_type": "stream",
     "text": [
      "/home/metod/Desktop/PhD/year1/Laplace/examples/helper/calibration_gp_utils.py:44: FutureWarning: The frame.append method is deprecated and will be removed from pandas in a future version. Use pandas.concat instead.\n",
      "  metrics_df = metrics_df.append({'M': m, 'seed': seed, 'acc_laplace': acc_laplace,\n"
     ]
    },
    {
     "name": "stdout",
     "output_type": "stream",
     "text": [
      "400 2\n",
      "[Laplace] Acc.: 92.1%; ECE: 1.5%; NLL: 0.317\n"
     ]
    },
    {
     "name": "stderr",
     "output_type": "stream",
     "text": [
      "/home/metod/Desktop/PhD/year1/Laplace/examples/helper/calibration_gp_utils.py:44: FutureWarning: The frame.append method is deprecated and will be removed from pandas in a future version. Use pandas.concat instead.\n",
      "  metrics_df = metrics_df.append({'M': m, 'seed': seed, 'acc_laplace': acc_laplace,\n"
     ]
    },
    {
     "name": "stdout",
     "output_type": "stream",
     "text": [
      "400 3\n",
      "[Laplace] Acc.: 92.0%; ECE: 2.0%; NLL: 0.312\n"
     ]
    },
    {
     "name": "stderr",
     "output_type": "stream",
     "text": [
      "/home/metod/Desktop/PhD/year1/Laplace/examples/helper/calibration_gp_utils.py:44: FutureWarning: The frame.append method is deprecated and will be removed from pandas in a future version. Use pandas.concat instead.\n",
      "  metrics_df = metrics_df.append({'M': m, 'seed': seed, 'acc_laplace': acc_laplace,\n"
     ]
    },
    {
     "name": "stdout",
     "output_type": "stream",
     "text": [
      "400 4\n",
      "[Laplace] Acc.: 92.2%; ECE: 2.4%; NLL: 0.294\n"
     ]
    },
    {
     "name": "stderr",
     "output_type": "stream",
     "text": [
      "/home/metod/Desktop/PhD/year1/Laplace/examples/helper/calibration_gp_utils.py:44: FutureWarning: The frame.append method is deprecated and will be removed from pandas in a future version. Use pandas.concat instead.\n",
      "  metrics_df = metrics_df.append({'M': m, 'seed': seed, 'acc_laplace': acc_laplace,\n"
     ]
    },
    {
     "name": "stdout",
     "output_type": "stream",
     "text": [
      "800 0\n",
      "[Laplace] Acc.: 92.2%; ECE: 2.5%; NLL: 0.307\n"
     ]
    },
    {
     "name": "stderr",
     "output_type": "stream",
     "text": [
      "/home/metod/Desktop/PhD/year1/Laplace/examples/helper/calibration_gp_utils.py:44: FutureWarning: The frame.append method is deprecated and will be removed from pandas in a future version. Use pandas.concat instead.\n",
      "  metrics_df = metrics_df.append({'M': m, 'seed': seed, 'acc_laplace': acc_laplace,\n"
     ]
    },
    {
     "name": "stdout",
     "output_type": "stream",
     "text": [
      "800 1\n",
      "[Laplace] Acc.: 92.3%; ECE: 2.1%; NLL: 0.306\n"
     ]
    },
    {
     "name": "stderr",
     "output_type": "stream",
     "text": [
      "/home/metod/Desktop/PhD/year1/Laplace/examples/helper/calibration_gp_utils.py:44: FutureWarning: The frame.append method is deprecated and will be removed from pandas in a future version. Use pandas.concat instead.\n",
      "  metrics_df = metrics_df.append({'M': m, 'seed': seed, 'acc_laplace': acc_laplace,\n"
     ]
    },
    {
     "name": "stdout",
     "output_type": "stream",
     "text": [
      "800 2\n",
      "[Laplace] Acc.: 92.1%; ECE: 2.1%; NLL: 0.313\n"
     ]
    },
    {
     "name": "stderr",
     "output_type": "stream",
     "text": [
      "/home/metod/Desktop/PhD/year1/Laplace/examples/helper/calibration_gp_utils.py:44: FutureWarning: The frame.append method is deprecated and will be removed from pandas in a future version. Use pandas.concat instead.\n",
      "  metrics_df = metrics_df.append({'M': m, 'seed': seed, 'acc_laplace': acc_laplace,\n"
     ]
    },
    {
     "name": "stdout",
     "output_type": "stream",
     "text": [
      "800 3\n",
      "[Laplace] Acc.: 92.2%; ECE: 2.1%; NLL: 0.317\n"
     ]
    },
    {
     "name": "stderr",
     "output_type": "stream",
     "text": [
      "/home/metod/Desktop/PhD/year1/Laplace/examples/helper/calibration_gp_utils.py:44: FutureWarning: The frame.append method is deprecated and will be removed from pandas in a future version. Use pandas.concat instead.\n",
      "  metrics_df = metrics_df.append({'M': m, 'seed': seed, 'acc_laplace': acc_laplace,\n"
     ]
    },
    {
     "name": "stdout",
     "output_type": "stream",
     "text": [
      "800 4\n",
      "[Laplace] Acc.: 92.0%; ECE: 2.4%; NLL: 0.314\n"
     ]
    },
    {
     "name": "stderr",
     "output_type": "stream",
     "text": [
      "/home/metod/Desktop/PhD/year1/Laplace/examples/helper/calibration_gp_utils.py:44: FutureWarning: The frame.append method is deprecated and will be removed from pandas in a future version. Use pandas.concat instead.\n",
      "  metrics_df = metrics_df.append({'M': m, 'seed': seed, 'acc_laplace': acc_laplace,\n"
     ]
    },
    {
     "name": "stdout",
     "output_type": "stream",
     "text": [
      "1600 0\n",
      "[Laplace] Acc.: 92.1%; ECE: 2.9%; NLL: 0.315\n"
     ]
    },
    {
     "name": "stderr",
     "output_type": "stream",
     "text": [
      "/home/metod/Desktop/PhD/year1/Laplace/examples/helper/calibration_gp_utils.py:44: FutureWarning: The frame.append method is deprecated and will be removed from pandas in a future version. Use pandas.concat instead.\n",
      "  metrics_df = metrics_df.append({'M': m, 'seed': seed, 'acc_laplace': acc_laplace,\n"
     ]
    },
    {
     "name": "stdout",
     "output_type": "stream",
     "text": [
      "1600 1\n",
      "[Laplace] Acc.: 92.1%; ECE: 2.6%; NLL: 0.313\n"
     ]
    },
    {
     "name": "stderr",
     "output_type": "stream",
     "text": [
      "/home/metod/Desktop/PhD/year1/Laplace/examples/helper/calibration_gp_utils.py:44: FutureWarning: The frame.append method is deprecated and will be removed from pandas in a future version. Use pandas.concat instead.\n",
      "  metrics_df = metrics_df.append({'M': m, 'seed': seed, 'acc_laplace': acc_laplace,\n"
     ]
    },
    {
     "name": "stdout",
     "output_type": "stream",
     "text": [
      "1600 2\n",
      "[Laplace] Acc.: 92.2%; ECE: 3.2%; NLL: 0.323\n"
     ]
    },
    {
     "name": "stderr",
     "output_type": "stream",
     "text": [
      "/home/metod/Desktop/PhD/year1/Laplace/examples/helper/calibration_gp_utils.py:44: FutureWarning: The frame.append method is deprecated and will be removed from pandas in a future version. Use pandas.concat instead.\n",
      "  metrics_df = metrics_df.append({'M': m, 'seed': seed, 'acc_laplace': acc_laplace,\n"
     ]
    },
    {
     "name": "stdout",
     "output_type": "stream",
     "text": [
      "1600 3\n",
      "[Laplace] Acc.: 92.2%; ECE: 3.5%; NLL: 0.322\n"
     ]
    },
    {
     "name": "stderr",
     "output_type": "stream",
     "text": [
      "/home/metod/Desktop/PhD/year1/Laplace/examples/helper/calibration_gp_utils.py:44: FutureWarning: The frame.append method is deprecated and will be removed from pandas in a future version. Use pandas.concat instead.\n",
      "  metrics_df = metrics_df.append({'M': m, 'seed': seed, 'acc_laplace': acc_laplace,\n"
     ]
    },
    {
     "name": "stdout",
     "output_type": "stream",
     "text": [
      "1600 4\n",
      "[Laplace] Acc.: 92.1%; ECE: 3.5%; NLL: 0.317\n"
     ]
    },
    {
     "name": "stderr",
     "output_type": "stream",
     "text": [
      "/home/metod/Desktop/PhD/year1/Laplace/examples/helper/calibration_gp_utils.py:44: FutureWarning: The frame.append method is deprecated and will be removed from pandas in a future version. Use pandas.concat instead.\n",
      "  metrics_df = metrics_df.append({'M': m, 'seed': seed, 'acc_laplace': acc_laplace,\n"
     ]
    }
   ],
   "source": [
    "metrics_gp = gp_calibration_eval(model=model, train_loader=train_loader, \n",
    "                                 subset_of_weights=SUBSET_OF_WEIGHTS, test_loader=test_loader,\n",
    "                                 M_arr=[50, 100, 200, 400, 800, 1600]) \n",
    "                                 # M_arr=[50, 100, 200, 400, 800, 1600, 3200])"
   ]
  },
  {
   "cell_type": "code",
   "execution_count": 11,
   "metadata": {},
   "outputs": [],
   "source": [
    "metrics_gp[\"acc_laplace\"] = metrics_gp[\"acc_laplace\"].apply(lambda x: x.cpu().item())\n",
    "metrics_gp[\"nll_laplace\"] = metrics_gp[\"nll_laplace\"].apply(lambda x: x.cpu().item())"
   ]
  },
  {
   "cell_type": "code",
   "execution_count": 12,
   "metadata": {},
   "outputs": [
    {
     "data": {
      "text/html": [
       "<div>\n",
       "<style scoped>\n",
       "    .dataframe tbody tr th:only-of-type {\n",
       "        vertical-align: middle;\n",
       "    }\n",
       "\n",
       "    .dataframe tbody tr th {\n",
       "        vertical-align: top;\n",
       "    }\n",
       "\n",
       "    .dataframe thead th {\n",
       "        text-align: right;\n",
       "    }\n",
       "</style>\n",
       "<table border=\"1\" class=\"dataframe\">\n",
       "  <thead>\n",
       "    <tr style=\"text-align: right;\">\n",
       "      <th></th>\n",
       "      <th>M</th>\n",
       "      <th>seed</th>\n",
       "      <th>acc_laplace</th>\n",
       "      <th>ece_laplace</th>\n",
       "      <th>nll_laplace</th>\n",
       "    </tr>\n",
       "  </thead>\n",
       "  <tbody>\n",
       "    <tr>\n",
       "      <th>0</th>\n",
       "      <td>50</td>\n",
       "      <td>0</td>\n",
       "      <td>0.9225</td>\n",
       "      <td>0.047661</td>\n",
       "      <td>0.339286</td>\n",
       "    </tr>\n",
       "    <tr>\n",
       "      <th>1</th>\n",
       "      <td>50</td>\n",
       "      <td>1</td>\n",
       "      <td>0.9220</td>\n",
       "      <td>0.047663</td>\n",
       "      <td>0.337458</td>\n",
       "    </tr>\n",
       "    <tr>\n",
       "      <th>2</th>\n",
       "      <td>50</td>\n",
       "      <td>2</td>\n",
       "      <td>0.9221</td>\n",
       "      <td>0.047514</td>\n",
       "      <td>0.337451</td>\n",
       "    </tr>\n",
       "    <tr>\n",
       "      <th>3</th>\n",
       "      <td>50</td>\n",
       "      <td>3</td>\n",
       "      <td>0.9221</td>\n",
       "      <td>0.047469</td>\n",
       "      <td>0.337264</td>\n",
       "    </tr>\n",
       "    <tr>\n",
       "      <th>4</th>\n",
       "      <td>50</td>\n",
       "      <td>4</td>\n",
       "      <td>0.9222</td>\n",
       "      <td>0.047505</td>\n",
       "      <td>0.337386</td>\n",
       "    </tr>\n",
       "    <tr>\n",
       "      <th>5</th>\n",
       "      <td>100</td>\n",
       "      <td>0</td>\n",
       "      <td>0.9222</td>\n",
       "      <td>0.042424</td>\n",
       "      <td>0.316404</td>\n",
       "    </tr>\n",
       "    <tr>\n",
       "      <th>6</th>\n",
       "      <td>100</td>\n",
       "      <td>1</td>\n",
       "      <td>0.9213</td>\n",
       "      <td>0.042350</td>\n",
       "      <td>0.318159</td>\n",
       "    </tr>\n",
       "    <tr>\n",
       "      <th>7</th>\n",
       "      <td>100</td>\n",
       "      <td>2</td>\n",
       "      <td>0.9209</td>\n",
       "      <td>0.042553</td>\n",
       "      <td>0.317037</td>\n",
       "    </tr>\n",
       "    <tr>\n",
       "      <th>8</th>\n",
       "      <td>100</td>\n",
       "      <td>3</td>\n",
       "      <td>0.9221</td>\n",
       "      <td>0.040251</td>\n",
       "      <td>0.311399</td>\n",
       "    </tr>\n",
       "    <tr>\n",
       "      <th>9</th>\n",
       "      <td>100</td>\n",
       "      <td>4</td>\n",
       "      <td>0.9216</td>\n",
       "      <td>0.041654</td>\n",
       "      <td>0.311985</td>\n",
       "    </tr>\n",
       "    <tr>\n",
       "      <th>10</th>\n",
       "      <td>200</td>\n",
       "      <td>0</td>\n",
       "      <td>0.9223</td>\n",
       "      <td>0.033975</td>\n",
       "      <td>0.309679</td>\n",
       "    </tr>\n",
       "    <tr>\n",
       "      <th>11</th>\n",
       "      <td>200</td>\n",
       "      <td>1</td>\n",
       "      <td>0.9219</td>\n",
       "      <td>0.032478</td>\n",
       "      <td>0.307535</td>\n",
       "    </tr>\n",
       "    <tr>\n",
       "      <th>12</th>\n",
       "      <td>200</td>\n",
       "      <td>2</td>\n",
       "      <td>0.9207</td>\n",
       "      <td>0.032054</td>\n",
       "      <td>0.309095</td>\n",
       "    </tr>\n",
       "    <tr>\n",
       "      <th>13</th>\n",
       "      <td>200</td>\n",
       "      <td>3</td>\n",
       "      <td>0.9213</td>\n",
       "      <td>0.029070</td>\n",
       "      <td>0.303106</td>\n",
       "    </tr>\n",
       "    <tr>\n",
       "      <th>14</th>\n",
       "      <td>200</td>\n",
       "      <td>4</td>\n",
       "      <td>0.9215</td>\n",
       "      <td>0.031644</td>\n",
       "      <td>0.293064</td>\n",
       "    </tr>\n",
       "    <tr>\n",
       "      <th>15</th>\n",
       "      <td>400</td>\n",
       "      <td>0</td>\n",
       "      <td>0.9224</td>\n",
       "      <td>0.025815</td>\n",
       "      <td>0.302444</td>\n",
       "    </tr>\n",
       "    <tr>\n",
       "      <th>16</th>\n",
       "      <td>400</td>\n",
       "      <td>1</td>\n",
       "      <td>0.9217</td>\n",
       "      <td>0.020285</td>\n",
       "      <td>0.306763</td>\n",
       "    </tr>\n",
       "    <tr>\n",
       "      <th>17</th>\n",
       "      <td>400</td>\n",
       "      <td>2</td>\n",
       "      <td>0.9209</td>\n",
       "      <td>0.014872</td>\n",
       "      <td>0.316647</td>\n",
       "    </tr>\n",
       "    <tr>\n",
       "      <th>18</th>\n",
       "      <td>400</td>\n",
       "      <td>3</td>\n",
       "      <td>0.9205</td>\n",
       "      <td>0.020276</td>\n",
       "      <td>0.312134</td>\n",
       "    </tr>\n",
       "    <tr>\n",
       "      <th>19</th>\n",
       "      <td>400</td>\n",
       "      <td>4</td>\n",
       "      <td>0.9216</td>\n",
       "      <td>0.024300</td>\n",
       "      <td>0.293841</td>\n",
       "    </tr>\n",
       "    <tr>\n",
       "      <th>20</th>\n",
       "      <td>800</td>\n",
       "      <td>0</td>\n",
       "      <td>0.9223</td>\n",
       "      <td>0.025263</td>\n",
       "      <td>0.306901</td>\n",
       "    </tr>\n",
       "    <tr>\n",
       "      <th>21</th>\n",
       "      <td>800</td>\n",
       "      <td>1</td>\n",
       "      <td>0.9226</td>\n",
       "      <td>0.021226</td>\n",
       "      <td>0.305686</td>\n",
       "    </tr>\n",
       "    <tr>\n",
       "      <th>22</th>\n",
       "      <td>800</td>\n",
       "      <td>2</td>\n",
       "      <td>0.9214</td>\n",
       "      <td>0.021407</td>\n",
       "      <td>0.313332</td>\n",
       "    </tr>\n",
       "    <tr>\n",
       "      <th>23</th>\n",
       "      <td>800</td>\n",
       "      <td>3</td>\n",
       "      <td>0.9217</td>\n",
       "      <td>0.021102</td>\n",
       "      <td>0.317266</td>\n",
       "    </tr>\n",
       "    <tr>\n",
       "      <th>24</th>\n",
       "      <td>800</td>\n",
       "      <td>4</td>\n",
       "      <td>0.9201</td>\n",
       "      <td>0.024095</td>\n",
       "      <td>0.313628</td>\n",
       "    </tr>\n",
       "    <tr>\n",
       "      <th>25</th>\n",
       "      <td>1600</td>\n",
       "      <td>0</td>\n",
       "      <td>0.9212</td>\n",
       "      <td>0.028952</td>\n",
       "      <td>0.314638</td>\n",
       "    </tr>\n",
       "    <tr>\n",
       "      <th>26</th>\n",
       "      <td>1600</td>\n",
       "      <td>1</td>\n",
       "      <td>0.9212</td>\n",
       "      <td>0.026049</td>\n",
       "      <td>0.313340</td>\n",
       "    </tr>\n",
       "    <tr>\n",
       "      <th>27</th>\n",
       "      <td>1600</td>\n",
       "      <td>2</td>\n",
       "      <td>0.9216</td>\n",
       "      <td>0.031539</td>\n",
       "      <td>0.323060</td>\n",
       "    </tr>\n",
       "    <tr>\n",
       "      <th>28</th>\n",
       "      <td>1600</td>\n",
       "      <td>3</td>\n",
       "      <td>0.9217</td>\n",
       "      <td>0.034534</td>\n",
       "      <td>0.321604</td>\n",
       "    </tr>\n",
       "    <tr>\n",
       "      <th>29</th>\n",
       "      <td>1600</td>\n",
       "      <td>4</td>\n",
       "      <td>0.9206</td>\n",
       "      <td>0.035259</td>\n",
       "      <td>0.317170</td>\n",
       "    </tr>\n",
       "  </tbody>\n",
       "</table>\n",
       "</div>"
      ],
      "text/plain": [
       "       M  seed  acc_laplace  ece_laplace  nll_laplace\n",
       "0     50     0       0.9225     0.047661     0.339286\n",
       "1     50     1       0.9220     0.047663     0.337458\n",
       "2     50     2       0.9221     0.047514     0.337451\n",
       "3     50     3       0.9221     0.047469     0.337264\n",
       "4     50     4       0.9222     0.047505     0.337386\n",
       "5    100     0       0.9222     0.042424     0.316404\n",
       "6    100     1       0.9213     0.042350     0.318159\n",
       "7    100     2       0.9209     0.042553     0.317037\n",
       "8    100     3       0.9221     0.040251     0.311399\n",
       "9    100     4       0.9216     0.041654     0.311985\n",
       "10   200     0       0.9223     0.033975     0.309679\n",
       "11   200     1       0.9219     0.032478     0.307535\n",
       "12   200     2       0.9207     0.032054     0.309095\n",
       "13   200     3       0.9213     0.029070     0.303106\n",
       "14   200     4       0.9215     0.031644     0.293064\n",
       "15   400     0       0.9224     0.025815     0.302444\n",
       "16   400     1       0.9217     0.020285     0.306763\n",
       "17   400     2       0.9209     0.014872     0.316647\n",
       "18   400     3       0.9205     0.020276     0.312134\n",
       "19   400     4       0.9216     0.024300     0.293841\n",
       "20   800     0       0.9223     0.025263     0.306901\n",
       "21   800     1       0.9226     0.021226     0.305686\n",
       "22   800     2       0.9214     0.021407     0.313332\n",
       "23   800     3       0.9217     0.021102     0.317266\n",
       "24   800     4       0.9201     0.024095     0.313628\n",
       "25  1600     0       0.9212     0.028952     0.314638\n",
       "26  1600     1       0.9212     0.026049     0.313340\n",
       "27  1600     2       0.9216     0.031539     0.323060\n",
       "28  1600     3       0.9217     0.034534     0.321604\n",
       "29  1600     4       0.9206     0.035259     0.317170"
      ]
     },
     "execution_count": 12,
     "metadata": {},
     "output_type": "execute_result"
    }
   ],
   "source": [
    "metrics_gp"
   ]
  },
  {
   "cell_type": "code",
   "execution_count": 13,
   "metadata": {},
   "outputs": [],
   "source": [
    "metrics_gp.to_csv(f\"results/{EXPERIMENT_NAME}\")"
   ]
  },
  {
   "cell_type": "markdown",
   "metadata": {},
   "source": [
    "## 4) results"
   ]
  },
  {
   "cell_type": "code",
   "execution_count": 20,
   "metadata": {},
   "outputs": [],
   "source": [
    "# EXPERIMENT_NAME = \"FMNIST_last_layer_23_12_2022_10_57_37_BNN-preds\"\n",
    "EXPERIMENT_NAME = \"FMNIST_last_layer_29_12_2022_12_37_13_BNN-preds\""
   ]
  },
  {
   "cell_type": "code",
   "execution_count": 21,
   "metadata": {},
   "outputs": [],
   "source": [
    "metrics_gp = pd.read_csv(f\"results/{EXPERIMENT_NAME}\")"
   ]
  },
  {
   "cell_type": "code",
   "execution_count": 22,
   "metadata": {},
   "outputs": [
    {
     "data": {
      "image/png": "[encoded data removed]",
      "text/plain": [
       "<Figure size 432x288 with 1 Axes>"
      ]
     },
     "metadata": {
      "needs_background": "light"
     },
     "output_type": "display_data"
    },
    {
     "data": {
      "image/png": "[encoded data removed]",
      "text/plain": [
       "<Figure size 432x288 with 1 Axes>"
      ]
     },
     "metadata": {
      "needs_background": "light"
     },
     "output_type": "display_data"
    },
    {
     "data": {
      "image/png": "[encoded data removed]",
      "text/plain": [
       "<Figure size 432x288 with 1 Axes>"
      ]
     },
     "metadata": {
      "needs_background": "light"
     },
     "output_type": "display_data"
    }
   ],
   "source": [
    "for metric in [\"acc_laplace\", \"ece_laplace\", \"nll_laplace\"]:\n",
    "    metrics_gp.groupby(by=\"M\")[[metric]].mean().rename({metric: \"GPLaplace\"}, axis=1).plot(style=\"-bo\")\n",
    "    plt.axhline(y=MAP_METRICS[metric[:3]], label=\"MAP\", color=\"red\")\n",
    "    plt.axhline(y=PARAM_LAPLACE_METRICS[metric[:3]], label=\"ParamLaplace\", color=\"green\")\n",
    "    plt.title(metric[:3])\n",
    "    plt.legend()\n",
    "    plt.show()"
   ]
  },
  {
   "cell_type": "code",
   "execution_count": null,
   "metadata": {},
   "outputs": [],
   "source": []
  }
 ],
 "metadata": {
  "kernelspec": {
   "display_name": "laplace",
   "language": "python",
   "name": "python3"
  },
  "language_info": {
   "codemirror_mode": {
    "name": "ipython",
    "version": 3
   },
   "file_extension": ".py",
   "mimetype": "text/x-python",
   "name": "python",
   "nbconvert_exporter": "python",
   "pygments_lexer": "ipython3",
   "version": "3.8.15"
  },
  "vscode": {
   "interpreter": {
    "hash": "fb9941f3b25f5f153e5f3cb3566d0301dfcc8b18d6fc5fb792c740611c084a6a"
   }
  }
 },
 "nbformat": 4,
 "nbformat_minor": 0
}
