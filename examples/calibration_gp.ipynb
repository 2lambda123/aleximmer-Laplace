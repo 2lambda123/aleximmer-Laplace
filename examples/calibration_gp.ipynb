{
 "cells": [
  {
   "cell_type": "code",
   "execution_count": 24,
   "metadata": {
    "collapsed": true
   },
   "outputs": [],
   "source": [
    "import warnings\n",
    "warnings.simplefilter(\"ignore\", UserWarning)\n",
    "import pandas as pd\n",
    "import matplotlib.pyplot as plt\n",
    "import torch\n",
    "import torch.distributions as dists\n",
    "import numpy as np\n",
    "import helper.wideresnet as wrn\n",
    "import helper.dataloaders as dl\n",
    "from helper import util\n",
    "from helper.calibration_gp_utils import predict, gp_calibration_eval\n",
    "from netcal.metrics import ECE\n",
    "\n",
    "from laplace import Laplace"
   ]
  },
  {
   "cell_type": "code",
   "execution_count": 2,
   "metadata": {},
   "outputs": [],
   "source": [
    "np.random.seed(7777)\n",
    "torch.manual_seed(7777)\n",
    "torch.backends.cudnn.deterministic = True\n",
    "torch.backends.cudnn.benchmark = True"
   ]
  },
  {
   "cell_type": "code",
   "execution_count": 3,
   "metadata": {},
   "outputs": [
    {
     "name": "stdout",
     "output_type": "stream",
     "text": [
      "False\n",
      "True\n",
      "1\n",
      "0\n",
      "NVIDIA GeForce GTX 1080 Ti\n"
     ]
    }
   ],
   "source": [
    "print(torch.has_mps)\n",
    "print(torch.cuda.is_available())\n",
    "print(torch.cuda.device_count())\n",
    "print(torch.cuda.current_device())\n",
    "print(torch.cuda.get_device_name(0))"
   ]
  },
  {
   "cell_type": "markdown",
   "metadata": {},
   "source": [
    "## 1) init"
   ]
  },
  {
   "cell_type": "markdown",
   "metadata": {},
   "source": [
    "### data"
   ]
  },
  {
   "cell_type": "code",
   "execution_count": 21,
   "metadata": {},
   "outputs": [
    {
     "name": "stdout",
     "output_type": "stream",
     "text": [
      "Files already downloaded and verified\n",
      "Files already downloaded and verified\n"
     ]
    }
   ],
   "source": [
    "train_loader = dl.CIFAR10(train=True)\n",
    "test_loader = dl.CIFAR10(train=False)\n",
    "targets = torch.cat([y for x, y in test_loader], dim=0).cpu()"
   ]
  },
  {
   "cell_type": "markdown",
   "metadata": {},
   "source": [
    "### model"
   ]
  },
  {
   "cell_type": "code",
   "execution_count": 22,
   "metadata": {},
   "outputs": [
    {
     "data": {
      "text/plain": [
       "<All keys matched successfully>"
      ]
     },
     "execution_count": 22,
     "metadata": {},
     "output_type": "execute_result"
    }
   ],
   "source": [
    "# The model is a standard WideResNet 16-4\n",
    "# Taken as is from https://github.com/hendrycks/outlier-exposure\n",
    "model = wrn.WideResNet(16, 4, num_classes=10).cuda().eval()\n",
    "# print( sum(p.numel() for p in model.parameters()))\n",
    "\n",
    "util.download_pretrained_model()\n",
    "model.load_state_dict(torch.load('./temp/CIFAR10_plain.pt'))"
   ]
  },
  {
   "cell_type": "markdown",
   "metadata": {},
   "source": [
    "## 2) baselines"
   ]
  },
  {
   "cell_type": "markdown",
   "metadata": {},
   "source": [
    "### MAP"
   ]
  },
  {
   "cell_type": "code",
   "execution_count": 23,
   "metadata": {},
   "outputs": [
    {
     "name": "stdout",
     "output_type": "stream",
     "text": [
      "[MAP] Acc.: 94.8%; ECE: 2.0%; NLL: 0.172\n"
     ]
    }
   ],
   "source": [
    "probs_map = predict(test_loader, model, laplace=False)\n",
    "acc_map = (probs_map.argmax(-1) == targets).float().mean()\n",
    "ece_map = ECE(bins=15).measure(probs_map.numpy(), targets.numpy())\n",
    "nll_map = -dists.Categorical(probs_map).log_prob(targets).mean()\n",
    "\n",
    "print(f'[MAP] Acc.: {acc_map:.1%}; ECE: {ece_map:.1%}; NLL: {nll_map:.3}')\n",
    "MAP_METRICS = {\"acc\": acc_map, \"ece\": ece_map, \"nll\": nll_map}"
   ]
  },
  {
   "cell_type": "markdown",
   "metadata": {},
   "source": [
    "### Parametric Laplace"
   ]
  },
  {
   "cell_type": "code",
   "execution_count": 28,
   "metadata": {},
   "outputs": [
    {
     "name": "stdout",
     "output_type": "stream",
     "text": [
      "[Laplace] Acc.: 94.8%; ECE: 0.8%; NLL: 0.157\n"
     ]
    }
   ],
   "source": [
    "la = Laplace(model, 'classification',\n",
    "             subset_of_weights='last_layer',\n",
    "             hessian_structure='kron')\n",
    "la.fit(train_loader)\n",
    "la.optimize_prior_precision(method='marglik')\n",
    "\n",
    "probs_laplace = predict(test_loader, la, laplace=True)\n",
    "acc_laplace = (probs_laplace.argmax(-1) == targets).float().mean()\n",
    "ece_laplace = ECE(bins=15).measure(probs_laplace.numpy(), targets.numpy())\n",
    "nll_laplace = -dists.Categorical(probs_laplace).log_prob(targets).mean()\n",
    "\n",
    "print(f'[Laplace] Acc.: {acc_laplace:.1%}; ECE: {ece_laplace:.1%}; NLL: {nll_laplace:.3}')\n",
    "PARAM_LAPLACE_METRICS = {\"acc\": acc_laplace, \"ece\": ece_laplace, \"nll\": nll_laplace}"
   ]
  },
  {
   "attachments": {},
   "cell_type": "markdown",
   "metadata": {},
   "source": [
    "## 3) Functional Laplace (GP)"
   ]
  },
  {
   "cell_type": "code",
   "execution_count": 7,
   "metadata": {},
   "outputs": [
    {
     "name": "stdout",
     "output_type": "stream",
     "text": [
      "10 0\n",
      "[Laplace] Acc.: 94.8%; ECE: 1.6%; NLL: 0.166\n"
     ]
    },
    {
     "name": "stderr",
     "output_type": "stream",
     "text": [
      "/home/metod/Desktop/PhD/year1/laplace/examples/helper/calibration_gp_utils.py:44: FutureWarning: The frame.append method is deprecated and will be removed from pandas in a future version. Use pandas.concat instead.\n",
      "  metrics_df = metrics_df.append({'M': m, 'seed': seed, 'acc_laplace': acc_laplace,\n"
     ]
    },
    {
     "name": "stdout",
     "output_type": "stream",
     "text": [
      "10 1\n",
      "[Laplace] Acc.: 94.8%; ECE: 1.7%; NLL: 0.166\n"
     ]
    },
    {
     "name": "stderr",
     "output_type": "stream",
     "text": [
      "/home/metod/Desktop/PhD/year1/laplace/examples/helper/calibration_gp_utils.py:44: FutureWarning: The frame.append method is deprecated and will be removed from pandas in a future version. Use pandas.concat instead.\n",
      "  metrics_df = metrics_df.append({'M': m, 'seed': seed, 'acc_laplace': acc_laplace,\n"
     ]
    },
    {
     "name": "stdout",
     "output_type": "stream",
     "text": [
      "10 2\n",
      "[Laplace] Acc.: 94.8%; ECE: 1.7%; NLL: 0.166\n"
     ]
    },
    {
     "name": "stderr",
     "output_type": "stream",
     "text": [
      "/home/metod/Desktop/PhD/year1/laplace/examples/helper/calibration_gp_utils.py:44: FutureWarning: The frame.append method is deprecated and will be removed from pandas in a future version. Use pandas.concat instead.\n",
      "  metrics_df = metrics_df.append({'M': m, 'seed': seed, 'acc_laplace': acc_laplace,\n"
     ]
    },
    {
     "name": "stdout",
     "output_type": "stream",
     "text": [
      "10 3\n",
      "[Laplace] Acc.: 94.9%; ECE: 1.6%; NLL: 0.166\n"
     ]
    },
    {
     "name": "stderr",
     "output_type": "stream",
     "text": [
      "/home/metod/Desktop/PhD/year1/laplace/examples/helper/calibration_gp_utils.py:44: FutureWarning: The frame.append method is deprecated and will be removed from pandas in a future version. Use pandas.concat instead.\n",
      "  metrics_df = metrics_df.append({'M': m, 'seed': seed, 'acc_laplace': acc_laplace,\n"
     ]
    },
    {
     "name": "stdout",
     "output_type": "stream",
     "text": [
      "10 4\n",
      "[Laplace] Acc.: 94.9%; ECE: 1.6%; NLL: 0.166\n"
     ]
    },
    {
     "name": "stderr",
     "output_type": "stream",
     "text": [
      "/home/metod/Desktop/PhD/year1/laplace/examples/helper/calibration_gp_utils.py:44: FutureWarning: The frame.append method is deprecated and will be removed from pandas in a future version. Use pandas.concat instead.\n",
      "  metrics_df = metrics_df.append({'M': m, 'seed': seed, 'acc_laplace': acc_laplace,\n"
     ]
    },
    {
     "name": "stdout",
     "output_type": "stream",
     "text": [
      "50 0\n",
      "[Laplace] Acc.: 94.8%; ECE: 1.1%; NLL: 0.159\n"
     ]
    },
    {
     "name": "stderr",
     "output_type": "stream",
     "text": [
      "/home/metod/Desktop/PhD/year1/laplace/examples/helper/calibration_gp_utils.py:44: FutureWarning: The frame.append method is deprecated and will be removed from pandas in a future version. Use pandas.concat instead.\n",
      "  metrics_df = metrics_df.append({'M': m, 'seed': seed, 'acc_laplace': acc_laplace,\n"
     ]
    },
    {
     "name": "stdout",
     "output_type": "stream",
     "text": [
      "50 1\n",
      "[Laplace] Acc.: 94.8%; ECE: 1.1%; NLL: 0.159\n"
     ]
    },
    {
     "name": "stderr",
     "output_type": "stream",
     "text": [
      "/home/metod/Desktop/PhD/year1/laplace/examples/helper/calibration_gp_utils.py:44: FutureWarning: The frame.append method is deprecated and will be removed from pandas in a future version. Use pandas.concat instead.\n",
      "  metrics_df = metrics_df.append({'M': m, 'seed': seed, 'acc_laplace': acc_laplace,\n"
     ]
    },
    {
     "name": "stdout",
     "output_type": "stream",
     "text": [
      "50 2\n",
      "[Laplace] Acc.: 94.9%; ECE: 1.1%; NLL: 0.159\n"
     ]
    },
    {
     "name": "stderr",
     "output_type": "stream",
     "text": [
      "/home/metod/Desktop/PhD/year1/laplace/examples/helper/calibration_gp_utils.py:44: FutureWarning: The frame.append method is deprecated and will be removed from pandas in a future version. Use pandas.concat instead.\n",
      "  metrics_df = metrics_df.append({'M': m, 'seed': seed, 'acc_laplace': acc_laplace,\n"
     ]
    },
    {
     "name": "stdout",
     "output_type": "stream",
     "text": [
      "50 3\n",
      "[Laplace] Acc.: 94.8%; ECE: 1.1%; NLL: 0.159\n"
     ]
    },
    {
     "name": "stderr",
     "output_type": "stream",
     "text": [
      "/home/metod/Desktop/PhD/year1/laplace/examples/helper/calibration_gp_utils.py:44: FutureWarning: The frame.append method is deprecated and will be removed from pandas in a future version. Use pandas.concat instead.\n",
      "  metrics_df = metrics_df.append({'M': m, 'seed': seed, 'acc_laplace': acc_laplace,\n"
     ]
    },
    {
     "name": "stdout",
     "output_type": "stream",
     "text": [
      "50 4\n",
      "[Laplace] Acc.: 94.8%; ECE: 1.1%; NLL: 0.159\n"
     ]
    },
    {
     "name": "stderr",
     "output_type": "stream",
     "text": [
      "/home/metod/Desktop/PhD/year1/laplace/examples/helper/calibration_gp_utils.py:44: FutureWarning: The frame.append method is deprecated and will be removed from pandas in a future version. Use pandas.concat instead.\n",
      "  metrics_df = metrics_df.append({'M': m, 'seed': seed, 'acc_laplace': acc_laplace,\n"
     ]
    },
    {
     "name": "stdout",
     "output_type": "stream",
     "text": [
      "100 0\n",
      "[Laplace] Acc.: 94.9%; ECE: 0.9%; NLL: 0.158\n"
     ]
    },
    {
     "name": "stderr",
     "output_type": "stream",
     "text": [
      "/home/metod/Desktop/PhD/year1/laplace/examples/helper/calibration_gp_utils.py:44: FutureWarning: The frame.append method is deprecated and will be removed from pandas in a future version. Use pandas.concat instead.\n",
      "  metrics_df = metrics_df.append({'M': m, 'seed': seed, 'acc_laplace': acc_laplace,\n"
     ]
    },
    {
     "name": "stdout",
     "output_type": "stream",
     "text": [
      "100 1\n",
      "[Laplace] Acc.: 94.8%; ECE: 0.8%; NLL: 0.157\n"
     ]
    },
    {
     "name": "stderr",
     "output_type": "stream",
     "text": [
      "/home/metod/Desktop/PhD/year1/laplace/examples/helper/calibration_gp_utils.py:44: FutureWarning: The frame.append method is deprecated and will be removed from pandas in a future version. Use pandas.concat instead.\n",
      "  metrics_df = metrics_df.append({'M': m, 'seed': seed, 'acc_laplace': acc_laplace,\n",
      "Traceback (most recent call last):\n",
      "  File \"/home/metod/miniconda3/envs/laplace/lib/python3.8/multiprocessing/util.py\", line 300, in _run_finalizers\n",
      "    finalizer()\n",
      "  File \"/home/metod/miniconda3/envs/laplace/lib/python3.8/multiprocessing/util.py\", line 224, in __call__\n",
      "    res = self._callback(*self._args, **self._kwargs)\n",
      "  File \"/home/metod/miniconda3/envs/laplace/lib/python3.8/multiprocessing/util.py\", line 133, in _remove_temp_dir\n",
      "    rmtree(tempdir)\n",
      "  File \"/home/metod/miniconda3/envs/laplace/lib/python3.8/shutil.py\", line 722, in rmtree\n",
      "    onerror(os.rmdir, path, sys.exc_info())\n",
      "  File \"/home/metod/miniconda3/envs/laplace/lib/python3.8/shutil.py\", line 720, in rmtree\n",
      "    os.rmdir(path)\n",
      "OSError: [Errno 39] Directory not empty: '/tmp/pymp-q4ei3nl7'\n"
     ]
    },
    {
     "name": "stdout",
     "output_type": "stream",
     "text": [
      "100 2\n",
      "[Laplace] Acc.: 94.8%; ECE: 0.6%; NLL: 0.157\n"
     ]
    },
    {
     "name": "stderr",
     "output_type": "stream",
     "text": [
      "/home/metod/Desktop/PhD/year1/laplace/examples/helper/calibration_gp_utils.py:44: FutureWarning: The frame.append method is deprecated and will be removed from pandas in a future version. Use pandas.concat instead.\n",
      "  metrics_df = metrics_df.append({'M': m, 'seed': seed, 'acc_laplace': acc_laplace,\n"
     ]
    },
    {
     "name": "stdout",
     "output_type": "stream",
     "text": [
      "100 3\n",
      "[Laplace] Acc.: 94.9%; ECE: 0.5%; NLL: 0.157\n"
     ]
    },
    {
     "name": "stderr",
     "output_type": "stream",
     "text": [
      "/home/metod/Desktop/PhD/year1/laplace/examples/helper/calibration_gp_utils.py:44: FutureWarning: The frame.append method is deprecated and will be removed from pandas in a future version. Use pandas.concat instead.\n",
      "  metrics_df = metrics_df.append({'M': m, 'seed': seed, 'acc_laplace': acc_laplace,\n"
     ]
    },
    {
     "name": "stdout",
     "output_type": "stream",
     "text": [
      "100 4\n",
      "[Laplace] Acc.: 94.9%; ECE: 0.5%; NLL: 0.159\n"
     ]
    },
    {
     "name": "stderr",
     "output_type": "stream",
     "text": [
      "/home/metod/Desktop/PhD/year1/laplace/examples/helper/calibration_gp_utils.py:44: FutureWarning: The frame.append method is deprecated and will be removed from pandas in a future version. Use pandas.concat instead.\n",
      "  metrics_df = metrics_df.append({'M': m, 'seed': seed, 'acc_laplace': acc_laplace,\n"
     ]
    },
    {
     "name": "stdout",
     "output_type": "stream",
     "text": [
      "300 0\n",
      "[Laplace] Acc.: 94.9%; ECE: 1.5%; NLL: 0.165\n"
     ]
    },
    {
     "name": "stderr",
     "output_type": "stream",
     "text": [
      "/home/metod/Desktop/PhD/year1/laplace/examples/helper/calibration_gp_utils.py:44: FutureWarning: The frame.append method is deprecated and will be removed from pandas in a future version. Use pandas.concat instead.\n",
      "  metrics_df = metrics_df.append({'M': m, 'seed': seed, 'acc_laplace': acc_laplace,\n"
     ]
    },
    {
     "name": "stdout",
     "output_type": "stream",
     "text": [
      "300 1\n",
      "[Laplace] Acc.: 94.9%; ECE: 1.7%; NLL: 0.168\n"
     ]
    },
    {
     "name": "stderr",
     "output_type": "stream",
     "text": [
      "/home/metod/Desktop/PhD/year1/laplace/examples/helper/calibration_gp_utils.py:44: FutureWarning: The frame.append method is deprecated and will be removed from pandas in a future version. Use pandas.concat instead.\n",
      "  metrics_df = metrics_df.append({'M': m, 'seed': seed, 'acc_laplace': acc_laplace,\n"
     ]
    },
    {
     "name": "stdout",
     "output_type": "stream",
     "text": [
      "300 2\n",
      "[Laplace] Acc.: 94.8%; ECE: 1.9%; NLL: 0.17\n"
     ]
    },
    {
     "name": "stderr",
     "output_type": "stream",
     "text": [
      "/home/metod/Desktop/PhD/year1/laplace/examples/helper/calibration_gp_utils.py:44: FutureWarning: The frame.append method is deprecated and will be removed from pandas in a future version. Use pandas.concat instead.\n",
      "  metrics_df = metrics_df.append({'M': m, 'seed': seed, 'acc_laplace': acc_laplace,\n"
     ]
    },
    {
     "name": "stdout",
     "output_type": "stream",
     "text": [
      "300 3\n",
      "[Laplace] Acc.: 94.9%; ECE: 1.7%; NLL: 0.168\n"
     ]
    },
    {
     "name": "stderr",
     "output_type": "stream",
     "text": [
      "/home/metod/Desktop/PhD/year1/laplace/examples/helper/calibration_gp_utils.py:44: FutureWarning: The frame.append method is deprecated and will be removed from pandas in a future version. Use pandas.concat instead.\n",
      "  metrics_df = metrics_df.append({'M': m, 'seed': seed, 'acc_laplace': acc_laplace,\n"
     ]
    },
    {
     "name": "stdout",
     "output_type": "stream",
     "text": [
      "300 4\n",
      "[Laplace] Acc.: 94.8%; ECE: 1.8%; NLL: 0.169\n"
     ]
    },
    {
     "name": "stderr",
     "output_type": "stream",
     "text": [
      "/home/metod/Desktop/PhD/year1/laplace/examples/helper/calibration_gp_utils.py:44: FutureWarning: The frame.append method is deprecated and will be removed from pandas in a future version. Use pandas.concat instead.\n",
      "  metrics_df = metrics_df.append({'M': m, 'seed': seed, 'acc_laplace': acc_laplace,\n"
     ]
    },
    {
     "name": "stdout",
     "output_type": "stream",
     "text": [
      "500 0\n",
      "[Laplace] Acc.: 94.8%; ECE: 1.8%; NLL: 0.168\n"
     ]
    },
    {
     "name": "stderr",
     "output_type": "stream",
     "text": [
      "/home/metod/Desktop/PhD/year1/laplace/examples/helper/calibration_gp_utils.py:44: FutureWarning: The frame.append method is deprecated and will be removed from pandas in a future version. Use pandas.concat instead.\n",
      "  metrics_df = metrics_df.append({'M': m, 'seed': seed, 'acc_laplace': acc_laplace,\n"
     ]
    },
    {
     "name": "stdout",
     "output_type": "stream",
     "text": [
      "500 1\n",
      "[Laplace] Acc.: 94.8%; ECE: 1.7%; NLL: 0.167\n"
     ]
    },
    {
     "name": "stderr",
     "output_type": "stream",
     "text": [
      "/home/metod/Desktop/PhD/year1/laplace/examples/helper/calibration_gp_utils.py:44: FutureWarning: The frame.append method is deprecated and will be removed from pandas in a future version. Use pandas.concat instead.\n",
      "  metrics_df = metrics_df.append({'M': m, 'seed': seed, 'acc_laplace': acc_laplace,\n"
     ]
    },
    {
     "name": "stdout",
     "output_type": "stream",
     "text": [
      "500 2\n",
      "[Laplace] Acc.: 94.9%; ECE: 1.8%; NLL: 0.168\n"
     ]
    },
    {
     "name": "stderr",
     "output_type": "stream",
     "text": [
      "/home/metod/Desktop/PhD/year1/laplace/examples/helper/calibration_gp_utils.py:44: FutureWarning: The frame.append method is deprecated and will be removed from pandas in a future version. Use pandas.concat instead.\n",
      "  metrics_df = metrics_df.append({'M': m, 'seed': seed, 'acc_laplace': acc_laplace,\n"
     ]
    },
    {
     "name": "stdout",
     "output_type": "stream",
     "text": [
      "500 3\n",
      "[Laplace] Acc.: 94.8%; ECE: 1.8%; NLL: 0.169\n"
     ]
    },
    {
     "name": "stderr",
     "output_type": "stream",
     "text": [
      "/home/metod/Desktop/PhD/year1/laplace/examples/helper/calibration_gp_utils.py:44: FutureWarning: The frame.append method is deprecated and will be removed from pandas in a future version. Use pandas.concat instead.\n",
      "  metrics_df = metrics_df.append({'M': m, 'seed': seed, 'acc_laplace': acc_laplace,\n"
     ]
    },
    {
     "name": "stdout",
     "output_type": "stream",
     "text": [
      "500 4\n",
      "[Laplace] Acc.: 94.8%; ECE: 1.8%; NLL: 0.169\n"
     ]
    },
    {
     "name": "stderr",
     "output_type": "stream",
     "text": [
      "/home/metod/Desktop/PhD/year1/laplace/examples/helper/calibration_gp_utils.py:44: FutureWarning: The frame.append method is deprecated and will be removed from pandas in a future version. Use pandas.concat instead.\n",
      "  metrics_df = metrics_df.append({'M': m, 'seed': seed, 'acc_laplace': acc_laplace,\n"
     ]
    },
    {
     "name": "stdout",
     "output_type": "stream",
     "text": [
      "1000 0\n",
      "[Laplace] Acc.: 94.8%; ECE: 1.7%; NLL: 0.167\n"
     ]
    },
    {
     "name": "stderr",
     "output_type": "stream",
     "text": [
      "/home/metod/Desktop/PhD/year1/laplace/examples/helper/calibration_gp_utils.py:44: FutureWarning: The frame.append method is deprecated and will be removed from pandas in a future version. Use pandas.concat instead.\n",
      "  metrics_df = metrics_df.append({'M': m, 'seed': seed, 'acc_laplace': acc_laplace,\n"
     ]
    },
    {
     "name": "stdout",
     "output_type": "stream",
     "text": [
      "1000 1\n",
      "[Laplace] Acc.: 94.9%; ECE: 1.7%; NLL: 0.167\n"
     ]
    },
    {
     "name": "stderr",
     "output_type": "stream",
     "text": [
      "/home/metod/Desktop/PhD/year1/laplace/examples/helper/calibration_gp_utils.py:44: FutureWarning: The frame.append method is deprecated and will be removed from pandas in a future version. Use pandas.concat instead.\n",
      "  metrics_df = metrics_df.append({'M': m, 'seed': seed, 'acc_laplace': acc_laplace,\n"
     ]
    },
    {
     "name": "stdout",
     "output_type": "stream",
     "text": [
      "1000 2\n",
      "[Laplace] Acc.: 94.8%; ECE: 1.7%; NLL: 0.167\n"
     ]
    },
    {
     "name": "stderr",
     "output_type": "stream",
     "text": [
      "/home/metod/Desktop/PhD/year1/laplace/examples/helper/calibration_gp_utils.py:44: FutureWarning: The frame.append method is deprecated and will be removed from pandas in a future version. Use pandas.concat instead.\n",
      "  metrics_df = metrics_df.append({'M': m, 'seed': seed, 'acc_laplace': acc_laplace,\n"
     ]
    },
    {
     "name": "stdout",
     "output_type": "stream",
     "text": [
      "1000 3\n",
      "[Laplace] Acc.: 94.8%; ECE: 1.6%; NLL: 0.165\n"
     ]
    },
    {
     "name": "stderr",
     "output_type": "stream",
     "text": [
      "/home/metod/Desktop/PhD/year1/laplace/examples/helper/calibration_gp_utils.py:44: FutureWarning: The frame.append method is deprecated and will be removed from pandas in a future version. Use pandas.concat instead.\n",
      "  metrics_df = metrics_df.append({'M': m, 'seed': seed, 'acc_laplace': acc_laplace,\n"
     ]
    },
    {
     "name": "stdout",
     "output_type": "stream",
     "text": [
      "1000 4\n",
      "[Laplace] Acc.: 94.8%; ECE: 1.6%; NLL: 0.166\n"
     ]
    },
    {
     "name": "stderr",
     "output_type": "stream",
     "text": [
      "/home/metod/Desktop/PhD/year1/laplace/examples/helper/calibration_gp_utils.py:44: FutureWarning: The frame.append method is deprecated and will be removed from pandas in a future version. Use pandas.concat instead.\n",
      "  metrics_df = metrics_df.append({'M': m, 'seed': seed, 'acc_laplace': acc_laplace,\n"
     ]
    }
   ],
   "source": [
    "metrics_gp = gp_calibration_eval(model=model, train_loader=train_loader, test_loader=test_loader)"
   ]
  },
  {
   "cell_type": "code",
   "execution_count": 8,
   "metadata": {},
   "outputs": [
    {
     "data": {
      "text/html": [
       "<div>\n",
       "<style scoped>\n",
       "    .dataframe tbody tr th:only-of-type {\n",
       "        vertical-align: middle;\n",
       "    }\n",
       "\n",
       "    .dataframe tbody tr th {\n",
       "        vertical-align: top;\n",
       "    }\n",
       "\n",
       "    .dataframe thead th {\n",
       "        text-align: right;\n",
       "    }\n",
       "</style>\n",
       "<table border=\"1\" class=\"dataframe\">\n",
       "  <thead>\n",
       "    <tr style=\"text-align: right;\">\n",
       "      <th></th>\n",
       "      <th>M</th>\n",
       "      <th>seed</th>\n",
       "      <th>acc_laplace</th>\n",
       "      <th>ece_laplace</th>\n",
       "      <th>nll_laplace</th>\n",
       "    </tr>\n",
       "  </thead>\n",
       "  <tbody>\n",
       "    <tr>\n",
       "      <th>0</th>\n",
       "      <td>10</td>\n",
       "      <td>0</td>\n",
       "      <td>tensor(0.9485)</td>\n",
       "      <td>0.016426</td>\n",
       "      <td>tensor(0.1661)</td>\n",
       "    </tr>\n",
       "    <tr>\n",
       "      <th>1</th>\n",
       "      <td>10</td>\n",
       "      <td>1</td>\n",
       "      <td>tensor(0.9485)</td>\n",
       "      <td>0.016652</td>\n",
       "      <td>tensor(0.1664)</td>\n",
       "    </tr>\n",
       "    <tr>\n",
       "      <th>2</th>\n",
       "      <td>10</td>\n",
       "      <td>2</td>\n",
       "      <td>tensor(0.9485)</td>\n",
       "      <td>0.016634</td>\n",
       "      <td>tensor(0.1664)</td>\n",
       "    </tr>\n",
       "    <tr>\n",
       "      <th>3</th>\n",
       "      <td>10</td>\n",
       "      <td>3</td>\n",
       "      <td>tensor(0.9486)</td>\n",
       "      <td>0.016389</td>\n",
       "      <td>tensor(0.1661)</td>\n",
       "    </tr>\n",
       "    <tr>\n",
       "      <th>4</th>\n",
       "      <td>10</td>\n",
       "      <td>4</td>\n",
       "      <td>tensor(0.9486)</td>\n",
       "      <td>0.016203</td>\n",
       "      <td>tensor(0.1658)</td>\n",
       "    </tr>\n",
       "    <tr>\n",
       "      <th>5</th>\n",
       "      <td>50</td>\n",
       "      <td>0</td>\n",
       "      <td>tensor(0.9482)</td>\n",
       "      <td>0.011086</td>\n",
       "      <td>tensor(0.1595)</td>\n",
       "    </tr>\n",
       "    <tr>\n",
       "      <th>6</th>\n",
       "      <td>50</td>\n",
       "      <td>1</td>\n",
       "      <td>tensor(0.9479)</td>\n",
       "      <td>0.011180</td>\n",
       "      <td>tensor(0.1592)</td>\n",
       "    </tr>\n",
       "    <tr>\n",
       "      <th>7</th>\n",
       "      <td>50</td>\n",
       "      <td>2</td>\n",
       "      <td>tensor(0.9487)</td>\n",
       "      <td>0.010619</td>\n",
       "      <td>tensor(0.1594)</td>\n",
       "    </tr>\n",
       "    <tr>\n",
       "      <th>8</th>\n",
       "      <td>50</td>\n",
       "      <td>3</td>\n",
       "      <td>tensor(0.9483)</td>\n",
       "      <td>0.011178</td>\n",
       "      <td>tensor(0.1587)</td>\n",
       "    </tr>\n",
       "    <tr>\n",
       "      <th>9</th>\n",
       "      <td>50</td>\n",
       "      <td>4</td>\n",
       "      <td>tensor(0.9482)</td>\n",
       "      <td>0.011006</td>\n",
       "      <td>tensor(0.1589)</td>\n",
       "    </tr>\n",
       "    <tr>\n",
       "      <th>10</th>\n",
       "      <td>100</td>\n",
       "      <td>0</td>\n",
       "      <td>tensor(0.9490)</td>\n",
       "      <td>0.009076</td>\n",
       "      <td>tensor(0.1578)</td>\n",
       "    </tr>\n",
       "    <tr>\n",
       "      <th>11</th>\n",
       "      <td>100</td>\n",
       "      <td>1</td>\n",
       "      <td>tensor(0.9483)</td>\n",
       "      <td>0.007704</td>\n",
       "      <td>tensor(0.1569)</td>\n",
       "    </tr>\n",
       "    <tr>\n",
       "      <th>12</th>\n",
       "      <td>100</td>\n",
       "      <td>2</td>\n",
       "      <td>tensor(0.9482)</td>\n",
       "      <td>0.006211</td>\n",
       "      <td>tensor(0.1569)</td>\n",
       "    </tr>\n",
       "    <tr>\n",
       "      <th>13</th>\n",
       "      <td>100</td>\n",
       "      <td>3</td>\n",
       "      <td>tensor(0.9489)</td>\n",
       "      <td>0.005217</td>\n",
       "      <td>tensor(0.1567)</td>\n",
       "    </tr>\n",
       "    <tr>\n",
       "      <th>14</th>\n",
       "      <td>100</td>\n",
       "      <td>4</td>\n",
       "      <td>tensor(0.9487)</td>\n",
       "      <td>0.005237</td>\n",
       "      <td>tensor(0.1586)</td>\n",
       "    </tr>\n",
       "    <tr>\n",
       "      <th>15</th>\n",
       "      <td>300</td>\n",
       "      <td>0</td>\n",
       "      <td>tensor(0.9486)</td>\n",
       "      <td>0.015496</td>\n",
       "      <td>tensor(0.1650)</td>\n",
       "    </tr>\n",
       "    <tr>\n",
       "      <th>16</th>\n",
       "      <td>300</td>\n",
       "      <td>1</td>\n",
       "      <td>tensor(0.9488)</td>\n",
       "      <td>0.017402</td>\n",
       "      <td>tensor(0.1682)</td>\n",
       "    </tr>\n",
       "    <tr>\n",
       "      <th>17</th>\n",
       "      <td>300</td>\n",
       "      <td>2</td>\n",
       "      <td>tensor(0.9485)</td>\n",
       "      <td>0.018784</td>\n",
       "      <td>tensor(0.1703)</td>\n",
       "    </tr>\n",
       "    <tr>\n",
       "      <th>18</th>\n",
       "      <td>300</td>\n",
       "      <td>3</td>\n",
       "      <td>tensor(0.9486)</td>\n",
       "      <td>0.017457</td>\n",
       "      <td>tensor(0.1681)</td>\n",
       "    </tr>\n",
       "    <tr>\n",
       "      <th>19</th>\n",
       "      <td>300</td>\n",
       "      <td>4</td>\n",
       "      <td>tensor(0.9484)</td>\n",
       "      <td>0.018217</td>\n",
       "      <td>tensor(0.1686)</td>\n",
       "    </tr>\n",
       "    <tr>\n",
       "      <th>20</th>\n",
       "      <td>500</td>\n",
       "      <td>0</td>\n",
       "      <td>tensor(0.9483)</td>\n",
       "      <td>0.017591</td>\n",
       "      <td>tensor(0.1676)</td>\n",
       "    </tr>\n",
       "    <tr>\n",
       "      <th>21</th>\n",
       "      <td>500</td>\n",
       "      <td>1</td>\n",
       "      <td>tensor(0.9484)</td>\n",
       "      <td>0.017042</td>\n",
       "      <td>tensor(0.1670)</td>\n",
       "    </tr>\n",
       "    <tr>\n",
       "      <th>22</th>\n",
       "      <td>500</td>\n",
       "      <td>2</td>\n",
       "      <td>tensor(0.9486)</td>\n",
       "      <td>0.017544</td>\n",
       "      <td>tensor(0.1675)</td>\n",
       "    </tr>\n",
       "    <tr>\n",
       "      <th>23</th>\n",
       "      <td>500</td>\n",
       "      <td>3</td>\n",
       "      <td>tensor(0.9485)</td>\n",
       "      <td>0.017885</td>\n",
       "      <td>tensor(0.1685)</td>\n",
       "    </tr>\n",
       "    <tr>\n",
       "      <th>24</th>\n",
       "      <td>500</td>\n",
       "      <td>4</td>\n",
       "      <td>tensor(0.9484)</td>\n",
       "      <td>0.018020</td>\n",
       "      <td>tensor(0.1687)</td>\n",
       "    </tr>\n",
       "    <tr>\n",
       "      <th>25</th>\n",
       "      <td>1000</td>\n",
       "      <td>0</td>\n",
       "      <td>tensor(0.9482)</td>\n",
       "      <td>0.017213</td>\n",
       "      <td>tensor(0.1670)</td>\n",
       "    </tr>\n",
       "    <tr>\n",
       "      <th>26</th>\n",
       "      <td>1000</td>\n",
       "      <td>1</td>\n",
       "      <td>tensor(0.9486)</td>\n",
       "      <td>0.016925</td>\n",
       "      <td>tensor(0.1671)</td>\n",
       "    </tr>\n",
       "    <tr>\n",
       "      <th>27</th>\n",
       "      <td>1000</td>\n",
       "      <td>2</td>\n",
       "      <td>tensor(0.9482)</td>\n",
       "      <td>0.016993</td>\n",
       "      <td>tensor(0.1667)</td>\n",
       "    </tr>\n",
       "    <tr>\n",
       "      <th>28</th>\n",
       "      <td>1000</td>\n",
       "      <td>3</td>\n",
       "      <td>tensor(0.9481)</td>\n",
       "      <td>0.015660</td>\n",
       "      <td>tensor(0.1651)</td>\n",
       "    </tr>\n",
       "    <tr>\n",
       "      <th>29</th>\n",
       "      <td>1000</td>\n",
       "      <td>4</td>\n",
       "      <td>tensor(0.9481)</td>\n",
       "      <td>0.016046</td>\n",
       "      <td>tensor(0.1660)</td>\n",
       "    </tr>\n",
       "  </tbody>\n",
       "</table>\n",
       "</div>"
      ],
      "text/plain": [
       "       M  seed     acc_laplace  ece_laplace     nll_laplace\n",
       "0     10     0  tensor(0.9485)     0.016426  tensor(0.1661)\n",
       "1     10     1  tensor(0.9485)     0.016652  tensor(0.1664)\n",
       "2     10     2  tensor(0.9485)     0.016634  tensor(0.1664)\n",
       "3     10     3  tensor(0.9486)     0.016389  tensor(0.1661)\n",
       "4     10     4  tensor(0.9486)     0.016203  tensor(0.1658)\n",
       "5     50     0  tensor(0.9482)     0.011086  tensor(0.1595)\n",
       "6     50     1  tensor(0.9479)     0.011180  tensor(0.1592)\n",
       "7     50     2  tensor(0.9487)     0.010619  tensor(0.1594)\n",
       "8     50     3  tensor(0.9483)     0.011178  tensor(0.1587)\n",
       "9     50     4  tensor(0.9482)     0.011006  tensor(0.1589)\n",
       "10   100     0  tensor(0.9490)     0.009076  tensor(0.1578)\n",
       "11   100     1  tensor(0.9483)     0.007704  tensor(0.1569)\n",
       "12   100     2  tensor(0.9482)     0.006211  tensor(0.1569)\n",
       "13   100     3  tensor(0.9489)     0.005217  tensor(0.1567)\n",
       "14   100     4  tensor(0.9487)     0.005237  tensor(0.1586)\n",
       "15   300     0  tensor(0.9486)     0.015496  tensor(0.1650)\n",
       "16   300     1  tensor(0.9488)     0.017402  tensor(0.1682)\n",
       "17   300     2  tensor(0.9485)     0.018784  tensor(0.1703)\n",
       "18   300     3  tensor(0.9486)     0.017457  tensor(0.1681)\n",
       "19   300     4  tensor(0.9484)     0.018217  tensor(0.1686)\n",
       "20   500     0  tensor(0.9483)     0.017591  tensor(0.1676)\n",
       "21   500     1  tensor(0.9484)     0.017042  tensor(0.1670)\n",
       "22   500     2  tensor(0.9486)     0.017544  tensor(0.1675)\n",
       "23   500     3  tensor(0.9485)     0.017885  tensor(0.1685)\n",
       "24   500     4  tensor(0.9484)     0.018020  tensor(0.1687)\n",
       "25  1000     0  tensor(0.9482)     0.017213  tensor(0.1670)\n",
       "26  1000     1  tensor(0.9486)     0.016925  tensor(0.1671)\n",
       "27  1000     2  tensor(0.9482)     0.016993  tensor(0.1667)\n",
       "28  1000     3  tensor(0.9481)     0.015660  tensor(0.1651)\n",
       "29  1000     4  tensor(0.9481)     0.016046  tensor(0.1660)"
      ]
     },
     "execution_count": 8,
     "metadata": {},
     "output_type": "execute_result"
    }
   ],
   "source": [
    "metrics_gp[\"acc_laplace\"] = metrics_gp[\"acc_laplace\"].apply(lambda x: x.cpu().item())\n",
    "metrics_gp[\"nll_laplace\"] = metrics_gp[\"nll_laplace\"].apply(lambda x: x.cpu().item())"
   ]
  },
  {
   "cell_type": "code",
   "execution_count": 14,
   "metadata": {},
   "outputs": [
    {
     "data": {
      "text/html": [
       "<div>\n",
       "<style scoped>\n",
       "    .dataframe tbody tr th:only-of-type {\n",
       "        vertical-align: middle;\n",
       "    }\n",
       "\n",
       "    .dataframe tbody tr th {\n",
       "        vertical-align: top;\n",
       "    }\n",
       "\n",
       "    .dataframe thead th {\n",
       "        text-align: right;\n",
       "    }\n",
       "</style>\n",
       "<table border=\"1\" class=\"dataframe\">\n",
       "  <thead>\n",
       "    <tr style=\"text-align: right;\">\n",
       "      <th></th>\n",
       "      <th>M</th>\n",
       "      <th>seed</th>\n",
       "      <th>acc_laplace</th>\n",
       "      <th>ece_laplace</th>\n",
       "      <th>nll_laplace</th>\n",
       "    </tr>\n",
       "  </thead>\n",
       "  <tbody>\n",
       "    <tr>\n",
       "      <th>0</th>\n",
       "      <td>10</td>\n",
       "      <td>0</td>\n",
       "      <td>0.9485</td>\n",
       "      <td>0.016426</td>\n",
       "      <td>0.166077</td>\n",
       "    </tr>\n",
       "    <tr>\n",
       "      <th>1</th>\n",
       "      <td>10</td>\n",
       "      <td>1</td>\n",
       "      <td>0.9485</td>\n",
       "      <td>0.016652</td>\n",
       "      <td>0.166429</td>\n",
       "    </tr>\n",
       "    <tr>\n",
       "      <th>2</th>\n",
       "      <td>10</td>\n",
       "      <td>2</td>\n",
       "      <td>0.9485</td>\n",
       "      <td>0.016634</td>\n",
       "      <td>0.166362</td>\n",
       "    </tr>\n",
       "    <tr>\n",
       "      <th>3</th>\n",
       "      <td>10</td>\n",
       "      <td>3</td>\n",
       "      <td>0.9486</td>\n",
       "      <td>0.016389</td>\n",
       "      <td>0.166112</td>\n",
       "    </tr>\n",
       "    <tr>\n",
       "      <th>4</th>\n",
       "      <td>10</td>\n",
       "      <td>4</td>\n",
       "      <td>0.9486</td>\n",
       "      <td>0.016203</td>\n",
       "      <td>0.165844</td>\n",
       "    </tr>\n",
       "    <tr>\n",
       "      <th>5</th>\n",
       "      <td>50</td>\n",
       "      <td>0</td>\n",
       "      <td>0.9482</td>\n",
       "      <td>0.011086</td>\n",
       "      <td>0.159490</td>\n",
       "    </tr>\n",
       "    <tr>\n",
       "      <th>6</th>\n",
       "      <td>50</td>\n",
       "      <td>1</td>\n",
       "      <td>0.9479</td>\n",
       "      <td>0.011180</td>\n",
       "      <td>0.159179</td>\n",
       "    </tr>\n",
       "    <tr>\n",
       "      <th>7</th>\n",
       "      <td>50</td>\n",
       "      <td>2</td>\n",
       "      <td>0.9487</td>\n",
       "      <td>0.010619</td>\n",
       "      <td>0.159435</td>\n",
       "    </tr>\n",
       "    <tr>\n",
       "      <th>8</th>\n",
       "      <td>50</td>\n",
       "      <td>3</td>\n",
       "      <td>0.9483</td>\n",
       "      <td>0.011178</td>\n",
       "      <td>0.158737</td>\n",
       "    </tr>\n",
       "    <tr>\n",
       "      <th>9</th>\n",
       "      <td>50</td>\n",
       "      <td>4</td>\n",
       "      <td>0.9482</td>\n",
       "      <td>0.011006</td>\n",
       "      <td>0.158925</td>\n",
       "    </tr>\n",
       "    <tr>\n",
       "      <th>10</th>\n",
       "      <td>100</td>\n",
       "      <td>0</td>\n",
       "      <td>0.9490</td>\n",
       "      <td>0.009076</td>\n",
       "      <td>0.157814</td>\n",
       "    </tr>\n",
       "    <tr>\n",
       "      <th>11</th>\n",
       "      <td>100</td>\n",
       "      <td>1</td>\n",
       "      <td>0.9483</td>\n",
       "      <td>0.007704</td>\n",
       "      <td>0.156945</td>\n",
       "    </tr>\n",
       "    <tr>\n",
       "      <th>12</th>\n",
       "      <td>100</td>\n",
       "      <td>2</td>\n",
       "      <td>0.9482</td>\n",
       "      <td>0.006211</td>\n",
       "      <td>0.156873</td>\n",
       "    </tr>\n",
       "    <tr>\n",
       "      <th>13</th>\n",
       "      <td>100</td>\n",
       "      <td>3</td>\n",
       "      <td>0.9489</td>\n",
       "      <td>0.005217</td>\n",
       "      <td>0.156699</td>\n",
       "    </tr>\n",
       "    <tr>\n",
       "      <th>14</th>\n",
       "      <td>100</td>\n",
       "      <td>4</td>\n",
       "      <td>0.9487</td>\n",
       "      <td>0.005237</td>\n",
       "      <td>0.158570</td>\n",
       "    </tr>\n",
       "    <tr>\n",
       "      <th>15</th>\n",
       "      <td>300</td>\n",
       "      <td>0</td>\n",
       "      <td>0.9486</td>\n",
       "      <td>0.015496</td>\n",
       "      <td>0.164960</td>\n",
       "    </tr>\n",
       "    <tr>\n",
       "      <th>16</th>\n",
       "      <td>300</td>\n",
       "      <td>1</td>\n",
       "      <td>0.9488</td>\n",
       "      <td>0.017402</td>\n",
       "      <td>0.168201</td>\n",
       "    </tr>\n",
       "    <tr>\n",
       "      <th>17</th>\n",
       "      <td>300</td>\n",
       "      <td>2</td>\n",
       "      <td>0.9485</td>\n",
       "      <td>0.018784</td>\n",
       "      <td>0.170316</td>\n",
       "    </tr>\n",
       "    <tr>\n",
       "      <th>18</th>\n",
       "      <td>300</td>\n",
       "      <td>3</td>\n",
       "      <td>0.9486</td>\n",
       "      <td>0.017457</td>\n",
       "      <td>0.168054</td>\n",
       "    </tr>\n",
       "    <tr>\n",
       "      <th>19</th>\n",
       "      <td>300</td>\n",
       "      <td>4</td>\n",
       "      <td>0.9484</td>\n",
       "      <td>0.018217</td>\n",
       "      <td>0.168577</td>\n",
       "    </tr>\n",
       "    <tr>\n",
       "      <th>20</th>\n",
       "      <td>500</td>\n",
       "      <td>0</td>\n",
       "      <td>0.9483</td>\n",
       "      <td>0.017591</td>\n",
       "      <td>0.167601</td>\n",
       "    </tr>\n",
       "    <tr>\n",
       "      <th>21</th>\n",
       "      <td>500</td>\n",
       "      <td>1</td>\n",
       "      <td>0.9484</td>\n",
       "      <td>0.017042</td>\n",
       "      <td>0.166988</td>\n",
       "    </tr>\n",
       "    <tr>\n",
       "      <th>22</th>\n",
       "      <td>500</td>\n",
       "      <td>2</td>\n",
       "      <td>0.9486</td>\n",
       "      <td>0.017544</td>\n",
       "      <td>0.167548</td>\n",
       "    </tr>\n",
       "    <tr>\n",
       "      <th>23</th>\n",
       "      <td>500</td>\n",
       "      <td>3</td>\n",
       "      <td>0.9485</td>\n",
       "      <td>0.017885</td>\n",
       "      <td>0.168539</td>\n",
       "    </tr>\n",
       "    <tr>\n",
       "      <th>24</th>\n",
       "      <td>500</td>\n",
       "      <td>4</td>\n",
       "      <td>0.9484</td>\n",
       "      <td>0.018020</td>\n",
       "      <td>0.168683</td>\n",
       "    </tr>\n",
       "    <tr>\n",
       "      <th>25</th>\n",
       "      <td>1000</td>\n",
       "      <td>0</td>\n",
       "      <td>0.9482</td>\n",
       "      <td>0.017213</td>\n",
       "      <td>0.167024</td>\n",
       "    </tr>\n",
       "    <tr>\n",
       "      <th>26</th>\n",
       "      <td>1000</td>\n",
       "      <td>1</td>\n",
       "      <td>0.9486</td>\n",
       "      <td>0.016925</td>\n",
       "      <td>0.167091</td>\n",
       "    </tr>\n",
       "    <tr>\n",
       "      <th>27</th>\n",
       "      <td>1000</td>\n",
       "      <td>2</td>\n",
       "      <td>0.9482</td>\n",
       "      <td>0.016993</td>\n",
       "      <td>0.166673</td>\n",
       "    </tr>\n",
       "    <tr>\n",
       "      <th>28</th>\n",
       "      <td>1000</td>\n",
       "      <td>3</td>\n",
       "      <td>0.9481</td>\n",
       "      <td>0.015660</td>\n",
       "      <td>0.165057</td>\n",
       "    </tr>\n",
       "    <tr>\n",
       "      <th>29</th>\n",
       "      <td>1000</td>\n",
       "      <td>4</td>\n",
       "      <td>0.9481</td>\n",
       "      <td>0.016046</td>\n",
       "      <td>0.166019</td>\n",
       "    </tr>\n",
       "  </tbody>\n",
       "</table>\n",
       "</div>"
      ],
      "text/plain": [
       "       M  seed  acc_laplace  ece_laplace  nll_laplace\n",
       "0     10     0       0.9485     0.016426     0.166077\n",
       "1     10     1       0.9485     0.016652     0.166429\n",
       "2     10     2       0.9485     0.016634     0.166362\n",
       "3     10     3       0.9486     0.016389     0.166112\n",
       "4     10     4       0.9486     0.016203     0.165844\n",
       "5     50     0       0.9482     0.011086     0.159490\n",
       "6     50     1       0.9479     0.011180     0.159179\n",
       "7     50     2       0.9487     0.010619     0.159435\n",
       "8     50     3       0.9483     0.011178     0.158737\n",
       "9     50     4       0.9482     0.011006     0.158925\n",
       "10   100     0       0.9490     0.009076     0.157814\n",
       "11   100     1       0.9483     0.007704     0.156945\n",
       "12   100     2       0.9482     0.006211     0.156873\n",
       "13   100     3       0.9489     0.005217     0.156699\n",
       "14   100     4       0.9487     0.005237     0.158570\n",
       "15   300     0       0.9486     0.015496     0.164960\n",
       "16   300     1       0.9488     0.017402     0.168201\n",
       "17   300     2       0.9485     0.018784     0.170316\n",
       "18   300     3       0.9486     0.017457     0.168054\n",
       "19   300     4       0.9484     0.018217     0.168577\n",
       "20   500     0       0.9483     0.017591     0.167601\n",
       "21   500     1       0.9484     0.017042     0.166988\n",
       "22   500     2       0.9486     0.017544     0.167548\n",
       "23   500     3       0.9485     0.017885     0.168539\n",
       "24   500     4       0.9484     0.018020     0.168683\n",
       "25  1000     0       0.9482     0.017213     0.167024\n",
       "26  1000     1       0.9486     0.016925     0.167091\n",
       "27  1000     2       0.9482     0.016993     0.166673\n",
       "28  1000     3       0.9481     0.015660     0.165057\n",
       "29  1000     4       0.9481     0.016046     0.166019"
      ]
     },
     "execution_count": 14,
     "metadata": {},
     "output_type": "execute_result"
    }
   ],
   "source": [
    "metrics_gp"
   ]
  },
  {
   "cell_type": "markdown",
   "metadata": {},
   "source": [
    "## 4) results"
   ]
  },
  {
   "cell_type": "code",
   "execution_count": 34,
   "metadata": {},
   "outputs": [
    {
     "data": {
      "image/png": "[encoded data removed]",
      "text/plain": [
       "<Figure size 432x288 with 1 Axes>"
      ]
     },
     "metadata": {
      "needs_background": "light"
     },
     "output_type": "display_data"
    },
    {
     "data": {
      "image/png": "[encoded data removed]",
      "text/plain": [
       "<Figure size 432x288 with 1 Axes>"
      ]
     },
     "metadata": {
      "needs_background": "light"
     },
     "output_type": "display_data"
    },
    {
     "data": {
      "image/png": "[encoded data removed]",
      "text/plain": [
       "<Figure size 432x288 with 1 Axes>"
      ]
     },
     "metadata": {
      "needs_background": "light"
     },
     "output_type": "display_data"
    }
   ],
   "source": [
    "for metric in [\"acc_laplace\", \"ece_laplace\", \"nll_laplace\"]:\n",
    "    metrics_gp.groupby(by=\"M\")[[metric]].mean().rename({metric: \"GPLaplace\"}, axis=1).plot(style=\"-bo\")\n",
    "    plt.axhline(y=MAP_METRICS[metric[:3]], label=\"MAP\", color=\"red\")\n",
    "    plt.axhline(y=PARAM_LAPLACE_METRICS[metric[:3]], label=\"ParamLaplace\", color=\"green\")\n",
    "    plt.title(metric[:3])\n",
    "    plt.legend()\n",
    "    plt.show()"
   ]
  },
  {
   "cell_type": "code",
   "execution_count": null,
   "metadata": {},
   "outputs": [],
   "source": []
  }
 ],
 "metadata": {
  "kernelspec": {
   "display_name": "Python 3",
   "language": "python",
   "name": "python3"
  },
  "language_info": {
   "codemirror_mode": {
    "name": "ipython",
    "version": 3
   },
   "file_extension": ".py",
   "mimetype": "text/x-python",
   "name": "python",
   "nbconvert_exporter": "python",
   "pygments_lexer": "ipython3",
   "version": "3.6.9 (default, Nov 25 2022, 14:10:45) \n[GCC 8.4.0]"
  },
  "vscode": {
   "interpreter": {
    "hash": "31f2aee4e71d21fbe5cf8b01ff0e069b9275f58929596ceb00d14d90e3e16cd6"
   }
  }
 },
 "nbformat": 4,
 "nbformat_minor": 0
}
