{
 "cells": [
  {
   "cell_type": "code",
   "execution_count": 1,
   "metadata": {
    "collapsed": true
   },
   "outputs": [
    {
     "name": "stderr",
     "output_type": "stream",
     "text": [
      "/home/metod/miniconda3/envs/laplace/lib/python3.8/site-packages/tqdm/auto.py:22: TqdmWarning: IProgress not found. Please update jupyter and ipywidgets. See https://ipywidgets.readthedocs.io/en/stable/user_install.html\n",
      "  from .autonotebook import tqdm as notebook_tqdm\n"
     ]
    }
   ],
   "source": [
    "import sys; sys.path.insert(0, \"../\")\n",
    "\n",
    "import warnings\n",
    "warnings.simplefilter(\"ignore\", UserWarning)\n",
    "from datetime import datetime\n",
    "import pandas as pd\n",
    "import matplotlib.pyplot as plt\n",
    "import torch\n",
    "import torch.distributions as dists\n",
    "import numpy as np\n",
    "import helper.wideresnet as wrn\n",
    "import helper.dataloaders as dl\n",
    "from helper import util\n",
    "from helper.calibration_gp_utils import predict, gp_calibration_eval\n",
    "from netcal.metrics import ECE\n",
    "\n",
    "from laplace import Laplace\n",
    "\n",
    "from helper.datasets import get_dataset\n",
    "from helper.models import get_model\n",
    "from torch.utils.data import DataLoader"
   ]
  },
  {
   "cell_type": "code",
   "execution_count": 2,
   "metadata": {},
   "outputs": [],
   "source": [
    "np.random.seed(7777)\n",
    "torch.manual_seed(7777)\n",
    "torch.backends.cudnn.deterministic = True\n",
    "torch.backends.cudnn.benchmark = True"
   ]
  },
  {
   "cell_type": "code",
   "execution_count": 3,
   "metadata": {},
   "outputs": [
    {
     "name": "stdout",
     "output_type": "stream",
     "text": [
      "False\n",
      "True\n",
      "1\n",
      "0\n",
      "NVIDIA GeForce GTX 1080 Ti\n"
     ]
    }
   ],
   "source": [
    "print(torch.has_mps)\n",
    "print(torch.cuda.is_available())\n",
    "print(torch.cuda.device_count())\n",
    "print(torch.cuda.current_device())\n",
    "print(torch.cuda.get_device_name(0))"
   ]
  },
  {
   "cell_type": "code",
   "execution_count": 4,
   "metadata": {},
   "outputs": [],
   "source": [
    "REPO = \"BNN-preds\"\n",
    "# REPO = \"Laplace\"\n",
    "\n",
    "# DATASET = \"FMNIST\"\n",
    "DATASET = \"CIFAR10\"\n",
    "\n",
    "SUBSET_OF_WEIGHTS = \"last_layer\"\n",
    "# SUBSET_OF_WEIGHTS = \"all\"\n",
    "\n",
    "# option REPO=\"Laplace\" & DATASET=\"CIFAR10\" & SUBSET_OF_WEIGHTS = \"last_layer\" can not be evaluated since the model AllCNN does not have linear last layer "
   ]
  },
  {
   "cell_type": "code",
   "execution_count": 5,
   "metadata": {},
   "outputs": [],
   "source": [
    "now = datetime.now()\n",
    "dt_string = now.strftime(\"%d_%m_%Y_%H_%M_%S\")\n",
    "EXPERIMENT_NAME = f\"{DATASET}_{SUBSET_OF_WEIGHTS}_{dt_string}_{REPO}\""
   ]
  },
  {
   "cell_type": "markdown",
   "metadata": {},
   "source": [
    "## 1) init"
   ]
  },
  {
   "cell_type": "markdown",
   "metadata": {},
   "source": [
    "### data"
   ]
  },
  {
   "cell_type": "code",
   "execution_count": 6,
   "metadata": {},
   "outputs": [
    {
     "name": "stdout",
     "output_type": "stream",
     "text": [
      "Files already downloaded and verified\n",
      "Files already downloaded and verified\n"
     ]
    }
   ],
   "source": [
    "if REPO == \"BNN-preds\":\n",
    "    ds_train, ds_test = get_dataset(DATASET, False, 'cuda')\n",
    "    train_loader = DataLoader(ds_train, batch_size=128, shuffle=True)\n",
    "    test_loader = DataLoader(ds_test, batch_size=100, shuffle=False)\n",
    "    targets = torch.cat([y for x, y in test_loader], dim=0).cpu()\n",
    "elif REPO == \"Laplace\":\n",
    "    assert DATASET == \"CIFAR10\"\n",
    "    train_loader = dl.CIFAR10(train=True)\n",
    "    test_loader = dl.CIFAR10(train=False)\n",
    "    targets = torch.cat([y for x, y in test_loader], dim=0).cpu()"
   ]
  },
  {
   "cell_type": "markdown",
   "metadata": {},
   "source": [
    "### model"
   ]
  },
  {
   "cell_type": "code",
   "execution_count": 7,
   "metadata": {},
   "outputs": [],
   "source": [
    "if REPO == \"BNN-preds\":\n",
    "    if DATASET == \"FMNIST\":\n",
    "        model = get_model('CNN', ds_train).to('cuda')\n",
    "        state = torch.load(\"helper/models/FMNIST_CNN_117_4.6e-01.pt\")\n",
    "        \n",
    "    elif DATASET == \"CIFAR10\":\n",
    "        model = get_model('AllCNN', ds_train).to('cuda')\n",
    "        state = torch.load(\"helper/models/CIFAR10_AllCNN_117_1.0e+01.pt\")\n",
    "    model.load_state_dict(state['model'])\n",
    "    model = model.cuda()\n",
    "else:\n",
    "    assert DATASET == \"CIFAR10\"\n",
    "    # The model is a standard WideResNet 16-4\n",
    "    # Taken as is from https://github.com/hendrycks/outlier-exposure\n",
    "    model = wrn.WideResNet(16, 4, num_classes=10).cuda().eval()\n",
    "    # print( sum(p.numel() for p in model.parameters()))\n",
    "\n",
    "    util.download_pretrained_model()\n",
    "    model.load_state_dict(torch.load('./temp/CIFAR10_plain.pt'))"
   ]
  },
  {
   "cell_type": "markdown",
   "metadata": {},
   "source": [
    "## 2) baselines"
   ]
  },
  {
   "cell_type": "markdown",
   "metadata": {},
   "source": [
    "### MAP"
   ]
  },
  {
   "cell_type": "code",
   "execution_count": 8,
   "metadata": {},
   "outputs": [
    {
     "name": "stdout",
     "output_type": "stream",
     "text": [
      "[MAP] Acc.: 83.1%; ECE: 13.0%; NLL: 1.13\n"
     ]
    }
   ],
   "source": [
    "probs_map = predict(test_loader, model, laplace=False)\n",
    "acc_map = (probs_map.argmax(-1) == targets).float().mean()\n",
    "ece_map = ECE(bins=15).measure(probs_map.numpy(), targets.numpy())\n",
    "nll_map = -dists.Categorical(probs_map).log_prob(targets).mean()\n",
    "\n",
    "print(f'[MAP] Acc.: {acc_map:.1%}; ECE: {ece_map:.1%}; NLL: {nll_map:.3}')\n",
    "MAP_METRICS = {\"acc\": acc_map, \"ece\": ece_map, \"nll\": nll_map}"
   ]
  },
  {
   "cell_type": "markdown",
   "metadata": {},
   "source": [
    "### Parametric Laplace"
   ]
  },
  {
   "cell_type": "code",
   "execution_count": 9,
   "metadata": {},
   "outputs": [
    {
     "ename": "RuntimeError",
     "evalue": "CUDA out of memory. Tried to allocate 5.10 GiB (GPU 0; 10.91 GiB total capacity; 6.49 GiB already allocated; 446.56 MiB free; 7.89 GiB reserved in total by PyTorch) If reserved memory is >> allocated memory try setting max_split_size_mb to avoid fragmentation.  See documentation for Memory Management and PYTORCH_CUDA_ALLOC_CONF",
     "output_type": "error",
     "traceback": [
      "\u001b[0;31m---------------------------------------------------------------------------\u001b[0m",
      "\u001b[0;31mRuntimeError\u001b[0m                              Traceback (most recent call last)",
      "\u001b[1;32m/home/metod/Desktop/PhD/year1/Laplace/examples/calibration_gp.ipynb Cell 15\u001b[0m in \u001b[0;36m<cell line: 7>\u001b[0;34m()\u001b[0m\n\u001b[1;32m      <a href='vscode-notebook-cell://ssh-remote%2B146.50.28.98/home/metod/Desktop/PhD/year1/Laplace/examples/calibration_gp.ipynb#X20sdnNjb2RlLXJlbW90ZQ%3D%3D?line=3'>4</a>\u001b[0m la\u001b[39m.\u001b[39mfit(train_loader)\n\u001b[1;32m      <a href='vscode-notebook-cell://ssh-remote%2B146.50.28.98/home/metod/Desktop/PhD/year1/Laplace/examples/calibration_gp.ipynb#X20sdnNjb2RlLXJlbW90ZQ%3D%3D?line=4'>5</a>\u001b[0m la\u001b[39m.\u001b[39moptimize_prior_precision(method\u001b[39m=\u001b[39m\u001b[39m'\u001b[39m\u001b[39mmarglik\u001b[39m\u001b[39m'\u001b[39m)\n\u001b[0;32m----> <a href='vscode-notebook-cell://ssh-remote%2B146.50.28.98/home/metod/Desktop/PhD/year1/Laplace/examples/calibration_gp.ipynb#X20sdnNjb2RlLXJlbW90ZQ%3D%3D?line=6'>7</a>\u001b[0m probs_laplace \u001b[39m=\u001b[39m predict(test_loader, la, laplace\u001b[39m=\u001b[39;49m\u001b[39mTrue\u001b[39;49;00m)\n\u001b[1;32m      <a href='vscode-notebook-cell://ssh-remote%2B146.50.28.98/home/metod/Desktop/PhD/year1/Laplace/examples/calibration_gp.ipynb#X20sdnNjb2RlLXJlbW90ZQ%3D%3D?line=7'>8</a>\u001b[0m acc_laplace \u001b[39m=\u001b[39m (probs_laplace\u001b[39m.\u001b[39margmax(\u001b[39m-\u001b[39m\u001b[39m1\u001b[39m) \u001b[39m==\u001b[39m targets)\u001b[39m.\u001b[39mfloat()\u001b[39m.\u001b[39mmean()\n\u001b[1;32m      <a href='vscode-notebook-cell://ssh-remote%2B146.50.28.98/home/metod/Desktop/PhD/year1/Laplace/examples/calibration_gp.ipynb#X20sdnNjb2RlLXJlbW90ZQ%3D%3D?line=8'>9</a>\u001b[0m ece_laplace \u001b[39m=\u001b[39m ECE(bins\u001b[39m=\u001b[39m\u001b[39m15\u001b[39m)\u001b[39m.\u001b[39mmeasure(probs_laplace\u001b[39m.\u001b[39mnumpy(), targets\u001b[39m.\u001b[39mnumpy())\n",
      "File \u001b[0;32m~/miniconda3/envs/laplace/lib/python3.8/site-packages/torch/autograd/grad_mode.py:27\u001b[0m, in \u001b[0;36m_DecoratorContextManager.__call__.<locals>.decorate_context\u001b[0;34m(*args, **kwargs)\u001b[0m\n\u001b[1;32m     24\u001b[0m \u001b[39m@functools\u001b[39m\u001b[39m.\u001b[39mwraps(func)\n\u001b[1;32m     25\u001b[0m \u001b[39mdef\u001b[39;00m \u001b[39mdecorate_context\u001b[39m(\u001b[39m*\u001b[39margs, \u001b[39m*\u001b[39m\u001b[39m*\u001b[39mkwargs):\n\u001b[1;32m     26\u001b[0m     \u001b[39mwith\u001b[39;00m \u001b[39mself\u001b[39m\u001b[39m.\u001b[39mclone():\n\u001b[0;32m---> 27\u001b[0m         \u001b[39mreturn\u001b[39;00m func(\u001b[39m*\u001b[39;49margs, \u001b[39m*\u001b[39;49m\u001b[39m*\u001b[39;49mkwargs)\n",
      "File \u001b[0;32m~/Desktop/PhD/year1/Laplace/examples/helper/calibration_gp_utils.py:17\u001b[0m, in \u001b[0;36mpredict\u001b[0;34m(dataloader, model, laplace)\u001b[0m\n\u001b[1;32m     15\u001b[0m \u001b[39mfor\u001b[39;00m x, _ \u001b[39min\u001b[39;00m dataloader:\n\u001b[1;32m     16\u001b[0m     \u001b[39mif\u001b[39;00m laplace:\n\u001b[0;32m---> 17\u001b[0m         py\u001b[39m.\u001b[39mappend(model(x\u001b[39m.\u001b[39;49mcuda()))\n\u001b[1;32m     18\u001b[0m     \u001b[39melse\u001b[39;00m:\n\u001b[1;32m     19\u001b[0m         py\u001b[39m.\u001b[39mappend(torch\u001b[39m.\u001b[39msoftmax(model(x\u001b[39m.\u001b[39mcuda()), dim\u001b[39m=\u001b[39m\u001b[39m-\u001b[39m\u001b[39m1\u001b[39m))\n",
      "File \u001b[0;32m~/Desktop/PhD/year1/Laplace/examples/../laplace/baselaplace.py:610\u001b[0m, in \u001b[0;36mParametricLaplace.__call__\u001b[0;34m(self, x, pred_type, link_approx, n_samples, diagonal_output, generator)\u001b[0m\n\u001b[1;32m    607\u001b[0m         \u001b[39mraise\u001b[39;00m \u001b[39mValueError\u001b[39;00m(\u001b[39m'\u001b[39m\u001b[39mInvalid random generator (check type and device).\u001b[39m\u001b[39m'\u001b[39m)\n\u001b[1;32m    609\u001b[0m \u001b[39mif\u001b[39;00m pred_type \u001b[39m==\u001b[39m \u001b[39m'\u001b[39m\u001b[39mglm\u001b[39m\u001b[39m'\u001b[39m:\n\u001b[0;32m--> 610\u001b[0m     f_mu, f_var \u001b[39m=\u001b[39m \u001b[39mself\u001b[39;49m\u001b[39m.\u001b[39;49m_glm_predictive_distribution(x)\n\u001b[1;32m    611\u001b[0m     \u001b[39m# regression\u001b[39;00m\n\u001b[1;32m    612\u001b[0m     \u001b[39mif\u001b[39;00m \u001b[39mself\u001b[39m\u001b[39m.\u001b[39mlikelihood \u001b[39m==\u001b[39m \u001b[39m'\u001b[39m\u001b[39mregression\u001b[39m\u001b[39m'\u001b[39m:\n",
      "File \u001b[0;32m~/miniconda3/envs/laplace/lib/python3.8/site-packages/torch/autograd/grad_mode.py:27\u001b[0m, in \u001b[0;36m_DecoratorContextManager.__call__.<locals>.decorate_context\u001b[0;34m(*args, **kwargs)\u001b[0m\n\u001b[1;32m     24\u001b[0m \u001b[39m@functools\u001b[39m\u001b[39m.\u001b[39mwraps(func)\n\u001b[1;32m     25\u001b[0m \u001b[39mdef\u001b[39;00m \u001b[39mdecorate_context\u001b[39m(\u001b[39m*\u001b[39margs, \u001b[39m*\u001b[39m\u001b[39m*\u001b[39mkwargs):\n\u001b[1;32m     26\u001b[0m     \u001b[39mwith\u001b[39;00m \u001b[39mself\u001b[39m\u001b[39m.\u001b[39mclone():\n\u001b[0;32m---> 27\u001b[0m         \u001b[39mreturn\u001b[39;00m func(\u001b[39m*\u001b[39;49margs, \u001b[39m*\u001b[39;49m\u001b[39m*\u001b[39;49mkwargs)\n",
      "File \u001b[0;32m~/Desktop/PhD/year1/Laplace/examples/../laplace/baselaplace.py:693\u001b[0m, in \u001b[0;36mParametricLaplace._glm_predictive_distribution\u001b[0;34m(self, X)\u001b[0m\n\u001b[1;32m    691\u001b[0m \u001b[39m@torch\u001b[39m\u001b[39m.\u001b[39menable_grad()\n\u001b[1;32m    692\u001b[0m \u001b[39mdef\u001b[39;00m \u001b[39m_glm_predictive_distribution\u001b[39m(\u001b[39mself\u001b[39m, X):\n\u001b[0;32m--> 693\u001b[0m     Js, f_mu \u001b[39m=\u001b[39m \u001b[39mself\u001b[39;49m\u001b[39m.\u001b[39;49mbackend\u001b[39m.\u001b[39;49mjacobians(X)\n\u001b[1;32m    694\u001b[0m     f_var \u001b[39m=\u001b[39m \u001b[39mself\u001b[39m\u001b[39m.\u001b[39mfunctional_variance(Js)\n\u001b[1;32m    695\u001b[0m     \u001b[39mreturn\u001b[39;00m f_mu\u001b[39m.\u001b[39mdetach(), f_var\u001b[39m.\u001b[39mdetach()\n",
      "File \u001b[0;32m~/Desktop/PhD/year1/Laplace/examples/../laplace/curvature/asdl.py:47\u001b[0m, in \u001b[0;36mAsdlInterface.jacobians\u001b[0;34m(self, x)\u001b[0m\n\u001b[1;32m     45\u001b[0m         Jk \u001b[39m=\u001b[39m Jk[:, \u001b[39mself\u001b[39m\u001b[39m.\u001b[39msubnetwork_indices]\n\u001b[1;32m     46\u001b[0m     Js\u001b[39m.\u001b[39mappend(Jk)\n\u001b[0;32m---> 47\u001b[0m Js \u001b[39m=\u001b[39m torch\u001b[39m.\u001b[39;49mstack(Js, dim\u001b[39m=\u001b[39;49m\u001b[39m1\u001b[39;49m)\n\u001b[1;32m     48\u001b[0m \u001b[39mreturn\u001b[39;00m Js, f\n",
      "\u001b[0;31mRuntimeError\u001b[0m: CUDA out of memory. Tried to allocate 5.10 GiB (GPU 0; 10.91 GiB total capacity; 6.49 GiB already allocated; 446.56 MiB free; 7.89 GiB reserved in total by PyTorch) If reserved memory is >> allocated memory try setting max_split_size_mb to avoid fragmentation.  See documentation for Memory Management and PYTORCH_CUDA_ALLOC_CONF"
     ]
    }
   ],
   "source": [
    "la = Laplace(model, 'classification',\n",
    "             subset_of_weights=SUBSET_OF_WEIGHTS,\n",
    "             hessian_structure='kron')\n",
    "la.fit(train_loader)\n",
    "la.optimize_prior_precision(method='marglik')\n",
    "\n",
    "probs_laplace = predict(test_loader, la, laplace=True)\n",
    "acc_laplace = (probs_laplace.argmax(-1) == targets).float().mean()\n",
    "ece_laplace = ECE(bins=15).measure(probs_laplace.numpy(), targets.numpy())\n",
    "nll_laplace = -dists.Categorical(probs_laplace).log_prob(targets).mean()\n",
    "\n",
    "print(f'[Laplace] Acc.: {acc_laplace:.1%}; ECE: {ece_laplace:.1%}; NLL: {nll_laplace:.3}')\n",
    "PARAM_LAPLACE_METRICS = {\"acc\": acc_laplace, \"ece\": ece_laplace, \"nll\": nll_laplace}"
   ]
  },
  {
   "attachments": {},
   "cell_type": "markdown",
   "metadata": {},
   "source": [
    "## 3) Functional Laplace (GP)"
   ]
  },
  {
   "cell_type": "code",
   "execution_count": null,
   "metadata": {},
   "outputs": [
    {
     "name": "stdout",
     "output_type": "stream",
     "text": [
      "50 0\n",
      "[Laplace] Acc.: 94.8%; ECE: 1.0%; NLL: 0.158\n"
     ]
    },
    {
     "name": "stderr",
     "output_type": "stream",
     "text": [
      "/home/metod/Desktop/PhD/year1/Laplace/examples/helper/calibration_gp_utils.py:44: FutureWarning: The frame.append method is deprecated and will be removed from pandas in a future version. Use pandas.concat instead.\n",
      "  metrics_df = metrics_df.append({'M': m, 'seed': seed, 'acc_laplace': acc_laplace,\n"
     ]
    },
    {
     "name": "stdout",
     "output_type": "stream",
     "text": [
      "50 1\n",
      "[Laplace] Acc.: 94.8%; ECE: 1.0%; NLL: 0.159\n"
     ]
    },
    {
     "name": "stderr",
     "output_type": "stream",
     "text": [
      "/home/metod/Desktop/PhD/year1/Laplace/examples/helper/calibration_gp_utils.py:44: FutureWarning: The frame.append method is deprecated and will be removed from pandas in a future version. Use pandas.concat instead.\n",
      "  metrics_df = metrics_df.append({'M': m, 'seed': seed, 'acc_laplace': acc_laplace,\n"
     ]
    },
    {
     "name": "stdout",
     "output_type": "stream",
     "text": [
      "50 2\n",
      "[Laplace] Acc.: 94.8%; ECE: 1.1%; NLL: 0.159\n"
     ]
    },
    {
     "name": "stderr",
     "output_type": "stream",
     "text": [
      "/home/metod/Desktop/PhD/year1/Laplace/examples/helper/calibration_gp_utils.py:44: FutureWarning: The frame.append method is deprecated and will be removed from pandas in a future version. Use pandas.concat instead.\n",
      "  metrics_df = metrics_df.append({'M': m, 'seed': seed, 'acc_laplace': acc_laplace,\n"
     ]
    },
    {
     "name": "stdout",
     "output_type": "stream",
     "text": [
      "50 3\n",
      "[Laplace] Acc.: 94.9%; ECE: 1.1%; NLL: 0.158\n"
     ]
    },
    {
     "name": "stderr",
     "output_type": "stream",
     "text": [
      "/home/metod/Desktop/PhD/year1/Laplace/examples/helper/calibration_gp_utils.py:44: FutureWarning: The frame.append method is deprecated and will be removed from pandas in a future version. Use pandas.concat instead.\n",
      "  metrics_df = metrics_df.append({'M': m, 'seed': seed, 'acc_laplace': acc_laplace,\n"
     ]
    },
    {
     "name": "stdout",
     "output_type": "stream",
     "text": [
      "50 4\n",
      "[Laplace] Acc.: 94.9%; ECE: 1.1%; NLL: 0.16\n"
     ]
    },
    {
     "name": "stderr",
     "output_type": "stream",
     "text": [
      "/home/metod/Desktop/PhD/year1/Laplace/examples/helper/calibration_gp_utils.py:44: FutureWarning: The frame.append method is deprecated and will be removed from pandas in a future version. Use pandas.concat instead.\n",
      "  metrics_df = metrics_df.append({'M': m, 'seed': seed, 'acc_laplace': acc_laplace,\n"
     ]
    },
    {
     "name": "stdout",
     "output_type": "stream",
     "text": [
      "100 0\n",
      "[Laplace] Acc.: 94.8%; ECE: 0.6%; NLL: 0.159\n"
     ]
    },
    {
     "name": "stderr",
     "output_type": "stream",
     "text": [
      "/home/metod/Desktop/PhD/year1/Laplace/examples/helper/calibration_gp_utils.py:44: FutureWarning: The frame.append method is deprecated and will be removed from pandas in a future version. Use pandas.concat instead.\n",
      "  metrics_df = metrics_df.append({'M': m, 'seed': seed, 'acc_laplace': acc_laplace,\n"
     ]
    },
    {
     "name": "stdout",
     "output_type": "stream",
     "text": [
      "100 1\n",
      "[Laplace] Acc.: 94.8%; ECE: 1.0%; NLL: 0.159\n"
     ]
    },
    {
     "name": "stderr",
     "output_type": "stream",
     "text": [
      "/home/metod/Desktop/PhD/year1/Laplace/examples/helper/calibration_gp_utils.py:44: FutureWarning: The frame.append method is deprecated and will be removed from pandas in a future version. Use pandas.concat instead.\n",
      "  metrics_df = metrics_df.append({'M': m, 'seed': seed, 'acc_laplace': acc_laplace,\n"
     ]
    },
    {
     "name": "stdout",
     "output_type": "stream",
     "text": [
      "100 2\n",
      "[Laplace] Acc.: 94.8%; ECE: 0.6%; NLL: 0.159\n"
     ]
    },
    {
     "name": "stderr",
     "output_type": "stream",
     "text": [
      "/home/metod/Desktop/PhD/year1/Laplace/examples/helper/calibration_gp_utils.py:44: FutureWarning: The frame.append method is deprecated and will be removed from pandas in a future version. Use pandas.concat instead.\n",
      "  metrics_df = metrics_df.append({'M': m, 'seed': seed, 'acc_laplace': acc_laplace,\n"
     ]
    },
    {
     "name": "stdout",
     "output_type": "stream",
     "text": [
      "100 3\n",
      "[Laplace] Acc.: 94.9%; ECE: 0.6%; NLL: 0.156\n"
     ]
    },
    {
     "name": "stderr",
     "output_type": "stream",
     "text": [
      "/home/metod/Desktop/PhD/year1/Laplace/examples/helper/calibration_gp_utils.py:44: FutureWarning: The frame.append method is deprecated and will be removed from pandas in a future version. Use pandas.concat instead.\n",
      "  metrics_df = metrics_df.append({'M': m, 'seed': seed, 'acc_laplace': acc_laplace,\n"
     ]
    },
    {
     "name": "stdout",
     "output_type": "stream",
     "text": [
      "100 4\n",
      "[Laplace] Acc.: 94.8%; ECE: 0.6%; NLL: 0.161\n"
     ]
    },
    {
     "name": "stderr",
     "output_type": "stream",
     "text": [
      "/home/metod/Desktop/PhD/year1/Laplace/examples/helper/calibration_gp_utils.py:44: FutureWarning: The frame.append method is deprecated and will be removed from pandas in a future version. Use pandas.concat instead.\n",
      "  metrics_df = metrics_df.append({'M': m, 'seed': seed, 'acc_laplace': acc_laplace,\n"
     ]
    },
    {
     "name": "stdout",
     "output_type": "stream",
     "text": [
      "200 0\n",
      "[Laplace] Acc.: 94.8%; ECE: 1.9%; NLL: 0.17\n"
     ]
    },
    {
     "name": "stderr",
     "output_type": "stream",
     "text": [
      "/home/metod/Desktop/PhD/year1/Laplace/examples/helper/calibration_gp_utils.py:44: FutureWarning: The frame.append method is deprecated and will be removed from pandas in a future version. Use pandas.concat instead.\n",
      "  metrics_df = metrics_df.append({'M': m, 'seed': seed, 'acc_laplace': acc_laplace,\n"
     ]
    },
    {
     "name": "stdout",
     "output_type": "stream",
     "text": [
      "200 1\n",
      "[Laplace] Acc.: 94.8%; ECE: 1.0%; NLL: 0.159\n"
     ]
    },
    {
     "name": "stderr",
     "output_type": "stream",
     "text": [
      "/home/metod/Desktop/PhD/year1/Laplace/examples/helper/calibration_gp_utils.py:44: FutureWarning: The frame.append method is deprecated and will be removed from pandas in a future version. Use pandas.concat instead.\n",
      "  metrics_df = metrics_df.append({'M': m, 'seed': seed, 'acc_laplace': acc_laplace,\n"
     ]
    },
    {
     "name": "stdout",
     "output_type": "stream",
     "text": [
      "200 2\n",
      "[Laplace] Acc.: 94.8%; ECE: 1.9%; NLL: 0.17\n"
     ]
    },
    {
     "name": "stderr",
     "output_type": "stream",
     "text": [
      "/home/metod/Desktop/PhD/year1/Laplace/examples/helper/calibration_gp_utils.py:44: FutureWarning: The frame.append method is deprecated and will be removed from pandas in a future version. Use pandas.concat instead.\n",
      "  metrics_df = metrics_df.append({'M': m, 'seed': seed, 'acc_laplace': acc_laplace,\n"
     ]
    },
    {
     "name": "stdout",
     "output_type": "stream",
     "text": [
      "200 3\n",
      "[Laplace] Acc.: 94.8%; ECE: 1.9%; NLL: 0.171\n"
     ]
    },
    {
     "name": "stderr",
     "output_type": "stream",
     "text": [
      "/home/metod/Desktop/PhD/year1/Laplace/examples/helper/calibration_gp_utils.py:44: FutureWarning: The frame.append method is deprecated and will be removed from pandas in a future version. Use pandas.concat instead.\n",
      "  metrics_df = metrics_df.append({'M': m, 'seed': seed, 'acc_laplace': acc_laplace,\n"
     ]
    },
    {
     "name": "stdout",
     "output_type": "stream",
     "text": [
      "200 4\n",
      "[Laplace] Acc.: 94.8%; ECE: 1.9%; NLL: 0.17\n"
     ]
    },
    {
     "name": "stderr",
     "output_type": "stream",
     "text": [
      "/home/metod/Desktop/PhD/year1/Laplace/examples/helper/calibration_gp_utils.py:44: FutureWarning: The frame.append method is deprecated and will be removed from pandas in a future version. Use pandas.concat instead.\n",
      "  metrics_df = metrics_df.append({'M': m, 'seed': seed, 'acc_laplace': acc_laplace,\n"
     ]
    },
    {
     "name": "stdout",
     "output_type": "stream",
     "text": [
      "400 0\n",
      "[Laplace] Acc.: 94.9%; ECE: 1.8%; NLL: 0.168\n"
     ]
    },
    {
     "name": "stderr",
     "output_type": "stream",
     "text": [
      "/home/metod/Desktop/PhD/year1/Laplace/examples/helper/calibration_gp_utils.py:44: FutureWarning: The frame.append method is deprecated and will be removed from pandas in a future version. Use pandas.concat instead.\n",
      "  metrics_df = metrics_df.append({'M': m, 'seed': seed, 'acc_laplace': acc_laplace,\n"
     ]
    },
    {
     "name": "stdout",
     "output_type": "stream",
     "text": [
      "400 1\n",
      "[Laplace] Acc.: 94.9%; ECE: 1.8%; NLL: 0.169\n"
     ]
    },
    {
     "name": "stderr",
     "output_type": "stream",
     "text": [
      "/home/metod/Desktop/PhD/year1/Laplace/examples/helper/calibration_gp_utils.py:44: FutureWarning: The frame.append method is deprecated and will be removed from pandas in a future version. Use pandas.concat instead.\n",
      "  metrics_df = metrics_df.append({'M': m, 'seed': seed, 'acc_laplace': acc_laplace,\n"
     ]
    },
    {
     "name": "stdout",
     "output_type": "stream",
     "text": [
      "400 2\n",
      "[Laplace] Acc.: 94.9%; ECE: 1.4%; NLL: 0.163\n"
     ]
    },
    {
     "name": "stderr",
     "output_type": "stream",
     "text": [
      "/home/metod/Desktop/PhD/year1/Laplace/examples/helper/calibration_gp_utils.py:44: FutureWarning: The frame.append method is deprecated and will be removed from pandas in a future version. Use pandas.concat instead.\n",
      "  metrics_df = metrics_df.append({'M': m, 'seed': seed, 'acc_laplace': acc_laplace,\n"
     ]
    },
    {
     "name": "stdout",
     "output_type": "stream",
     "text": [
      "400 3\n",
      "[Laplace] Acc.: 94.9%; ECE: 1.7%; NLL: 0.168\n"
     ]
    },
    {
     "name": "stderr",
     "output_type": "stream",
     "text": [
      "/home/metod/Desktop/PhD/year1/Laplace/examples/helper/calibration_gp_utils.py:44: FutureWarning: The frame.append method is deprecated and will be removed from pandas in a future version. Use pandas.concat instead.\n",
      "  metrics_df = metrics_df.append({'M': m, 'seed': seed, 'acc_laplace': acc_laplace,\n"
     ]
    },
    {
     "name": "stdout",
     "output_type": "stream",
     "text": [
      "400 4\n",
      "[Laplace] Acc.: 94.8%; ECE: 1.6%; NLL: 0.165\n"
     ]
    },
    {
     "name": "stderr",
     "output_type": "stream",
     "text": [
      "/home/metod/Desktop/PhD/year1/Laplace/examples/helper/calibration_gp_utils.py:44: FutureWarning: The frame.append method is deprecated and will be removed from pandas in a future version. Use pandas.concat instead.\n",
      "  metrics_df = metrics_df.append({'M': m, 'seed': seed, 'acc_laplace': acc_laplace,\n"
     ]
    },
    {
     "name": "stdout",
     "output_type": "stream",
     "text": [
      "800 0\n",
      "[Laplace] Acc.: 94.9%; ECE: 1.7%; NLL: 0.168\n"
     ]
    },
    {
     "name": "stderr",
     "output_type": "stream",
     "text": [
      "/home/metod/Desktop/PhD/year1/Laplace/examples/helper/calibration_gp_utils.py:44: FutureWarning: The frame.append method is deprecated and will be removed from pandas in a future version. Use pandas.concat instead.\n",
      "  metrics_df = metrics_df.append({'M': m, 'seed': seed, 'acc_laplace': acc_laplace,\n"
     ]
    },
    {
     "name": "stdout",
     "output_type": "stream",
     "text": [
      "800 1\n",
      "[Laplace] Acc.: 94.8%; ECE: 1.7%; NLL: 0.166\n"
     ]
    },
    {
     "name": "stderr",
     "output_type": "stream",
     "text": [
      "/home/metod/Desktop/PhD/year1/Laplace/examples/helper/calibration_gp_utils.py:44: FutureWarning: The frame.append method is deprecated and will be removed from pandas in a future version. Use pandas.concat instead.\n",
      "  metrics_df = metrics_df.append({'M': m, 'seed': seed, 'acc_laplace': acc_laplace,\n"
     ]
    },
    {
     "name": "stdout",
     "output_type": "stream",
     "text": [
      "800 2\n",
      "[Laplace] Acc.: 94.9%; ECE: 1.7%; NLL: 0.167\n"
     ]
    },
    {
     "name": "stderr",
     "output_type": "stream",
     "text": [
      "/home/metod/Desktop/PhD/year1/Laplace/examples/helper/calibration_gp_utils.py:44: FutureWarning: The frame.append method is deprecated and will be removed from pandas in a future version. Use pandas.concat instead.\n",
      "  metrics_df = metrics_df.append({'M': m, 'seed': seed, 'acc_laplace': acc_laplace,\n"
     ]
    },
    {
     "name": "stdout",
     "output_type": "stream",
     "text": [
      "800 3\n",
      "[Laplace] Acc.: 94.8%; ECE: 1.4%; NLL: 0.162\n"
     ]
    },
    {
     "name": "stderr",
     "output_type": "stream",
     "text": [
      "/home/metod/Desktop/PhD/year1/Laplace/examples/helper/calibration_gp_utils.py:44: FutureWarning: The frame.append method is deprecated and will be removed from pandas in a future version. Use pandas.concat instead.\n",
      "  metrics_df = metrics_df.append({'M': m, 'seed': seed, 'acc_laplace': acc_laplace,\n"
     ]
    },
    {
     "name": "stdout",
     "output_type": "stream",
     "text": [
      "800 4\n",
      "[Laplace] Acc.: 94.9%; ECE: 1.7%; NLL: 0.168\n"
     ]
    },
    {
     "name": "stderr",
     "output_type": "stream",
     "text": [
      "/home/metod/Desktop/PhD/year1/Laplace/examples/helper/calibration_gp_utils.py:44: FutureWarning: The frame.append method is deprecated and will be removed from pandas in a future version. Use pandas.concat instead.\n",
      "  metrics_df = metrics_df.append({'M': m, 'seed': seed, 'acc_laplace': acc_laplace,\n"
     ]
    },
    {
     "name": "stdout",
     "output_type": "stream",
     "text": [
      "1600 0\n",
      "[Laplace] Acc.: 94.8%; ECE: 1.9%; NLL: 0.169\n"
     ]
    },
    {
     "name": "stderr",
     "output_type": "stream",
     "text": [
      "/home/metod/Desktop/PhD/year1/Laplace/examples/helper/calibration_gp_utils.py:44: FutureWarning: The frame.append method is deprecated and will be removed from pandas in a future version. Use pandas.concat instead.\n",
      "  metrics_df = metrics_df.append({'M': m, 'seed': seed, 'acc_laplace': acc_laplace,\n"
     ]
    },
    {
     "name": "stdout",
     "output_type": "stream",
     "text": [
      "1600 1\n",
      "[Laplace] Acc.: 94.9%; ECE: 1.7%; NLL: 0.168\n"
     ]
    },
    {
     "name": "stderr",
     "output_type": "stream",
     "text": [
      "/home/metod/Desktop/PhD/year1/Laplace/examples/helper/calibration_gp_utils.py:44: FutureWarning: The frame.append method is deprecated and will be removed from pandas in a future version. Use pandas.concat instead.\n",
      "  metrics_df = metrics_df.append({'M': m, 'seed': seed, 'acc_laplace': acc_laplace,\n"
     ]
    },
    {
     "name": "stdout",
     "output_type": "stream",
     "text": [
      "1600 2\n",
      "[Laplace] Acc.: 94.9%; ECE: 1.8%; NLL: 0.169\n"
     ]
    },
    {
     "name": "stderr",
     "output_type": "stream",
     "text": [
      "/home/metod/Desktop/PhD/year1/Laplace/examples/helper/calibration_gp_utils.py:44: FutureWarning: The frame.append method is deprecated and will be removed from pandas in a future version. Use pandas.concat instead.\n",
      "  metrics_df = metrics_df.append({'M': m, 'seed': seed, 'acc_laplace': acc_laplace,\n"
     ]
    },
    {
     "name": "stdout",
     "output_type": "stream",
     "text": [
      "1600 3\n",
      "[Laplace] Acc.: 94.8%; ECE: 1.7%; NLL: 0.168\n"
     ]
    },
    {
     "name": "stderr",
     "output_type": "stream",
     "text": [
      "/home/metod/Desktop/PhD/year1/Laplace/examples/helper/calibration_gp_utils.py:44: FutureWarning: The frame.append method is deprecated and will be removed from pandas in a future version. Use pandas.concat instead.\n",
      "  metrics_df = metrics_df.append({'M': m, 'seed': seed, 'acc_laplace': acc_laplace,\n"
     ]
    },
    {
     "name": "stdout",
     "output_type": "stream",
     "text": [
      "1600 4\n",
      "[Laplace] Acc.: 94.8%; ECE: 1.7%; NLL: 0.168\n"
     ]
    },
    {
     "name": "stderr",
     "output_type": "stream",
     "text": [
      "/home/metod/Desktop/PhD/year1/Laplace/examples/helper/calibration_gp_utils.py:44: FutureWarning: The frame.append method is deprecated and will be removed from pandas in a future version. Use pandas.concat instead.\n",
      "  metrics_df = metrics_df.append({'M': m, 'seed': seed, 'acc_laplace': acc_laplace,\n"
     ]
    }
   ],
   "source": [
    "metrics_gp = gp_calibration_eval(model=model, train_loader=train_loader, \n",
    "                                 subset_of_weights=SUBSET_OF_WEIGHTS, test_loader=test_loader,\n",
    "                                 M_arr=[50, 100, 200, 400, 800, 1600]) \n",
    "                                 # M_arr=[50, 100, 200, 400, 800, 1600, 3200])"
   ]
  },
  {
   "cell_type": "code",
   "execution_count": null,
   "metadata": {},
   "outputs": [],
   "source": [
    "metrics_gp[\"acc_laplace\"] = metrics_gp[\"acc_laplace\"].apply(lambda x: x.cpu().item())\n",
    "metrics_gp[\"nll_laplace\"] = metrics_gp[\"nll_laplace\"].apply(lambda x: x.cpu().item())"
   ]
  },
  {
   "cell_type": "code",
   "execution_count": null,
   "metadata": {},
   "outputs": [
    {
     "data": {
      "text/html": [
       "<div>\n",
       "<style scoped>\n",
       "    .dataframe tbody tr th:only-of-type {\n",
       "        vertical-align: middle;\n",
       "    }\n",
       "\n",
       "    .dataframe tbody tr th {\n",
       "        vertical-align: top;\n",
       "    }\n",
       "\n",
       "    .dataframe thead th {\n",
       "        text-align: right;\n",
       "    }\n",
       "</style>\n",
       "<table border=\"1\" class=\"dataframe\">\n",
       "  <thead>\n",
       "    <tr style=\"text-align: right;\">\n",
       "      <th></th>\n",
       "      <th>M</th>\n",
       "      <th>seed</th>\n",
       "      <th>acc_laplace</th>\n",
       "      <th>ece_laplace</th>\n",
       "      <th>nll_laplace</th>\n",
       "    </tr>\n",
       "  </thead>\n",
       "  <tbody>\n",
       "    <tr>\n",
       "      <th>0</th>\n",
       "      <td>50</td>\n",
       "      <td>0</td>\n",
       "      <td>0.9485</td>\n",
       "      <td>0.010187</td>\n",
       "      <td>0.158365</td>\n",
       "    </tr>\n",
       "    <tr>\n",
       "      <th>1</th>\n",
       "      <td>50</td>\n",
       "      <td>1</td>\n",
       "      <td>0.9476</td>\n",
       "      <td>0.010145</td>\n",
       "      <td>0.158803</td>\n",
       "    </tr>\n",
       "    <tr>\n",
       "      <th>2</th>\n",
       "      <td>50</td>\n",
       "      <td>2</td>\n",
       "      <td>0.9483</td>\n",
       "      <td>0.010542</td>\n",
       "      <td>0.159039</td>\n",
       "    </tr>\n",
       "    <tr>\n",
       "      <th>3</th>\n",
       "      <td>50</td>\n",
       "      <td>3</td>\n",
       "      <td>0.9487</td>\n",
       "      <td>0.010653</td>\n",
       "      <td>0.157966</td>\n",
       "    </tr>\n",
       "    <tr>\n",
       "      <th>4</th>\n",
       "      <td>50</td>\n",
       "      <td>4</td>\n",
       "      <td>0.9486</td>\n",
       "      <td>0.010607</td>\n",
       "      <td>0.159606</td>\n",
       "    </tr>\n",
       "    <tr>\n",
       "      <th>5</th>\n",
       "      <td>100</td>\n",
       "      <td>0</td>\n",
       "      <td>0.9484</td>\n",
       "      <td>0.006256</td>\n",
       "      <td>0.158606</td>\n",
       "    </tr>\n",
       "    <tr>\n",
       "      <th>6</th>\n",
       "      <td>100</td>\n",
       "      <td>1</td>\n",
       "      <td>0.9483</td>\n",
       "      <td>0.009772</td>\n",
       "      <td>0.158920</td>\n",
       "    </tr>\n",
       "    <tr>\n",
       "      <th>7</th>\n",
       "      <td>100</td>\n",
       "      <td>2</td>\n",
       "      <td>0.9484</td>\n",
       "      <td>0.005684</td>\n",
       "      <td>0.158612</td>\n",
       "    </tr>\n",
       "    <tr>\n",
       "      <th>8</th>\n",
       "      <td>100</td>\n",
       "      <td>3</td>\n",
       "      <td>0.9492</td>\n",
       "      <td>0.006003</td>\n",
       "      <td>0.156168</td>\n",
       "    </tr>\n",
       "    <tr>\n",
       "      <th>9</th>\n",
       "      <td>100</td>\n",
       "      <td>4</td>\n",
       "      <td>0.9476</td>\n",
       "      <td>0.005810</td>\n",
       "      <td>0.160516</td>\n",
       "    </tr>\n",
       "    <tr>\n",
       "      <th>10</th>\n",
       "      <td>200</td>\n",
       "      <td>0</td>\n",
       "      <td>0.9485</td>\n",
       "      <td>0.018699</td>\n",
       "      <td>0.170147</td>\n",
       "    </tr>\n",
       "    <tr>\n",
       "      <th>11</th>\n",
       "      <td>200</td>\n",
       "      <td>1</td>\n",
       "      <td>0.9476</td>\n",
       "      <td>0.010214</td>\n",
       "      <td>0.158629</td>\n",
       "    </tr>\n",
       "    <tr>\n",
       "      <th>12</th>\n",
       "      <td>200</td>\n",
       "      <td>2</td>\n",
       "      <td>0.9485</td>\n",
       "      <td>0.018538</td>\n",
       "      <td>0.169792</td>\n",
       "    </tr>\n",
       "    <tr>\n",
       "      <th>13</th>\n",
       "      <td>200</td>\n",
       "      <td>3</td>\n",
       "      <td>0.9485</td>\n",
       "      <td>0.019059</td>\n",
       "      <td>0.170762</td>\n",
       "    </tr>\n",
       "    <tr>\n",
       "      <th>14</th>\n",
       "      <td>200</td>\n",
       "      <td>4</td>\n",
       "      <td>0.9485</td>\n",
       "      <td>0.018817</td>\n",
       "      <td>0.170414</td>\n",
       "    </tr>\n",
       "    <tr>\n",
       "      <th>15</th>\n",
       "      <td>400</td>\n",
       "      <td>0</td>\n",
       "      <td>0.9487</td>\n",
       "      <td>0.017541</td>\n",
       "      <td>0.168027</td>\n",
       "    </tr>\n",
       "    <tr>\n",
       "      <th>16</th>\n",
       "      <td>400</td>\n",
       "      <td>1</td>\n",
       "      <td>0.9487</td>\n",
       "      <td>0.017948</td>\n",
       "      <td>0.168684</td>\n",
       "    </tr>\n",
       "    <tr>\n",
       "      <th>17</th>\n",
       "      <td>400</td>\n",
       "      <td>2</td>\n",
       "      <td>0.9486</td>\n",
       "      <td>0.014209</td>\n",
       "      <td>0.162916</td>\n",
       "    </tr>\n",
       "    <tr>\n",
       "      <th>18</th>\n",
       "      <td>400</td>\n",
       "      <td>3</td>\n",
       "      <td>0.9486</td>\n",
       "      <td>0.017368</td>\n",
       "      <td>0.167872</td>\n",
       "    </tr>\n",
       "    <tr>\n",
       "      <th>19</th>\n",
       "      <td>400</td>\n",
       "      <td>4</td>\n",
       "      <td>0.9481</td>\n",
       "      <td>0.015862</td>\n",
       "      <td>0.164926</td>\n",
       "    </tr>\n",
       "    <tr>\n",
       "      <th>20</th>\n",
       "      <td>800</td>\n",
       "      <td>0</td>\n",
       "      <td>0.9486</td>\n",
       "      <td>0.017275</td>\n",
       "      <td>0.167692</td>\n",
       "    </tr>\n",
       "    <tr>\n",
       "      <th>21</th>\n",
       "      <td>800</td>\n",
       "      <td>1</td>\n",
       "      <td>0.9482</td>\n",
       "      <td>0.017128</td>\n",
       "      <td>0.166284</td>\n",
       "    </tr>\n",
       "    <tr>\n",
       "      <th>22</th>\n",
       "      <td>800</td>\n",
       "      <td>2</td>\n",
       "      <td>0.9487</td>\n",
       "      <td>0.016692</td>\n",
       "      <td>0.166910</td>\n",
       "    </tr>\n",
       "    <tr>\n",
       "      <th>23</th>\n",
       "      <td>800</td>\n",
       "      <td>3</td>\n",
       "      <td>0.9483</td>\n",
       "      <td>0.014389</td>\n",
       "      <td>0.162186</td>\n",
       "    </tr>\n",
       "    <tr>\n",
       "      <th>24</th>\n",
       "      <td>800</td>\n",
       "      <td>4</td>\n",
       "      <td>0.9486</td>\n",
       "      <td>0.017386</td>\n",
       "      <td>0.167842</td>\n",
       "    </tr>\n",
       "    <tr>\n",
       "      <th>25</th>\n",
       "      <td>1600</td>\n",
       "      <td>0</td>\n",
       "      <td>0.9483</td>\n",
       "      <td>0.018519</td>\n",
       "      <td>0.169426</td>\n",
       "    </tr>\n",
       "    <tr>\n",
       "      <th>26</th>\n",
       "      <td>1600</td>\n",
       "      <td>1</td>\n",
       "      <td>0.9486</td>\n",
       "      <td>0.017268</td>\n",
       "      <td>0.167701</td>\n",
       "    </tr>\n",
       "    <tr>\n",
       "      <th>27</th>\n",
       "      <td>1600</td>\n",
       "      <td>2</td>\n",
       "      <td>0.9486</td>\n",
       "      <td>0.017742</td>\n",
       "      <td>0.168760</td>\n",
       "    </tr>\n",
       "    <tr>\n",
       "      <th>28</th>\n",
       "      <td>1600</td>\n",
       "      <td>3</td>\n",
       "      <td>0.9485</td>\n",
       "      <td>0.017349</td>\n",
       "      <td>0.168087</td>\n",
       "    </tr>\n",
       "    <tr>\n",
       "      <th>29</th>\n",
       "      <td>1600</td>\n",
       "      <td>4</td>\n",
       "      <td>0.9485</td>\n",
       "      <td>0.017322</td>\n",
       "      <td>0.167928</td>\n",
       "    </tr>\n",
       "  </tbody>\n",
       "</table>\n",
       "</div>"
      ],
      "text/plain": [
       "       M  seed  acc_laplace  ece_laplace  nll_laplace\n",
       "0     50     0       0.9485     0.010187     0.158365\n",
       "1     50     1       0.9476     0.010145     0.158803\n",
       "2     50     2       0.9483     0.010542     0.159039\n",
       "3     50     3       0.9487     0.010653     0.157966\n",
       "4     50     4       0.9486     0.010607     0.159606\n",
       "5    100     0       0.9484     0.006256     0.158606\n",
       "6    100     1       0.9483     0.009772     0.158920\n",
       "7    100     2       0.9484     0.005684     0.158612\n",
       "8    100     3       0.9492     0.006003     0.156168\n",
       "9    100     4       0.9476     0.005810     0.160516\n",
       "10   200     0       0.9485     0.018699     0.170147\n",
       "11   200     1       0.9476     0.010214     0.158629\n",
       "12   200     2       0.9485     0.018538     0.169792\n",
       "13   200     3       0.9485     0.019059     0.170762\n",
       "14   200     4       0.9485     0.018817     0.170414\n",
       "15   400     0       0.9487     0.017541     0.168027\n",
       "16   400     1       0.9487     0.017948     0.168684\n",
       "17   400     2       0.9486     0.014209     0.162916\n",
       "18   400     3       0.9486     0.017368     0.167872\n",
       "19   400     4       0.9481     0.015862     0.164926\n",
       "20   800     0       0.9486     0.017275     0.167692\n",
       "21   800     1       0.9482     0.017128     0.166284\n",
       "22   800     2       0.9487     0.016692     0.166910\n",
       "23   800     3       0.9483     0.014389     0.162186\n",
       "24   800     4       0.9486     0.017386     0.167842\n",
       "25  1600     0       0.9483     0.018519     0.169426\n",
       "26  1600     1       0.9486     0.017268     0.167701\n",
       "27  1600     2       0.9486     0.017742     0.168760\n",
       "28  1600     3       0.9485     0.017349     0.168087\n",
       "29  1600     4       0.9485     0.017322     0.167928"
      ]
     },
     "execution_count": 24,
     "metadata": {},
     "output_type": "execute_result"
    }
   ],
   "source": [
    "metrics_gp"
   ]
  },
  {
   "cell_type": "code",
   "execution_count": null,
   "metadata": {},
   "outputs": [],
   "source": [
    "metrics_gp.to_csv(f\"results/{EXPERIMENT_NAME}\")"
   ]
  },
  {
   "cell_type": "markdown",
   "metadata": {},
   "source": [
    "## 4) results"
   ]
  },
  {
   "cell_type": "code",
   "execution_count": null,
   "metadata": {},
   "outputs": [],
   "source": [
    "metrics_gp = pd.read_csv(f\"results/{EXPERIMENT_NAME}\")"
   ]
  },
  {
   "cell_type": "code",
   "execution_count": null,
   "metadata": {},
   "outputs": [
    {
     "data": {
      "image/png": "[encoded data removed]",
      "text/plain": [
       "<Figure size 432x288 with 1 Axes>"
      ]
     },
     "metadata": {
      "needs_background": "light"
     },
     "output_type": "display_data"
    },
    {
     "data": {
      "image/png": "[encoded data removed]",
      "text/plain": [
       "<Figure size 432x288 with 1 Axes>"
      ]
     },
     "metadata": {
      "needs_background": "light"
     },
     "output_type": "display_data"
    },
    {
     "data": {
      "image/png": "[encoded data removed]",
      "text/plain": [
       "<Figure size 432x288 with 1 Axes>"
      ]
     },
     "metadata": {
      "needs_background": "light"
     },
     "output_type": "display_data"
    }
   ],
   "source": [
    "for metric in [\"acc_laplace\", \"ece_laplace\", \"nll_laplace\"]:\n",
    "    metrics_gp.groupby(by=\"M\")[[metric]].mean().rename({metric: \"GPLaplace\"}, axis=1).plot(style=\"-bo\")\n",
    "    plt.axhline(y=MAP_METRICS[metric[:3]], label=\"MAP\", color=\"red\")\n",
    "    plt.axhline(y=PARAM_LAPLACE_METRICS[metric[:3]], label=\"ParamLaplace\", color=\"green\")\n",
    "    plt.title(metric[:3])\n",
    "    plt.legend()\n",
    "    plt.show()"
   ]
  },
  {
   "cell_type": "code",
   "execution_count": null,
   "metadata": {},
   "outputs": [],
   "source": []
  }
 ],
 "metadata": {
  "kernelspec": {
   "display_name": "laplace",
   "language": "python",
   "name": "python3"
  },
  "language_info": {
   "codemirror_mode": {
    "name": "ipython",
    "version": 3
   },
   "file_extension": ".py",
   "mimetype": "text/x-python",
   "name": "python",
   "nbconvert_exporter": "python",
   "pygments_lexer": "ipython3",
   "version": "3.8.15"
  },
  "vscode": {
   "interpreter": {
    "hash": "fb9941f3b25f5f153e5f3cb3566d0301dfcc8b18d6fc5fb792c740611c084a6a"
   }
  }
 },
 "nbformat": 4,
 "nbformat_minor": 0
}
